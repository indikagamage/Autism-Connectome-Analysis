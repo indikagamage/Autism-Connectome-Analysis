{
 "cells": [
  {
   "cell_type": "markdown",
   "metadata": {},
   "source": [
    "# Utility Scripts\n",
    "This script contains some usefil scripts\n",
    "1. Executing a bash command from python\n",
    "2. Command to convert byte string to ascii\n",
    "3. Expand the environment variables in the string\n",
    "4. Using Regular Expression to extract subject ID from the file path\n",
    "5. Parallel Execution of a loop - Part 1\n",
    "6. Parallel Execution of a loop - Part 2 (Passing Shared arrays/objects)\n"
   ]
  },
  {
   "cell_type": "markdown",
   "metadata": {},
   "source": [
    "### 1. Executing a bash command from python\n",
    "> This script executes the fslmaths command to invert the mask i.e. 1 -> 0 and 0 -> 1"
   ]
  },
  {
   "cell_type": "code",
   "execution_count": 2,
   "metadata": {},
   "outputs": [
    {
     "name": "stdout",
     "output_type": "stream",
     "text": [
      "The commandline is: fslmaths /usr/share/fsl/5.0/data/standard/MNI152_T1_2mm_brain_mask.nii.gz -mul -1 -add 1 mask_inverted\n"
     ]
    }
   ],
   "source": [
    "import subprocess\n",
    "import os\n",
    "from os.path import join as opj\n",
    "\n",
    "mask = os.path.expandvars('$FSLDIR/data/standard/MNI152_T1_2mm_brain_mask.nii.gz')\n",
    "\n",
    "proc = subprocess.Popen(['fslmaths', mask, '-mul', '-1', '-add' ,'1', 'mask_inverted'], \n",
    "                         stdout=subprocess.PIPE)\n",
    "stdoutdata= proc.communicate()\n",
    "\n",
    "# To check how the command was executed in cmdline\n",
    "\n",
    "print(\"The commandline is: {}\".format(subprocess.list2cmdline(proc.args)))\n",
    "\n",
    "cwd = os.getcwd()\n",
    "\n",
    "mask_inverted_path = opj(cwd, 'mask_inverted.nii.gz')"
   ]
  },
  {
   "cell_type": "markdown",
   "metadata": {},
   "source": [
    "### 2. Byte string to ASCII"
   ]
  },
  {
   "cell_type": "code",
   "execution_count": null,
   "metadata": {
    "collapsed": true
   },
   "outputs": [],
   "source": [
    "asciiString = byteString.decode(\"utf-8\")"
   ]
  },
  {
   "cell_type": "markdown",
   "metadata": {},
   "source": [
    "### 3. Expand the environment variables in the string "
   ]
  },
  {
   "cell_type": "code",
   "execution_count": 3,
   "metadata": {},
   "outputs": [
    {
     "data": {
      "text/plain": [
       "'/usr/share/fsl/5.0'"
      ]
     },
     "execution_count": 3,
     "metadata": {},
     "output_type": "execute_result"
    }
   ],
   "source": [
    "import os\n",
    "\n",
    "os.path.expandvars('$FSLDIR')"
   ]
  },
  {
   "cell_type": "markdown",
   "metadata": {},
   "source": [
    "### 4. Using Regular Expression to extract subject ID from the file path"
   ]
  },
  {
   "cell_type": "code",
   "execution_count": null,
   "metadata": {
    "collapsed": true
   },
   "outputs": [],
   "source": [
    "import re \n",
    "\n",
    "anat_path = '/coreg_reg/_subject_id_0050002/anat2std_reg/sub-0050002_T1w_resample_brain_flirt.nii'\n",
    "sub_id_extracted = re.search('.+_subject_id_(\\d+)', anat_path).group(1)"
   ]
  },
  {
   "cell_type": "markdown",
   "metadata": {},
   "source": [
    "### 5. Parallel Execution of a loop - Part 1\n",
    "\n",
    "input_list = np.arange(100)\n",
    "\n",
    "```\n",
    "for i in range(100):\n",
    "    function_perform_action(input_list[i])\n",
    "```"
   ]
  },
  {
   "cell_type": "code",
   "execution_count": null,
   "metadata": {
    "collapsed": true
   },
   "outputs": [],
   "source": [
    "from multiprocessing import Pool\n",
    "import multiprocessing.managers\n",
    "\n",
    "input_list = np.arange(100)\n",
    "m = MyManager()\n",
    "m.start()\n",
    "\n",
    "# Create pool of 8 workers i.e. 8 processors will be utilized\n",
    "pool = Pool(8)\n",
    "\n",
    "# Execute the function - function_perform_action() with the inputs from input_list\n",
    "pool.map(function_perform_action, input_list)"
   ]
  },
  {
   "cell_type": "markdown",
   "metadata": {},
   "source": [
    "### 6. Parallel Execution of a loop - Part 2 (Passing Shared arrays/objects)\n",
    "This function distributes a shared object (ndArray in our case) and then wait for the workers to compute and fill up the object.\n",
    "\n",
    "input_list = np.arange(100)  \n",
    "sharedMatrix = np.zeros((100,100))\n",
    "\n",
    "```\n",
    "for i in range(100):\n",
    "    function_compute(sharedMatrix,input_list[i])\n",
    "```\n",
    "\n",
    "**Result** - sharedMatrix with entries computed by function_compute  \n",
    "**Note** - Other global arrays can also be sent to the workers in the similar way"
   ]
  },
  {
   "cell_type": "code",
   "execution_count": 6,
   "metadata": {},
   "outputs": [],
   "source": [
    "from functools import partial\n",
    "from multiprocessing import Pool\n",
    "import multiprocessing.managers\n",
    "\n",
    "input_list = np.arange(100)\n",
    "sharedMatrix = np.zeros((100,100))\n",
    "\n",
    "m = MyManager()\n",
    "m.start()\n",
    "\n",
    "func = partial(function_compute, sharedMatrix )\n",
    "\n",
    "# Create pool of 8 workers\n",
    "pool = Pool(8)\n",
    "\n",
    "pool.map(func, input_list)\n",
    "\n",
    "# or if you expect some returning outut then:\n",
    "# data_outputs = pool.map(func, input_list)\n"
   ]
  },
  {
   "cell_type": "code",
   "execution_count": null,
   "metadata": {
    "collapsed": true
   },
   "outputs": [],
   "source": []
  },
  {
   "cell_type": "code",
   "execution_count": null,
   "metadata": {
    "collapsed": true
   },
   "outputs": [],
   "source": []
  },
  {
   "cell_type": "code",
   "execution_count": null,
   "metadata": {
    "collapsed": true
   },
   "outputs": [],
   "source": [
    "# # For passing on the shared file:\n",
    "# class MyManager(multiprocessing.managers.BaseManager):\n",
    "#     pass\n",
    "# MyManager.register('np_zeros', np.zeros, multiprocessing.managers.ArrayProxy)"
   ]
  },
  {
   "cell_type": "code",
   "execution_count": null,
   "metadata": {
    "collapsed": true
   },
   "outputs": [],
   "source": []
  },
  {
   "cell_type": "code",
   "execution_count": 1,
   "metadata": {},
   "outputs": [
    {
     "data": {
      "text/plain": [
       "'/usr/share/fsl/5.0'"
      ]
     },
     "execution_count": 1,
     "metadata": {},
     "output_type": "execute_result"
    }
   ],
   "source": [
    "import os\n",
    "os.path.expandvars('$FSLDIR')"
   ]
  },
  {
   "cell_type": "code",
   "execution_count": null,
   "metadata": {
    "collapsed": true
   },
   "outputs": [],
   "source": [
    "/usr/share/fsl/5.0/data/standard/MNI152_T1_2mm_brain_mask.nii.gz"
   ]
  }
 ],
 "metadata": {
  "kernelspec": {
   "display_name": "Python 3",
   "language": "python",
   "name": "python3"
  },
  "language_info": {
   "codemirror_mode": {
    "name": "ipython",
    "version": 3
   },
   "file_extension": ".py",
   "mimetype": "text/x-python",
   "name": "python",
   "nbconvert_exporter": "python",
   "pygments_lexer": "ipython3",
   "version": "3.5.2"
  }
 },
 "nbformat": 4,
 "nbformat_minor": 2
}
