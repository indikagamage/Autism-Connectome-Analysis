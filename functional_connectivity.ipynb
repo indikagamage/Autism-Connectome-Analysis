{
 "cells": [
  {
   "cell_type": "markdown",
   "metadata": {},
   "source": [
    "# Functional Connectivity\n",
    "1. [x] Create a BIDS object\n",
    "2. [x] Read the Atlas\n",
    "3. [x] Create BIDSDataGrabber Node\n",
    "4. [] Create a FC Node which does the following for each subject - \n",
    "    5. [] Extract ROI time series.\n",
    "    6. [] Create FC Maps [ROI x Voxels]\n",
    "    7. [] Group it in one of two groups: Autistic and TD"
   ]
  },
  {
   "cell_type": "code",
   "execution_count": 10,
   "metadata": {
    "collapsed": true
   },
   "outputs": [],
   "source": [
    "from bids.grabbids import BIDSLayout\n",
    "from nipype.interfaces.fsl import (BET, ExtractROI, FAST, FLIRT, ImageMaths,\n",
    "                                   MCFLIRT, SliceTimer, Threshold,Info)\n",
    "from nipype.interfaces.afni import Resample\n",
    "from nipype.interfaces.io import DataSink\n",
    "from nipype.pipeline import Node, MapNode, Workflow\n",
    "from nipype.interfaces.utility import IdentityInterface, Function\n",
    "import os\n",
    "from os.path import join as opj\n",
    "from nipype.interfaces import afni\n",
    "import nibabel as nib\n",
    "import numpy as np"
   ]
  },
  {
   "cell_type": "code",
   "execution_count": 11,
   "metadata": {
    "collapsed": true
   },
   "outputs": [],
   "source": [
    "# Set paths\n",
    "\n",
    "path_cwd = os.getcwd()\n",
    "path_split_list = path_cwd.split('/')\n",
    "s = path_split_list[0:-1]\n",
    "s = opj('/',*s) # *s converts list to path, # also it is very important to add '/' in the begining so it is read as directory later\n",
    "base_directory = opj(s,'result')\n",
    "data_directory = opj(s,\"data/ABIDE-BIDS-Preprocessed/NYU/\")\n",
    "\n",
    "mask_file = os.path.expandvars('$FSLDIR/data/standard/MNI152_T1_2mm_brain_mask.nii.gz')"
   ]
  },
  {
   "cell_type": "code",
   "execution_count": 12,
   "metadata": {
    "collapsed": true
   },
   "outputs": [],
   "source": [
    "number_of_subjects = 4 # Number of subjects you wish to preprocess\n",
    "\n"
   ]
  },
  {
   "cell_type": "code",
   "execution_count": 13,
   "metadata": {
    "collapsed": true
   },
   "outputs": [],
   "source": [
    "layout = BIDSLayout(data_directory)"
   ]
  },
  {
   "cell_type": "code",
   "execution_count": null,
   "metadata": {
    "collapsed": true
   },
   "outputs": [],
   "source": []
  },
  {
   "cell_type": "code",
   "execution_count": 14,
   "metadata": {},
   "outputs": [
    {
     "data": {
      "text/plain": [
       "['0050952', '0050953', '0050954', '0050955']"
      ]
     },
     "execution_count": 14,
     "metadata": {},
     "output_type": "execute_result"
    }
   ],
   "source": [
    "layout.get_subjects() # list the subject IDs of all the subjects"
   ]
  },
  {
   "cell_type": "code",
   "execution_count": 15,
   "metadata": {
    "collapsed": true
   },
   "outputs": [],
   "source": [
    "subject_id = layout.get_subjects()[0] # gives the first subject's ID\n",
    "\n",
    "# Below command gies a list of pathnames\n",
    "func_file_path = [f.filename for f in layout.get(subject=subject_id, type='bold', extensions=['nii', 'nii.gz'])]\n",
    "# anat_file_path = [f.filename for f in layout.get(subject=subject_id, type='T1w', extensions=['nii', 'nii.gz'])]\n",
    "\n",
    "\n",
    "metadata = layout.get_metadata(path=func_file_path[0])"
   ]
  },
  {
   "cell_type": "code",
   "execution_count": 16,
   "metadata": {},
   "outputs": [
    {
     "data": {
      "text/plain": [
       "[File(filename='/home/jovyan/work/preprocess/data/ABIDE-BIDS-Preprocessed/NYU/sub-0050952/anat/sub-0050952_T1w.nii.gz', type='T1w', modality='anat', subject='0050952'),\n",
       " File(filename='/home/jovyan/work/preprocess/data/ABIDE-BIDS-Preprocessed/NYU/sub-0050952/func/sub-0050952_task-rest_run-1_bold.nii.gz', type='bold', task='rest', run='1', modality='func', subject='0050952')]"
      ]
     },
     "execution_count": 16,
     "metadata": {},
     "output_type": "execute_result"
    }
   ],
   "source": [
    "layout.get(subject=subject_id) # I used this to see the 'type' arg for anatomical and functional files "
   ]
  },
  {
   "cell_type": "code",
   "execution_count": 17,
   "metadata": {},
   "outputs": [
    {
     "data": {
      "text/plain": [
       "['/home/jovyan/work/preprocess/data/ABIDE-BIDS-Preprocessed/NYU/sub-0050952/func/sub-0050952_task-rest_run-1_bold.nii.gz']"
      ]
     },
     "execution_count": 17,
     "metadata": {},
     "output_type": "execute_result"
    }
   ],
   "source": [
    "func_file_path# , anat_file_path"
   ]
  },
  {
   "cell_type": "code",
   "execution_count": 18,
   "metadata": {
    "collapsed": true
   },
   "outputs": [],
   "source": [
    "# imoportant specs about functional data\n",
    "\n",
    "TR  = metadata['RepetitionTime']\n",
    "\n",
    "num_volumes = int(metadata['NumberofMeasurements']) - 4 \n",
    "\n",
    "metadata; # just add or remove the semicolon to supress or see the output\n",
    "\n"
   ]
  },
  {
   "cell_type": "code",
   "execution_count": 19,
   "metadata": {
    "collapsed": true
   },
   "outputs": [],
   "source": [
    "# code to find how many voxels are in the brain region using the mask\n",
    "\n",
    "num_brain_voxels = 0\n",
    "mask_data = nib.load(mask_file)\n",
    "mask = mask_data.get_data()\n",
    "\n",
    "x_dim, y_dim, z_dim = mask_data.shape\n",
    "\n",
    "for i in range(x_dim):\n",
    "    for j in range(y_dim):\n",
    "        for k in range(z_dim):\n",
    "            if mask[i,j,k] == 1:\n",
    "                num_brain_voxels = num_brain_voxels + 1\n"
   ]
  },
  {
   "cell_type": "code",
   "execution_count": 20,
   "metadata": {},
   "outputs": [
    {
     "data": {
      "text/plain": [
       "228483"
      ]
     },
     "execution_count": 20,
     "metadata": {},
     "output_type": "execute_result"
    }
   ],
   "source": [
    "num_brain_voxels"
   ]
  },
  {
   "cell_type": "code",
   "execution_count": 21,
   "metadata": {},
   "outputs": [
    {
     "data": {
      "text/plain": [
       "{u'AcquisitionDuration': u'6:00',\n",
       " u'AcquisitionMatrix': u'80x64',\n",
       " u'EchoTime': 0.015,\n",
       " u'FieldofViewDimensions': u'240x192',\n",
       " u'FieldofViewShape': u'Rectangular',\n",
       " u'FlipAngle': 90,\n",
       " u'Instructions': u'Most participants were asked to relax with their eyes open, while a white cross-hair against a black background was projected on a screen. However, data were also included for some individuals who were asked to keep their eyes closed',\n",
       " u'MagneicFieldStrength': 3,\n",
       " u'Manufacturer': u'Siemens',\n",
       " u'ManufacturersModelName': u'Allegra',\n",
       " u'NumberOfSlices': 33.0,\n",
       " u'NumberofMeasurements': 180.0,\n",
       " u'ParallelAcquisition': u'No',\n",
       " u'PhaseEncodingDirection': u'i',\n",
       " u'PixelBandwidth': 3906.0,\n",
       " u'PixelSpacing': u'3x3',\n",
       " u'PlaneOrientationSequentialuence': u'Axial > Coronal -23',\n",
       " u'PulseSequenceType': u'EPI',\n",
       " u'ReceiveCoilType': u'Head',\n",
       " u'RepetitionTime': 2.0,\n",
       " u'ScanOptions': u'FS',\n",
       " u'SliceAcquisitionOrder': u'Interleaved Ascending',\n",
       " u'SliceEncodingDirection': u'k',\n",
       " u'SliceThickness': 4.0,\n",
       " u'SliceTiming': [0.0,\n",
       "  1030.3,\n",
       "  60.61,\n",
       "  1090.91,\n",
       "  121.21,\n",
       "  1151.52,\n",
       "  181.82,\n",
       "  1212.12,\n",
       "  242.42,\n",
       "  1272.73,\n",
       "  303.03,\n",
       "  1333.33,\n",
       "  363.64,\n",
       "  1393.94,\n",
       "  424.24,\n",
       "  1454.55,\n",
       "  484.85,\n",
       "  1515.15,\n",
       "  545.45,\n",
       "  1575.76,\n",
       "  606.06,\n",
       "  1636.36,\n",
       "  666.67,\n",
       "  1696.97,\n",
       "  727.27,\n",
       "  1757.58,\n",
       "  787.88,\n",
       "  1818.18,\n",
       "  848.48,\n",
       "  1878.79,\n",
       "  909.09,\n",
       "  1939.39,\n",
       "  969.7],\n",
       " u'SpacingBetweenSlices': 4.0,\n",
       " u'TaskDescription': u' During the resting state fMRI scan, most participants were asked to relax with their eyes open, while a white cross-hair against a black background was projected on a screen. However, data were also included for some individuals who were asked to keep their eyes closed; in a few cases, participants closed their eyes regardless of instructions to maintain them open. Eye status during the MRI scan was monitored via an eye tracker and is detailed for each participant.',\n",
       " u'TaskName': u'rest'}"
      ]
     },
     "execution_count": 21,
     "metadata": {},
     "output_type": "execute_result"
    }
   ],
   "source": [
    "metadata\n",
    "# The metadata doesnot contain the true specs of the brain files as the brain files are now preprocessed.\n",
    "# Only some fields are consistent now. For example SpacingBetweenSlices, SliceTiming are NOT valid anymore.\n",
    "# RepetitionTime is still valid.\n",
    "# NumberofMeasurements is invalid as 4 initial volumes are skipped\n",
    "# So, use carefully."
   ]
  },
  {
   "cell_type": "markdown",
   "metadata": {},
   "source": [
    "## Atlas"
   ]
  },
  {
   "cell_type": "code",
   "execution_count": 22,
   "metadata": {
    "collapsed": true
   },
   "outputs": [],
   "source": [
    "# Put in the path of atlas you wish to use\n",
    "atlasPath = opj(s,'atlas/Full_brain_atlas_thr0-2mm/fullbrain_atlas_thr0-2mm.nii.gz')"
   ]
  },
  {
   "cell_type": "code",
   "execution_count": 23,
   "metadata": {
    "collapsed": true
   },
   "outputs": [],
   "source": [
    "# Read the atlas\n",
    "atlasObject = nib.load(atlasPath)\n",
    "atlas = atlasObject.get_data()"
   ]
  },
  {
   "cell_type": "markdown",
   "metadata": {},
   "source": [
    "### Lets see the number of regions in the atlas and display the atlas."
   ]
  },
  {
   "cell_type": "code",
   "execution_count": 24,
   "metadata": {},
   "outputs": [
    {
     "name": "stdout",
     "output_type": "stream",
     "text": [
      "('Min Index:', 0.0, 'Max Index', 274.0)\n",
      "('Total Number of Parcellations = ', 274)\n"
     ]
    }
   ],
   "source": [
    "num_ROIs = int((np.max(atlas) - np.min(atlas) ))\n",
    "\n",
    "print('Min Index:', np.min(atlas),'Max Index', np.max(atlas))\n",
    "print('Total Number of Parcellations = ',num_ROIs)"
   ]
  },
  {
   "cell_type": "markdown",
   "metadata": {},
   "source": [
    "Index 0.0 denotes the regin of the scan which does not contain brain voxel.\n",
    "\n",
    "Let's display the atlas."
   ]
  },
  {
   "cell_type": "code",
   "execution_count": 25,
   "metadata": {},
   "outputs": [
    {
     "name": "stderr",
     "output_type": "stream",
     "text": [
      "/opt/conda/envs/python2/lib/python2.7/site-packages/matplotlib/__init__.py:1405: UserWarning: \n",
      "This call to matplotlib.use() has no effect because the backend has already\n",
      "been chosen; matplotlib.use() must be called *before* pylab, matplotlib.pyplot,\n",
      "or matplotlib.backends is imported for the first time.\n",
      "\n",
      "  warnings.warn(_use_error_msg)\n",
      "/opt/conda/envs/python2/lib/python2.7/site-packages/matplotlib/cbook.py:136: MatplotlibDeprecationWarning: The axisbg attribute was deprecated in version 2.0. Use facecolor instead.\n",
      "  warnings.warn(message, mplDeprecation, stacklevel=1)\n"
     ]
    },
    {
     "data": {
      "text/plain": [
       "<nilearn.plotting.displays.OrthoSlicer at 0x7f03e1831610>"
      ]
     },
     "execution_count": 25,
     "metadata": {},
     "output_type": "execute_result"
    },
    {
     "data": {
      "image/png": "[encoded data removed]",
      "text/plain": [
       "<matplotlib.figure.Figure at 0x7f03e75771d0>"
      ]
     },
     "metadata": {},
     "output_type": "display_data"
    }
   ],
   "source": [
    "%matplotlib inline\n",
    "from nilearn import plotting\n",
    "plotting.plot_roi(atlasObject)\n"
   ]
  },
  {
   "cell_type": "markdown",
   "metadata": {},
   "source": [
    "## Read the data files using BIDSGrabber"
   ]
  },
  {
   "cell_type": "code",
   "execution_count": 17,
   "metadata": {
    "collapsed": true
   },
   "outputs": [],
   "source": [
    "# List of Subject IDs\n",
    "\n",
    "subject_list = (layout.get_subjects())[0:number_of_subjects]"
   ]
  },
  {
   "cell_type": "markdown",
   "metadata": {},
   "source": [
    "Create our own custom function - BIDSDataGrabber using a Function Interface."
   ]
  },
  {
   "cell_type": "code",
   "execution_count": 18,
   "metadata": {
    "collapsed": true
   },
   "outputs": [],
   "source": [
    "def get_nifti_filenames(subject_id,data_dir):\n",
    "#     Remember that all the necesary imports need to be INSIDE the function for the Function Interface to work!\n",
    "    from bids.grabbids import BIDSLayout\n",
    "    \n",
    "    layout = BIDSLayout(data_dir)\n",
    "    \n",
    "    anat_file_path = [f.filename for f in layout.get(subject=subject_id, type='T1w', extensions=['nii', 'nii.gz'])]\n",
    "    func_file_path = [f.filename for f in layout.get(subject=subject_id, type='bold', extensions=['nii', 'nii.gz'])]\n",
    "    \n",
    "    return anat_file_path[0],func_file_path[0]\n",
    "\n",
    "# Refer to Supplementary material section One for info on arguments for layout.get()"
   ]
  },
  {
   "cell_type": "markdown",
   "metadata": {},
   "source": [
    "Wrap it inside a Node"
   ]
  },
  {
   "cell_type": "code",
   "execution_count": 19,
   "metadata": {
    "collapsed": true
   },
   "outputs": [],
   "source": [
    "BIDSDataGrabber = Node(Function(function=get_nifti_filenames, input_names=['subject_id','data_dir'],\n",
    "                                output_names=['anat_file_path','func_file_path']), name='BIDSDataGrabber')\n",
    "BIDSDataGrabber.iterables = [('subject_id',subject_list)]\n",
    "BIDSDataGrabber.inputs.data_dir = data_directory"
   ]
  },
  {
   "cell_type": "code",
   "execution_count": 20,
   "metadata": {
    "collapsed": true
   },
   "outputs": [],
   "source": [
    "# To test the function wrapped in the node\n",
    "\n",
    "# BIDSDataGrabber.inputs.data_dir = data_directory\n",
    "# BIDSDataGrabber.inputs.subject_id = layout.get_subjects()[0] # gives the first subject's ID\n",
    "# res = BIDSDataGrabber.run()\n",
    "\n",
    "# res.outputs"
   ]
  },
  {
   "cell_type": "markdown",
   "metadata": {},
   "source": [
    "## Create a FC node\n",
    "\n",
    "This node:\n",
    "1. Exracts the average time series of the brain ROI's using the atlas and stores \n",
    "    it as a matrix of size [ROIs x Volumes].\n",
    "2. Extracts the Voxel time series and stores it in matrix of size [Voxels x Volumes]\n"
   ]
  },
  {
   "cell_type": "markdown",
   "metadata": {},
   "source": [
    "TODO: Check how nifti masker works. How does it summarize an ROI? Does it take the mean of all the voxels?"
   ]
  },
  {
   "cell_type": "code",
   "execution_count": 21,
   "metadata": {
    "collapsed": true
   },
   "outputs": [],
   "source": [
    "# Initialize a matrix of ROI time series and voxel time series\n",
    "\n",
    "ROI_matrix = np.zeros((num_ROIs, num_volumes))\n",
    "voxel_matrix = np.zeros((num_brain_voxels, num_volumes))"
   ]
  },
  {
   "cell_type": "code",
   "execution_count": 22,
   "metadata": {},
   "outputs": [
    {
     "data": {
      "text/plain": [
       "'0050952'"
      ]
     },
     "execution_count": 22,
     "metadata": {},
     "output_type": "execute_result"
    }
   ],
   "source": [
    "func_file_path[0].split('/')[-1].split('.')[0].split('_')[0].split('-')[1]"
   ]
  },
  {
   "cell_type": "code",
   "execution_count": 23,
   "metadata": {
    "collapsed": true
   },
   "outputs": [],
   "source": [
    "# Fill up the voxel_matrix \n",
    "\n",
    "brain_data = nib.load(func_file_path[0])\n",
    "brain = brain_data.get_data()\n",
    "\n",
    "# %time gives incorrect time. check!\n",
    "x_dim, y_dim, z_dim, _ = brain.shape\n",
    "\n",
    "voxel_counter = 0\n",
    "for i in range(x_dim):\n",
    "    for j in range(y_dim):\n",
    "        for k in range(z_dim):\n",
    "            if mask[i,j,k] == 1:\n",
    "                voxel_matrix[voxel_counter,:] = brain[i,j,k,:] \n",
    "                voxel_counter = voxel_counter + 1\n",
    "\n",
    "\n"
   ]
  },
  {
   "cell_type": "code",
   "execution_count": 24,
   "metadata": {},
   "outputs": [
    {
     "name": "stdout",
     "output_type": "stream",
     "text": [
      "CPU times: user 0 ns, sys: 0 ns, total: 0 ns\n",
      "Wall time: 5.01 µs\n"
     ]
    }
   ],
   "source": [
    "# Fill up the ROI_matrix\n",
    "% time\n",
    "# Keep track of number of voxels per ROI as well by using an array - num_voxels_in_ROI[]\n",
    "\n",
    "num_voxels_in_ROI = np.zeros((num_ROIs,1)) # A column arrray containing number of voxels in each ROI\n",
    "\n",
    "for i in range(x_dim):\n",
    "    for j in range(y_dim):\n",
    "        for k in range(z_dim):\n",
    "            label = int(atlas[i,j,k]) - 1\n",
    "            if label != -1:\n",
    "                ROI_matrix[label,:] = np.add(ROI_matrix[label,:], brain[i,j,k,:])\n",
    "                num_voxels_in_ROI[label,0] = num_voxels_in_ROI[label,0] + 1\n",
    "                \n",
    "ROI_matrix = np.divide(ROI_matrix,num_voxels_in_ROI) # Check if divide is working correctly\n"
   ]
  },
  {
   "cell_type": "code",
   "execution_count": 25,
   "metadata": {
    "collapsed": true
   },
   "outputs": [],
   "source": [
    "# Calculate the Correlation matrix [ROI x Voxels]\n",
    "# Check if numpy's correlation function expects the mean centered data or not\n",
    "# -> Couldn't find out. So make your own function to calculate pearson correlation "
   ]
  },
  {
   "cell_type": "code",
   "execution_count": 26,
   "metadata": {},
   "outputs": [
    {
     "name": "stdout",
     "output_type": "stream",
     "text": [
      "Temp1 Done\n",
      "Temp2 Done\n",
      "Temp3 Done\n",
      "Temp4 Done\n",
      "Pear Done\n"
     ]
    }
   ],
   "source": [
    "X, Y = ROI_matrix, voxel_matrix\n",
    "# Subtract mean from X and Y\n",
    "\n",
    "X = np.subtract(X, np.mean(X))\n",
    "Y = np.subtract(Y, np.mean(Y))\n",
    "\n",
    "temp1 = np.dot(X,Y.T)\n",
    "print \"Temp1 Done\"\n",
    "temp2 = np.sqrt(np.multiply(X,X))\n",
    "print \"Temp2 Done\"\n",
    "temp3 = np.sqrt(np.multiply(Y,Y)).T\n",
    "print \"Temp3 Done\"\n",
    "temp4 = np.dot(temp2,temp3)\n",
    "print \"Temp4 Done\"\n",
    "pear = np.divide(temp1, (temp4+0.0001))\n",
    "print \"Pear Done\""
   ]
  },
  {
   "cell_type": "code",
   "execution_count": 27,
   "metadata": {},
   "outputs": [
    {
     "data": {
      "text/plain": [
       "(274, 228483)"
      ]
     },
     "execution_count": 27,
     "metadata": {},
     "output_type": "execute_result"
    }
   ],
   "source": [
    "pear.shape"
   ]
  },
  {
   "cell_type": "markdown",
   "metadata": {},
   "source": [
    "Looks gr8!"
   ]
  },
  {
   "cell_type": "markdown",
   "metadata": {},
   "source": [
    "1. Now, Lets encapsulate the above code inside a function and then in a node that will take as input the func file path and creates the FC map for that.\n",
    "\n",
    "2. Next Node will be a join node that will create a two groups\n",
    "\n",
    "3. Can we do the 1step by using some other node type like map?"
   ]
  },
  {
   "cell_type": "code",
   "execution_count": 28,
   "metadata": {},
   "outputs": [],
   "source": [
    "# Create a the function\n",
    "\n",
    "def pear_coff(in_file, atlas, num_brain_voxels, mask):\n",
    "    \n",
    "    # imports\n",
    "    import numpy as np\n",
    "    import nibabel as nib\n",
    "    import os\n",
    "    from os.path import join as opj\n",
    "    \n",
    "#     # Put in the path of atlas you wish to use\n",
    "#     atlasPath = opj(s,'atlas/Full_brain_atlas_thr0-2mm/fullbrain_atlas_thr0-2mm.nii.gz')\n",
    "    \n",
    "#     # Read the atlas\n",
    "#     atlasObject = nib.load(atlasPath)\n",
    "#     atlas = atlasObject.get_data()\n",
    "    os.chdir('/home/jovyan/work/preprocess/temp/')\n",
    "    \n",
    "    \n",
    "    num_ROIs = int((np.max(atlas) - np.min(atlas) ))\n",
    "\n",
    "#     print('Min Index:', np.min(atlas),'Max Index', np.max(atlas))\n",
    "#     print('Total Number of Parcellations = ',num_ROIs)\n",
    "    \n",
    "    \n",
    "    \n",
    "    # Read the brain in_file\n",
    "\n",
    "    brain_data = nib.load(in_file)\n",
    "    brain = brain_data.get_data()\n",
    "\n",
    "    # %time gives incorrect time. check!\n",
    "    x_dim, y_dim, z_dim, num_volumes = brain.shape\n",
    "\n",
    "    \n",
    "    # Initialize a matrix of ROI time series and voxel time series\n",
    "\n",
    "    ROI_matrix = np.zeros((num_ROIs, num_volumes))\n",
    "    voxel_matrix = np.zeros((num_brain_voxels, num_volumes))\n",
    "    \n",
    "    # Fill up the voxel_matrix \n",
    "#     print 'Filling up the voxel matrix'\n",
    "    voxel_counter = 0\n",
    "    for i in range(x_dim):\n",
    "        for j in range(y_dim):\n",
    "            for k in range(z_dim):\n",
    "                if mask[i,j,k] == 1:\n",
    "                    voxel_matrix[voxel_counter,:] = brain[i,j,k,:] \n",
    "                    voxel_counter = voxel_counter + 1\n",
    "    \n",
    "    # Fill up the ROI_matrix\n",
    "    \n",
    "#     print 'FIlling up the ROI matrix'\n",
    "    # Keep track of number of voxels per ROI as well by using an array - num_voxels_in_ROI[]\n",
    "\n",
    "    num_voxels_in_ROI = np.zeros((num_ROIs,1)) # A column arrray containing number of voxels in each ROI\n",
    "\n",
    "    for i in range(x_dim):\n",
    "        for j in range(y_dim):\n",
    "            for k in range(z_dim):\n",
    "                label = int(atlas[i,j,k]) - 1\n",
    "                if label != -1:\n",
    "                    ROI_matrix[label,:] = np.add(ROI_matrix[label,:], brain[i,j,k,:])\n",
    "                    num_voxels_in_ROI[label,0] = num_voxels_in_ROI[label,0] + 1\n",
    "\n",
    "    ROI_matrix = np.divide(ROI_matrix,num_voxels_in_ROI) # Check if divide is working correctly\n",
    "    \n",
    "#     print 'Done'\n",
    "    # Calculate the Correlation matrix [ROI x Voxels]\n",
    "    X, Y = ROI_matrix, voxel_matrix\n",
    "    \n",
    "    # Subtract mean from X and Y\n",
    "    X = np.subtract(X, np.mean(X))\n",
    "    Y = np.subtract(Y, np.mean(Y))\n",
    "\n",
    "    temp1 = np.dot(X,Y.T)\n",
    "    temp2 = np.sqrt(np.multiply(X,X))\n",
    "    temp3 = np.sqrt(np.multiply(Y,Y)).T\n",
    "    temp4 = np.dot(temp2,temp3)\n",
    "    pear_matrix = np.divide(temp1, (temp4+0.0001))\n",
    "#     print \"Pear Done\"\n",
    "    \n",
    "    sub_id = in_file.split('/')[-1].split('.')[0].split('_')[0].split('-')[1]\n",
    "    \n",
    "    fc_file_name = sub_id + 'fc_map'\n",
    "    \n",
    "    np.save(fc_file_name, pear_matrix)\n",
    "    \n",
    "    pear_matrix_file = opj(os.getcwd(),fc_file_name) # path\n",
    "    return pear_matrix_file\n",
    "#     pear_matrix = 1\n",
    "#     return pear_matrix\n",
    "    \n",
    "    "
   ]
  },
  {
   "cell_type": "code",
   "execution_count": 27,
   "metadata": {},
   "outputs": [
    {
     "data": {
      "text/plain": [
       "'/home/jovyan/work/preprocess/Autism-Connectome-Analysis/varun'"
      ]
     },
     "execution_count": 27,
     "metadata": {},
     "output_type": "execute_result"
    }
   ],
   "source": [
    "import os\n",
    "from os.path import join as opj\n",
    "fc_file_name ='varun'\n",
    "fc_file_path = opj(os.getcwd(),fc_file_name)\n",
    "fc_file_path"
   ]
  },
  {
   "cell_type": "code",
   "execution_count": 29,
   "metadata": {},
   "outputs": [],
   "source": [
    "# Create the Node and set default valus to\n",
    "\n",
    "pearcoff = Node(Function(function=pear_coff, input_names=['in_file','atlas','num_brain_voxels','mask'],\n",
    "                                output_names=['pear_matrix']), name='pearcoff')\n",
    "\n",
    "pearcoff.inputs.in_file = func_file_path[0]\n",
    "pearcoff.inputs.atlas = atlas\n",
    "pearcoff.inputs.num_brain_voxels = num_brain_voxels\n",
    "pearcoff.inputs.mask = mask"
   ]
  },
  {
   "cell_type": "code",
   "execution_count": 30,
   "metadata": {},
   "outputs": [
    {
     "name": "stdout",
     "output_type": "stream",
     "text": [
      "171020-19:00:28,516 workflow INFO:\n",
      "\t Executing node pearcoff in dir: /tmp/tmp5HP81o/pearcoff\n"
     ]
    },
    {
     "data": {
      "text/plain": [
       "<nipype.interfaces.base.InterfaceResult at 0x7f0418169650>"
      ]
     },
     "execution_count": 30,
     "metadata": {},
     "output_type": "execute_result"
    }
   ],
   "source": [
    "\n",
    "pearcoff.run()"
   ]
  },
  {
   "cell_type": "code",
   "execution_count": 32,
   "metadata": {
    "collapsed": true
   },
   "outputs": [],
   "source": [
    "# Okay Lets try one more time:\n",
    "# Create a the function\n",
    "\n",
    "def pear_coff_2(in_file, atlas_file, mask_file):\n",
    "    # code to find how many voxels are in the brain region using the mask\n",
    "    \n",
    "        # imports\n",
    "    import numpy as np\n",
    "    import nibabel as nib\n",
    "    import os\n",
    "    from os.path import join as opj\n",
    "\n",
    "    \n",
    "    os.chdir('/home/jovyan/work/preprocess/temp/')\n",
    "    \n",
    "    num_brain_voxels = 0\n",
    "    mask_data = nib.load(mask_file)\n",
    "    mask = mask_data.get_data()\n",
    "\n",
    "    x_dim, y_dim, z_dim = mask_data.shape\n",
    "\n",
    "    for i in range(x_dim):\n",
    "        for j in range(y_dim):\n",
    "            for k in range(z_dim):\n",
    "                if mask[i,j,k] == 1:\n",
    "                    num_brain_voxels = num_brain_voxels + 1\n",
    "                    \n",
    "    atlasPath = atlas_file\n",
    "    # Read the atlas\n",
    "    atlasObject = nib.load(atlasPath)\n",
    "    atlas = atlasObject.get_data()\n",
    "    \n",
    "    num_ROIs = int((np.max(atlas) - np.min(atlas) ))\n",
    "\n",
    "#     print('Min Index:', np.min(atlas),'Max Index', np.max(atlas))\n",
    "#     print('Total Number of Parcellations = ',num_ROIs)\n",
    "\n",
    "    # Read the brain in_file\n",
    "\n",
    "    brain_data = nib.load(in_file)\n",
    "    brain = brain_data.get_data()\n",
    "\n",
    "    x_dim, y_dim, z_dim, num_volumes = brain.shape\n",
    "    \n",
    "    # Initialize a matrix of ROI time series and voxel time series\n",
    "\n",
    "    ROI_matrix = np.zeros((num_ROIs, num_volumes))\n",
    "    voxel_matrix = np.zeros((num_brain_voxels, num_volumes))\n",
    "    \n",
    "    # Fill up the voxel_matrix \n",
    "    print('Filling up voxel matrix')\n",
    "    voxel_counter = 0\n",
    "    for i in range(x_dim):\n",
    "        for j in range(y_dim):\n",
    "            for k in range(z_dim):\n",
    "                if mask[i,j,k] == 1:\n",
    "                    voxel_matrix[voxel_counter,:] = brain[i,j,k,:] \n",
    "                    voxel_counter = voxel_counter + 1\n",
    "\n",
    "                    \n",
    "    # Fill up the ROI_matrix\n",
    "    print('Filling up voxel matrix')\n",
    "    # Keep track of number of voxels per ROI as well by using an array - num_voxels_in_ROI[]\n",
    "\n",
    "    num_voxels_in_ROI = np.zeros((num_ROIs,1)) # A column arrray containing number of voxels in each ROI\n",
    "\n",
    "    for i in range(x_dim):\n",
    "        for j in range(y_dim):\n",
    "            for k in range(z_dim):\n",
    "                label = int(atlas[i,j,k]) - 1\n",
    "                if label != -1:\n",
    "                    ROI_matrix[label,:] = np.add(ROI_matrix[label,:], brain[i,j,k,:])\n",
    "                    num_voxels_in_ROI[label,0] = num_voxels_in_ROI[label,0] + 1\n",
    "\n",
    "    ROI_matrix = np.divide(ROI_matrix,num_voxels_in_ROI) # Check if divide is working correctly\n",
    "\n",
    "    X, Y = ROI_matrix, voxel_matrix\n",
    "    # Subtract mean from X and Y\n",
    "\n",
    "    X = np.subtract(X, np.mean(X))\n",
    "    Y = np.subtract(Y, np.mean(Y))\n",
    "\n",
    "    temp1 = np.dot(X,Y.T)\n",
    "    print (\"Temp1 Done\")\n",
    "    temp2 = np.sqrt(np.multiply(X,X))\n",
    "    print (\"Temp2 Done\")\n",
    "    temp3 = np.sqrt(np.multiply(Y,Y)).T\n",
    "    print (\"Temp3 Done\")\n",
    "    temp4 = np.dot(temp2,temp3)\n",
    "    print (\"Temp4 Done\")\n",
    "    coff_matrix = np.divide(temp1, (temp4+0.0001))\n",
    "    print (\"Pear Done\")\n",
    "#     print ('Over!')\n",
    "#     coff_matrix = 1\n",
    "    sub_id = in_file.split('/')[-1].split('.')[0].split('_')[0].split('-')[1]\n",
    "    \n",
    "    fc_file_name = sub_id + 'fc_map'\n",
    "    \n",
    "    np.save(fc_file_name, coff_matrix)\n",
    "    \n",
    "    coff_matrix_file = opj(os.getcwd(),fc_file_name) # path\n",
    "    return coff_matrix_file\n",
    "\n"
   ]
  },
  {
   "cell_type": "code",
   "execution_count": 33,
   "metadata": {},
   "outputs": [],
   "source": [
    "# Again Create the Node and set default valus to\n",
    "\n",
    "pearcoff = Node(Function(function=pear_coff_2, input_names=['in_file','atlas_file','mask_file'],\n",
    "                                output_names=['coff_matrix_file']), name='pearcoff')\n",
    "\n",
    "pearcoff.inputs.in_file = func_file_path[0]\n",
    "pearcoff.inputs.atlas_file = atlasPath\n",
    "# pearcoff.inputs.num_brain_voxels = num_brain_voxels\n",
    "pearcoff.inputs.mask_file = mask_file"
   ]
  },
  {
   "cell_type": "code",
   "execution_count": 34,
   "metadata": {},
   "outputs": [
    {
     "name": "stdout",
     "output_type": "stream",
     "text": [
      "CPU times: user 0 ns, sys: 0 ns, total: 0 ns\n",
      "Wall time: 4.05 µs\n",
      "171020-19:03:56,201 workflow INFO:\n",
      "\t Executing node pearcoff in dir: /tmp/tmpIizkv8/pearcoff\n",
      "Filling up voxel matrix\n",
      "Filling up voxel matrix\n",
      "Temp1 Done\n",
      "Temp2 Done\n",
      "Temp3 Done\n",
      "Temp4 Done\n",
      "Pear Done\n"
     ]
    },
    {
     "data": {
      "text/plain": [
       "<nipype.interfaces.base.InterfaceResult at 0x7f03e15c0810>"
      ]
     },
     "execution_count": 34,
     "metadata": {},
     "output_type": "execute_result"
    }
   ],
   "source": [
    "%time\n",
    "pearcoff.run()"
   ]
  },
  {
   "cell_type": "markdown",
   "metadata": {},
   "source": [
    "Above are the two ways the node can be created:\n",
    "> You can pass the whole matrix as input (or)  \n",
    "> You can pass just the file name and let the function compute the matrix\n",
    "\n",
    "The comparison between two are left to be done. Which of the approach is faster. 2nd approach seemed faster. Need to check.\n",
    "\n",
    "**Takeaway:** The system hangs if you are trying to return big matrices. Solution is to save the matrix and return the path of it.\n"
   ]
  },
  {
   "cell_type": "code",
   "execution_count": null,
   "metadata": {
    "collapsed": true
   },
   "outputs": [],
   "source": [
    "atlas.max()"
   ]
  },
  {
   "cell_type": "code",
   "execution_count": null,
   "metadata": {
    "collapsed": true
   },
   "outputs": [],
   "source": [
    "ROI_matrix.shape"
   ]
  },
  {
   "cell_type": "code",
   "execution_count": null,
   "metadata": {
    "collapsed": true
   },
   "outputs": [],
   "source": [
    "voxel_matrix.shape"
   ]
  },
  {
   "cell_type": "code",
   "execution_count": null,
   "metadata": {
    "collapsed": true
   },
   "outputs": [],
   "source": [
    "brain.shape"
   ]
  },
  {
   "cell_type": "code",
   "execution_count": null,
   "metadata": {
    "collapsed": true
   },
   "outputs": [],
   "source": [
    "91*109*91"
   ]
  },
  {
   "cell_type": "code",
   "execution_count": null,
   "metadata": {
    "collapsed": true
   },
   "outputs": [],
   "source": [
    "num_voxels_in_ROI.max()"
   ]
  },
  {
   "cell_type": "code",
   "execution_count": 1,
   "metadata": {},
   "outputs": [
    {
     "name": "stdout",
     "output_type": "stream",
     "text": [
      "/home/jovyan/work/preprocess/Autism-Connectome-Analysis\r\n"
     ]
    }
   ],
   "source": [
    "!pwd"
   ]
  },
  {
   "cell_type": "code",
   "execution_count": null,
   "metadata": {
    "collapsed": true
   },
   "outputs": [],
   "source": []
  }
 ],
 "metadata": {
  "kernelspec": {
   "display_name": "Python [conda env:python2]",
   "language": "python",
   "name": "conda-env-python2-py"
  },
  "language_info": {
   "codemirror_mode": {
    "name": "ipython",
    "version": 2
   },
   "file_extension": ".py",
   "mimetype": "text/x-python",
   "name": "python",
   "nbconvert_exporter": "python",
   "pygments_lexer": "ipython2",
   "version": "2.7.13"
  }
 },
 "nbformat": 4,
 "nbformat_minor": 2
}
