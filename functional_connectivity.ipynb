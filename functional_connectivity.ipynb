{
 "cells": [
  {
   "cell_type": "markdown",
   "metadata": {},
   "source": [
    "# Functional Connectivity\n",
    "1. [x] Create a BIDS object\n",
    "2. [x] Read the Atlas\n",
    "3. [x] Create BIDSDataGrabber Node\n",
    "4. [] Create a FC Node which does the following for each subject - \n",
    "    5. [x] Extract ROI time series.\n",
    "    6. [x] Create FC Maps [ROI x Voxels]\n",
    "    7. [] Group it in one of two groups: Autistic and TD"
   ]
  },
  {
   "cell_type": "code",
   "execution_count": 114,
   "metadata": {
    "collapsed": true
   },
   "outputs": [],
   "source": [
    "from bids.grabbids import BIDSLayout\n",
    "from nipype.interfaces.fsl import (BET, ExtractROI, FAST, FLIRT, ImageMaths,\n",
    "                                   MCFLIRT, SliceTimer, Threshold,Info)\n",
    "from nipype.interfaces.afni import Resample\n",
    "from nipype.interfaces.io import DataSink\n",
    "from nipype.pipeline import Node, MapNode, Workflow, JoinNode\n",
    "from nipype.interfaces.utility import IdentityInterface, Function\n",
    "import os\n",
    "from os.path import join as opj\n",
    "from nipype.interfaces import afni\n",
    "import nibabel as nib\n",
    "import numpy as np"
   ]
  },
  {
   "cell_type": "code",
   "execution_count": 68,
   "metadata": {
    "collapsed": true
   },
   "outputs": [],
   "source": [
    "# Set paths\n",
    "\n",
    "path_cwd = os.getcwd()\n",
    "path_split_list = path_cwd.split('/')\n",
    "s = path_split_list[0:-1]\n",
    "s = opj('/',*s) # *s converts list to path, # also it is very important to add '/' in the begining so it is read as directory later\n",
    "base_directory = opj(s,'result')\n",
    "data_directory = opj(s,\"data/ABIDE-BIDS-Preprocessed/NYU/\")\n",
    "\n",
    "mask_file = os.path.expandvars('$FSLDIR/data/standard/MNI152_T1_2mm_brain_mask.nii.gz')"
   ]
  },
  {
   "cell_type": "code",
   "execution_count": 69,
   "metadata": {
    "collapsed": true
   },
   "outputs": [],
   "source": [
    "number_of_subjects = 4 # Number of subjects you wish to preprocess\n",
    "\n"
   ]
  },
  {
   "cell_type": "code",
   "execution_count": 70,
   "metadata": {
    "collapsed": true
   },
   "outputs": [],
   "source": [
    "layout = BIDSLayout(data_directory)"
   ]
  },
  {
   "cell_type": "code",
   "execution_count": null,
   "metadata": {
    "collapsed": true
   },
   "outputs": [],
   "source": []
  },
  {
   "cell_type": "code",
   "execution_count": 71,
   "metadata": {},
   "outputs": [
    {
     "data": {
      "text/plain": [
       "['0050952', '0050953', '0050954', '0050955']"
      ]
     },
     "execution_count": 71,
     "metadata": {},
     "output_type": "execute_result"
    }
   ],
   "source": [
    "layout.get_subjects() # list the subject IDs of all the subjects"
   ]
  },
  {
   "cell_type": "code",
   "execution_count": 72,
   "metadata": {
    "collapsed": true
   },
   "outputs": [],
   "source": [
    "subject_id = layout.get_subjects()[0] # gives the first subject's ID\n",
    "\n",
    "# Below command gies a list of pathnames\n",
    "func_file_path = [f.filename for f in layout.get(subject=subject_id, type='bold', extensions=['nii', 'nii.gz'])]\n",
    "# anat_file_path = [f.filename for f in layout.get(subject=subject_id, type='T1w', extensions=['nii', 'nii.gz'])]\n",
    "\n",
    "\n",
    "metadata = layout.get_metadata(path=func_file_path[0])"
   ]
  },
  {
   "cell_type": "code",
   "execution_count": 73,
   "metadata": {},
   "outputs": [
    {
     "data": {
      "text/plain": [
       "[File(filename='/home/jovyan/work/preprocess/data/ABIDE-BIDS-Preprocessed/NYU/sub-0050952/anat/sub-0050952_T1w.nii.gz', type='T1w', modality='anat', subject='0050952'),\n",
       " File(filename='/home/jovyan/work/preprocess/data/ABIDE-BIDS-Preprocessed/NYU/sub-0050952/func/sub-0050952_task-rest_run-1_bold.nii.gz', type='bold', task='rest', run='1', modality='func', subject='0050952')]"
      ]
     },
     "execution_count": 73,
     "metadata": {},
     "output_type": "execute_result"
    }
   ],
   "source": [
    "layout.get(subject=subject_id) # I used this to see the 'type' arg for anatomical and functional files "
   ]
  },
  {
   "cell_type": "code",
   "execution_count": 74,
   "metadata": {},
   "outputs": [
    {
     "data": {
      "text/plain": [
       "['/home/jovyan/work/preprocess/data/ABIDE-BIDS-Preprocessed/NYU/sub-0050952/func/sub-0050952_task-rest_run-1_bold.nii.gz']"
      ]
     },
     "execution_count": 74,
     "metadata": {},
     "output_type": "execute_result"
    }
   ],
   "source": [
    "func_file_path# , anat_file_path"
   ]
  },
  {
   "cell_type": "code",
   "execution_count": 75,
   "metadata": {
    "collapsed": true
   },
   "outputs": [],
   "source": [
    "# imoportant specs about functional data\n",
    "\n",
    "TR  = metadata['RepetitionTime']\n",
    "\n",
    "num_volumes = int(metadata['NumberofMeasurements']) - 4 \n",
    "\n",
    "metadata; # just add or remove the semicolon to supress or see the output\n",
    "\n"
   ]
  },
  {
   "cell_type": "code",
   "execution_count": 76,
   "metadata": {
    "collapsed": true
   },
   "outputs": [],
   "source": [
    "# code to find how many voxels are in the brain region using the mask\n",
    "\n",
    "num_brain_voxels = 0\n",
    "mask_data = nib.load(mask_file)\n",
    "mask = mask_data.get_data()\n",
    "\n",
    "x_dim, y_dim, z_dim = mask_data.shape\n",
    "\n",
    "for i in range(x_dim):\n",
    "    for j in range(y_dim):\n",
    "        for k in range(z_dim):\n",
    "            if mask[i,j,k] == 1:\n",
    "                num_brain_voxels = num_brain_voxels + 1\n"
   ]
  },
  {
   "cell_type": "code",
   "execution_count": 77,
   "metadata": {},
   "outputs": [
    {
     "data": {
      "text/plain": [
       "228483"
      ]
     },
     "execution_count": 77,
     "metadata": {},
     "output_type": "execute_result"
    }
   ],
   "source": [
    "num_brain_voxels"
   ]
  },
  {
   "cell_type": "code",
   "execution_count": 78,
   "metadata": {
    "collapsed": true
   },
   "outputs": [],
   "source": [
    "metadata;\n",
    "# The metadata doesnot contain the true specs of the brain files as the brain files are now preprocessed.\n",
    "# Only some fields are consistent now. For example SpacingBetweenSlices, SliceTiming are NOT valid anymore.\n",
    "# RepetitionTime is still valid.\n",
    "# NumberofMeasurements is invalid as 4 initial volumes are skipped\n",
    "# So, use carefully."
   ]
  },
  {
   "cell_type": "markdown",
   "metadata": {},
   "source": [
    "## Atlas"
   ]
  },
  {
   "cell_type": "code",
   "execution_count": 79,
   "metadata": {
    "collapsed": true
   },
   "outputs": [],
   "source": [
    "# Put in the path of atlas you wish to use\n",
    "atlasPath = opj(s,'atlas/Full_brain_atlas_thr0-2mm/fullbrain_atlas_thr0-2mm.nii.gz')"
   ]
  },
  {
   "cell_type": "code",
   "execution_count": 80,
   "metadata": {
    "collapsed": true
   },
   "outputs": [],
   "source": [
    "# Read the atlas\n",
    "atlasObject = nib.load(atlasPath)\n",
    "atlas = atlasObject.get_data()"
   ]
  },
  {
   "cell_type": "markdown",
   "metadata": {},
   "source": [
    "### Lets see the number of regions in the atlas and display the atlas."
   ]
  },
  {
   "cell_type": "code",
   "execution_count": 81,
   "metadata": {},
   "outputs": [
    {
     "name": "stdout",
     "output_type": "stream",
     "text": [
      "('Min Index:', 0.0, 'Max Index', 274.0)\n",
      "('Total Number of Parcellations = ', 274)\n"
     ]
    }
   ],
   "source": [
    "num_ROIs = int((np.max(atlas) - np.min(atlas) ))\n",
    "\n",
    "print('Min Index:', np.min(atlas),'Max Index', np.max(atlas))\n",
    "print('Total Number of Parcellations = ',num_ROIs)"
   ]
  },
  {
   "cell_type": "markdown",
   "metadata": {},
   "source": [
    "Index 0.0 denotes the regin of the scan which does not contain brain voxel.\n",
    "\n",
    "Let's display the atlas."
   ]
  },
  {
   "cell_type": "code",
   "execution_count": 82,
   "metadata": {},
   "outputs": [
    {
     "data": {
      "text/plain": [
       "<nilearn.plotting.displays.OrthoSlicer at 0x7fc3941a4f50>"
      ]
     },
     "execution_count": 82,
     "metadata": {},
     "output_type": "execute_result"
    },
    {
     "data": {
      "image/png": "[encoded data removed]",
      "text/plain": [
       "<matplotlib.figure.Figure at 0x7fc3941b5b50>"
      ]
     },
     "metadata": {},
     "output_type": "display_data"
    }
   ],
   "source": [
    "%matplotlib inline\n",
    "from nilearn import plotting\n",
    "plotting.plot_roi(atlasObject)\n"
   ]
  },
  {
   "cell_type": "markdown",
   "metadata": {},
   "source": [
    "## Read the data files using BIDSGrabber"
   ]
  },
  {
   "cell_type": "code",
   "execution_count": 83,
   "metadata": {
    "collapsed": true
   },
   "outputs": [],
   "source": [
    "# List of Subject IDs\n",
    "\n",
    "subject_list = (layout.get_subjects())[0:number_of_subjects]"
   ]
  },
  {
   "cell_type": "markdown",
   "metadata": {},
   "source": [
    "Create our own custom function - BIDSDataGrabber using a Function Interface."
   ]
  },
  {
   "cell_type": "code",
   "execution_count": 84,
   "metadata": {
    "collapsed": true
   },
   "outputs": [],
   "source": [
    "def get_nifti_filenames(subject_id,data_dir):\n",
    "#     Remember that all the necesary imports need to be INSIDE the function for the Function Interface to work!\n",
    "    from bids.grabbids import BIDSLayout\n",
    "    \n",
    "    layout = BIDSLayout(data_dir)\n",
    "    \n",
    "    anat_file_path = [f.filename for f in layout.get(subject=subject_id, type='T1w', extensions=['nii', 'nii.gz'])]\n",
    "    func_file_path = [f.filename for f in layout.get(subject=subject_id, type='bold', extensions=['nii', 'nii.gz'])]\n",
    "    \n",
    "    return anat_file_path[0],func_file_path[0]\n",
    "\n",
    "# Refer to Supplementary material section One for info on arguments for layout.get()"
   ]
  },
  {
   "cell_type": "markdown",
   "metadata": {},
   "source": [
    "Wrap it inside a Node"
   ]
  },
  {
   "cell_type": "code",
   "execution_count": 85,
   "metadata": {
    "collapsed": true
   },
   "outputs": [],
   "source": [
    "BIDSDataGrabber = Node(Function(function=get_nifti_filenames, input_names=['subject_id','data_dir'],\n",
    "                                output_names=['anat_file_path','func_file_path']), name='BIDSDataGrabber')\n",
    "BIDSDataGrabber.iterables = [('subject_id',subject_list)]\n",
    "BIDSDataGrabber.inputs.data_dir = data_directory"
   ]
  },
  {
   "cell_type": "code",
   "execution_count": 86,
   "metadata": {
    "collapsed": true
   },
   "outputs": [],
   "source": [
    "# To test the function wrapped in the node\n",
    "\n",
    "# BIDSDataGrabber.inputs.data_dir = data_directory\n",
    "# BIDSDataGrabber.inputs.subject_id = layout.get_subjects()[0] # gives the first subject's ID\n",
    "# res = BIDSDataGrabber.run()\n",
    "\n",
    "# res.outputs"
   ]
  },
  {
   "cell_type": "markdown",
   "metadata": {},
   "source": [
    "## Create a FC node\n",
    "\n",
    "This node:\n",
    "1. Exracts the average time series of the brain ROI's using the atlas and stores \n",
    "    it as a matrix of size [ROIs x Volumes].\n",
    "2. Extracts the Voxel time series and stores it in matrix of size [Voxels x Volumes]\n"
   ]
  },
  {
   "cell_type": "markdown",
   "metadata": {},
   "source": [
    "TODO: Check how nifti masker works. How does it summarize an ROI? Does it take the mean of all the voxels?"
   ]
  },
  {
   "cell_type": "code",
   "execution_count": 99,
   "metadata": {
    "collapsed": true
   },
   "outputs": [],
   "source": [
    "# Initialize a matrix of ROI time series and voxel time series\n",
    "\n",
    "ROI_matrix = np.zeros((num_ROIs, num_volumes))\n",
    "voxel_matrix = np.zeros((num_brain_voxels, num_volumes))"
   ]
  },
  {
   "cell_type": "code",
   "execution_count": 100,
   "metadata": {},
   "outputs": [
    {
     "data": {
      "text/plain": [
       "'0050952'"
      ]
     },
     "execution_count": 100,
     "metadata": {},
     "output_type": "execute_result"
    }
   ],
   "source": [
    "func_file_path[0].split('/')[-1].split('.')[0].split('_')[0].split('-')[1]"
   ]
  },
  {
   "cell_type": "raw",
   "metadata": {
    "collapsed": true
   },
   "source": [
    "# Fill up the voxel_matrix \n",
    "\n",
    "brain_data = nib.load(func_file_path[0])\n",
    "brain = brain_data.get_data()\n",
    "\n",
    "# %time gives incorrect time. check!\n",
    "x_dim, y_dim, z_dim, _ = brain.shape\n",
    "\n",
    "voxel_counter = 0\n",
    "for i in range(x_dim):\n",
    "    for j in range(y_dim):\n",
    "        for k in range(z_dim):\n",
    "            if mask[i,j,k] == 1:\n",
    "                voxel_matrix[voxel_counter,:] = brain[i,j,k,:] \n",
    "                voxel_counter = voxel_counter + 1\n",
    "\n",
    "\n"
   ]
  },
  {
   "cell_type": "raw",
   "metadata": {},
   "source": [
    "%%time\n",
    "# Fill up the ROI_matrix\n",
    "\n",
    "# Keep track of number of voxels per ROI as well by using an array - num_voxels_in_ROI[]\n",
    "\n",
    "\n",
    "num_voxels_in_ROI = np.zeros((num_ROIs,1)) # A column arrray containing number of voxels in each ROI\n",
    "\n",
    "for i in range(x_dim):\n",
    "    for j in range(y_dim):\n",
    "        for k in range(z_dim):\n",
    "            label = int(atlas[i,j,k]) - 1\n",
    "            if label != -1:\n",
    "                ROI_matrix[label,:] = np.add(ROI_matrix[label,:], brain[i,j,k,:])\n",
    "                num_voxels_in_ROI[label,0] = num_voxels_in_ROI[label,0] + 1\n",
    "                \n",
    "ROI_matrix = np.divide(ROI_matrix,num_voxels_in_ROI) # Check if divide is working correctly\n"
   ]
  },
  {
   "cell_type": "raw",
   "metadata": {
    "collapsed": true
   },
   "source": [
    "# Calculate the Correlation matrix [ROI x Voxels]\n",
    "# Check if numpy's correlation function expects the mean centered data or not\n",
    "# -> Couldn't find out. So make your own function to calculate pearson correlation "
   ]
  },
  {
   "cell_type": "raw",
   "metadata": {},
   "source": [
    "X, Y = ROI_matrix, voxel_matrix\n",
    "# Subtract mean from X and Y\n",
    "\n",
    "X = np.subtract(X, np.mean(X))\n",
    "Y = np.subtract(Y, np.mean(Y))\n",
    "\n",
    "temp1 = np.dot(X,Y.T)\n",
    "print \"Temp1 Done\"\n",
    "temp2 = np.sqrt(np.multiply(X,X))\n",
    "print \"Temp2 Done\"\n",
    "temp3 = np.sqrt(np.multiply(Y,Y)).T\n",
    "print \"Temp3 Done\"\n",
    "temp4 = np.dot(temp2,temp3)\n",
    "print \"Temp4 Done\"\n",
    "pear = np.divide(temp1, (temp4+0.0001))\n",
    "print \"Pear Done\""
   ]
  },
  {
   "cell_type": "code",
   "execution_count": 111,
   "metadata": {},
   "outputs": [
    {
     "data": {
      "text/plain": [
       "(274, 228483)"
      ]
     },
     "execution_count": 111,
     "metadata": {},
     "output_type": "execute_result"
    }
   ],
   "source": [
    "pear.shape"
   ]
  },
  {
   "cell_type": "markdown",
   "metadata": {},
   "source": [
    "Looks gr8!"
   ]
  },
  {
   "cell_type": "markdown",
   "metadata": {},
   "source": [
    "1. Now, Lets encapsulate the above code inside a function and then in a node that will take as input the func file path and creates the FC map for that.\n",
    "\n",
    "2. Next Node will be a join node that will create a two groups\n",
    "\n",
    "3. Can we do the 1step by using some other node type like map?"
   ]
  },
  {
   "cell_type": "raw",
   "metadata": {
    "collapsed": true
   },
   "source": [
    "# Create a the function\n",
    "\n",
    "def pear_coff(in_file, atlas, num_brain_voxels, mask):\n",
    "    \n",
    "    # imports\n",
    "    import numpy as np\n",
    "    import nibabel as nib\n",
    "    import os\n",
    "    from os.path import join as opj\n",
    "    \n",
    "#     # Put in the path of atlas you wish to use\n",
    "#     atlasPath = opj(s,'atlas/Full_brain_atlas_thr0-2mm/fullbrain_atlas_thr0-2mm.nii.gz')\n",
    "    \n",
    "#     # Read the atlas\n",
    "#     atlasObject = nib.load(atlasPath)\n",
    "#     atlas = atlasObject.get_data()\n",
    "    os.chdir('/home/jovyan/work/preprocess/temp/')\n",
    "    \n",
    "    \n",
    "    num_ROIs = int((np.max(atlas) - np.min(atlas) ))\n",
    "\n",
    "#     print('Min Index:', np.min(atlas),'Max Index', np.max(atlas))\n",
    "#     print('Total Number of Parcellations = ',num_ROIs)\n",
    "    \n",
    "    \n",
    "    \n",
    "    # Read the brain in_file\n",
    "\n",
    "    brain_data = nib.load(in_file)\n",
    "    brain = brain_data.get_data()\n",
    "\n",
    "    # %time gives incorrect time. check!\n",
    "    x_dim, y_dim, z_dim, num_volumes = brain.shape\n",
    "\n",
    "    \n",
    "    # Initialize a matrix of ROI time series and voxel time series\n",
    "\n",
    "    ROI_matrix = np.zeros((num_ROIs, num_volumes))\n",
    "    voxel_matrix = np.zeros((num_brain_voxels, num_volumes))\n",
    "    \n",
    "    # Fill up the voxel_matrix \n",
    "#     print 'Filling up the voxel matrix'\n",
    "    voxel_counter = 0\n",
    "    for i in range(x_dim):\n",
    "        for j in range(y_dim):\n",
    "            for k in range(z_dim):\n",
    "                if mask[i,j,k] == 1:\n",
    "                    voxel_matrix[voxel_counter,:] = brain[i,j,k,:] \n",
    "                    voxel_counter = voxel_counter + 1\n",
    "    \n",
    "    # Fill up the ROI_matrix\n",
    "    \n",
    "#     print 'FIlling up the ROI matrix'\n",
    "    # Keep track of number of voxels per ROI as well by using an array - num_voxels_in_ROI[]\n",
    "\n",
    "    num_voxels_in_ROI = np.zeros((num_ROIs,1)) # A column arrray containing number of voxels in each ROI\n",
    "\n",
    "    for i in range(x_dim):\n",
    "        for j in range(y_dim):\n",
    "            for k in range(z_dim):\n",
    "                label = int(atlas[i,j,k]) - 1\n",
    "                if label != -1:\n",
    "                    ROI_matrix[label,:] = np.add(ROI_matrix[label,:], brain[i,j,k,:])\n",
    "                    num_voxels_in_ROI[label,0] = num_voxels_in_ROI[label,0] + 1\n",
    "\n",
    "    ROI_matrix = np.divide(ROI_matrix,num_voxels_in_ROI) # Check if divide is working correctly\n",
    "    \n",
    "#     print 'Done'\n",
    "    # Calculate the Correlation matrix [ROI x Voxels]\n",
    "    X, Y = ROI_matrix, voxel_matrix\n",
    "    \n",
    "    # Subtract mean from X and Y\n",
    "    X = np.subtract(X, np.mean(X))\n",
    "    Y = np.subtract(Y, np.mean(Y))\n",
    "\n",
    "    temp1 = np.dot(X,Y.T)\n",
    "    temp2 = np.sqrt(np.multiply(X,X))\n",
    "    temp3 = np.sqrt(np.multiply(Y,Y)).T\n",
    "    temp4 = np.dot(temp2,temp3)\n",
    "    pear_matrix = np.divide(temp1, (temp4+0.0001))\n",
    "#     print \"Pear Done\"\n",
    "    \n",
    "    sub_id = in_file.split('/')[-1].split('.')[0].split('_')[0].split('-')[1]\n",
    "    \n",
    "    fc_file_name = sub_id + 'fc_map'\n",
    "    \n",
    "    np.save(fc_file_name, pear_matrix)\n",
    "    \n",
    "    pear_matrix_file = opj(os.getcwd(),fc_file_name) # path\n",
    "    return pear_matrix_file\n",
    "#     pear_matrix = 1\n",
    "#     return pear_matrix\n",
    "    \n",
    "    "
   ]
  },
  {
   "cell_type": "raw",
   "metadata": {},
   "source": [
    "import os\n",
    "from os.path import join as opj\n",
    "fc_file_name ='varun'\n",
    "fc_file_path = opj(os.getcwd(),fc_file_name)\n",
    "fc_file_path"
   ]
  },
  {
   "cell_type": "raw",
   "metadata": {
    "collapsed": true
   },
   "source": [
    "# Create the Node and set default valus to\n",
    "\n",
    "pearcoff = Node(Function(function=pear_coff, input_names=['in_file','atlas','num_brain_voxels','mask'],\n",
    "                                output_names=['pear_matrix']), name='pearcoff')\n",
    "\n",
    "pearcoff.inputs.in_file = func_file_path[0]\n",
    "pearcoff.inputs.atlas = atlas\n",
    "pearcoff.inputs.num_brain_voxels = num_brain_voxels\n",
    "pearcoff.inputs.mask = mask"
   ]
  },
  {
   "cell_type": "raw",
   "metadata": {},
   "source": [
    "%%time\n",
    "pearcoff.run()"
   ]
  },
  {
   "cell_type": "raw",
   "metadata": {
    "collapsed": true
   },
   "source": [
    "# Okay Lets try one more time:\n",
    "# Create a the function\n",
    "\n",
    "def pear_coff_2(in_file, atlas_file, mask_file):\n",
    "    # code to find how many voxels are in the brain region using the mask\n",
    "    \n",
    "        # imports\n",
    "    import numpy as np\n",
    "    import nibabel as nib\n",
    "    import os\n",
    "    from os.path import join as opj\n",
    "\n",
    "    \n",
    "    os.chdir('/home/jovyan/work/preprocess/temp/')\n",
    "    \n",
    "    num_brain_voxels = 0\n",
    "    mask_data = nib.load(mask_file)\n",
    "    mask = mask_data.get_data()\n",
    "\n",
    "    x_dim, y_dim, z_dim = mask_data.shape\n",
    "\n",
    "    for i in range(x_dim):\n",
    "        for j in range(y_dim):\n",
    "            for k in range(z_dim):\n",
    "                if mask[i,j,k] == 1:\n",
    "                    num_brain_voxels = num_brain_voxels + 1\n",
    "                    \n",
    "    atlasPath = atlas_file\n",
    "    # Read the atlas\n",
    "    atlasObject = nib.load(atlasPath)\n",
    "    atlas = atlasObject.get_data()\n",
    "    \n",
    "    num_ROIs = int((np.max(atlas) - np.min(atlas) ))\n",
    "\n",
    "#     print('Min Index:', np.min(atlas),'Max Index', np.max(atlas))\n",
    "#     print('Total Number of Parcellations = ',num_ROIs)\n",
    "\n",
    "    # Read the brain in_file\n",
    "\n",
    "    brain_data = nib.load(in_file)\n",
    "    brain = brain_data.get_data()\n",
    "\n",
    "    x_dim, y_dim, z_dim, num_volumes = brain.shape\n",
    "    \n",
    "    # Initialize a matrix of ROI time series and voxel time series\n",
    "\n",
    "    ROI_matrix = np.zeros((num_ROIs, num_volumes))\n",
    "    voxel_matrix = np.zeros((num_brain_voxels, num_volumes))\n",
    "    \n",
    "    # Fill up the voxel_matrix \n",
    "    print('Filling up voxel matrix')\n",
    "    voxel_counter = 0\n",
    "    for i in range(x_dim):\n",
    "        for j in range(y_dim):\n",
    "            for k in range(z_dim):\n",
    "                if mask[i,j,k] == 1:\n",
    "                    voxel_matrix[voxel_counter,:] = brain[i,j,k,:] \n",
    "                    voxel_counter = voxel_counter + 1\n",
    "\n",
    "                    \n",
    "    # Fill up the ROI_matrix\n",
    "    print('Filling up voxel matrix')\n",
    "    # Keep track of number of voxels per ROI as well by using an array - num_voxels_in_ROI[]\n",
    "\n",
    "    num_voxels_in_ROI = np.zeros((num_ROIs,1)) # A column arrray containing number of voxels in each ROI\n",
    "\n",
    "    for i in range(x_dim):\n",
    "        for j in range(y_dim):\n",
    "            for k in range(z_dim):\n",
    "                label = int(atlas[i,j,k]) - 1\n",
    "                if label != -1:\n",
    "                    ROI_matrix[label,:] = np.add(ROI_matrix[label,:], brain[i,j,k,:])\n",
    "                    num_voxels_in_ROI[label,0] = num_voxels_in_ROI[label,0] + 1\n",
    "\n",
    "    ROI_matrix = np.divide(ROI_matrix,num_voxels_in_ROI) # Check if divide is working correctly\n",
    "\n",
    "    X, Y = ROI_matrix, voxel_matrix\n",
    "    # Subtract mean from X and Y\n",
    "\n",
    "    X = np.subtract(X, np.mean(X))\n",
    "    Y = np.subtract(Y, np.mean(Y))\n",
    "\n",
    "    temp1 = np.dot(X,Y.T)\n",
    "    print (\"Temp1 Done\")\n",
    "    temp2 = np.sqrt(np.multiply(X,X))\n",
    "    print (\"Temp2 Done\")\n",
    "    temp3 = np.sqrt(np.multiply(Y,Y)).T\n",
    "    print (\"Temp3 Done\")\n",
    "    temp4 = np.dot(temp2,temp3)\n",
    "    print (\"Temp4 Done\")\n",
    "    coff_matrix = np.divide(temp1, (temp4+0.0001))\n",
    "    print (\"Pear Done\")\n",
    "#     print ('Over!')\n",
    "#     coff_matrix = 1\n",
    "    sub_id = in_file.split('/')[-1].split('.')[0].split('_')[0].split('-')[1]\n",
    "    \n",
    "    fc_file_name = sub_id + 'fc_map'\n",
    "    \n",
    "    np.save(fc_file_name, coff_matrix)\n",
    "    \n",
    "    coff_matrix_file = opj(os.getcwd(),fc_file_name) # path\n",
    "    return coff_matrix_file\n",
    "\n"
   ]
  },
  {
   "cell_type": "raw",
   "metadata": {
    "collapsed": true
   },
   "source": [
    "# Again Create the Node and set default valus to\n",
    "\n",
    "pearcoff = Node(Function(function=pear_coff_2, input_names=['in_file','atlas_file','mask_file'],\n",
    "                                output_names=['coff_matrix_file']), name='pearcoff')\n",
    "\n",
    "pearcoff.inputs.in_file = func_file_path[0]\n",
    "pearcoff.inputs.atlas_file = atlasPath\n",
    "# pearcoff.inputs.num_brain_voxels = num_brain_voxels\n",
    "pearcoff.inputs.mask_file = mask_file"
   ]
  },
  {
   "cell_type": "raw",
   "metadata": {},
   "source": [
    "%%time\n",
    "pearcoff.run()"
   ]
  },
  {
   "cell_type": "markdown",
   "metadata": {},
   "source": [
    "Above are the two ways the node can be created:\n",
    "> You can pass the whole matrix as input (or)  \n",
    "> You can pass just the file name and let the function compute the matrix\n",
    "\n",
    "The comparison between two :  The second approach is faster: 11.2 sec vs 15.1 sec. Next to confirm, run the second function first then the second function and then check.\n",
    "\n",
    "**Takeaway:** The system hangs if you are trying to return big matrices. Solution is to save the matrix and return the path of it.\n",
    "\n"
   ]
  },
  {
   "cell_type": "markdown",
   "metadata": {},
   "source": [
    "## Create a JOIN Node\n",
    "\n",
    "Create a Join Node that takes all the FC maps created and group them in two groups by looking at the subject ID [Later try to read the participants.tsv and use the data given in it to see to which group the subject belongs].  \n",
    "Output: Two 3D tensors, each of size [ROI x Voxels x Num_subjects]\n",
    "\n",
    "NO!\n",
    "\n",
    "It would be very difficult to keep all that data in memory.\n",
    "\n",
    "Instead of creating tensors, group filenames in two lists - Autistic and TD. And return these two lists.\n",
    "Hmmm.. Looks good :)\n",
    "\n",
    "----------------------------------------------------------------------------------------------------------\n",
    "\n",
    "Then for each group, loop over all the entries of matrix - [i,j,:] But again storing such a big matrix is not possible:\n",
    "\n",
    "SOLUTION:  \n",
    "\n",
    "Mem-map the stored array, and then access the second row directly from disk:\n",
    "\n",
    "> X = np.load('/tmp/123.npy', mmap_mode='r')  \n",
    "> X[1, :]  \n",
    "\n",
    "memmap([4, 5, 6]) # Second row of the array.\n",
    "\n",
    "Source: https://docs.scipy.org/doc/numpy-1.13.0/reference/generated/numpy.load.html\n",
    "\n",
    "Solution is to loop over the Matrix and select only one row. This will be of size 500/174 MB  \n",
    "Do this for all the files. \n",
    "\n",
    "In the first pass:  \n",
    "\n",
    "* First row of all the subjects will be read. Size = 500(for each FC map)/174(number of ROIs)  * ~174(subjects) \n",
    "Therefore the size of data in first pass will be ~500 MB.\n",
    "* After reading the data, store it into a temporary array [remember to overwrite this in next pass]\n",
    "* The size of the temporary array will be [Num_subjects x voxels] - This denote the corr values 1st ROI with of all voxels.\n",
    "* Perform T-test on each of the columns.\n",
    "\n",
    "NEXT: Think about how to store the results of T test and apply FDR and how to map it back to brain.[when the above works fine]\n",
    "\n",
    "\n",
    "\n",
    "\n",
    "\n"
   ]
  },
  {
   "cell_type": "markdown",
   "metadata": {},
   "source": [
    "### Lets load the FC matrix in chunks"
   ]
  },
  {
   "cell_type": "raw",
   "metadata": {},
   "source": [
    "X = np.load('/home/jovyan/work/preprocess/temp/0050952fc_map.npy', mmap_mode='r')"
   ]
  },
  {
   "cell_type": "raw",
   "metadata": {
    "collapsed": true
   },
   "source": [
    "corr_chunk = X[0,:]"
   ]
  },
  {
   "cell_type": "raw",
   "metadata": {
    "collapsed": true
   },
   "source": [
    "corr_chunk1 = X[1,:]"
   ]
  },
  {
   "cell_type": "raw",
   "metadata": {},
   "source": [
    "X.shape, corr_chunk.shape, corr_chunk1.shape"
   ]
  },
  {
   "cell_type": "markdown",
   "metadata": {},
   "source": [
    "2.06 GB occupied before reading \n",
    "2.09 GB after reading\n",
    "\n",
    "one row with 228483 values occupied 0.03 GB = 0.03*1024 = 30.72 MB\n",
    "\n",
    "30.72 MB is occupied for one row of one subject\n",
    "\n",
    "30.72 * 184 = 5648.8 MB ~ 5.5 GB will be occupied for one ROI's analysis"
   ]
  },
  {
   "cell_type": "markdown",
   "metadata": {},
   "source": [
    "   ### Create the node again with the workspace"
   ]
  },
  {
   "cell_type": "markdown",
   "metadata": {},
   "source": [
    "Func Connectivity function with minor changes so that the FC matrix is saved in the Node's folder"
   ]
  },
  {
   "cell_type": "code",
   "execution_count": 88,
   "metadata": {
    "collapsed": true
   },
   "outputs": [],
   "source": [
    "def pear_coff_2(in_file, atlas_file, mask_file, num_brain_voxels):\n",
    "    # code to find how many voxels are in the brain region using the mask\n",
    "    \n",
    "        # imports\n",
    "    import numpy as np\n",
    "    import nibabel as nib\n",
    "    import os\n",
    "    from os.path import join as opj\n",
    "\n",
    "    \n",
    "#     os.chdir('/home/jovyan/work/preprocess/temp/')\n",
    "    \n",
    "#     num_brain_voxels = 0\n",
    "    mask_data = nib.load(mask_file)\n",
    "    mask = mask_data.get_data()\n",
    "\n",
    "    x_dim, y_dim, z_dim = mask_data.shape\n",
    "\n",
    "#     for i in range(x_dim):\n",
    "#         for j in range(y_dim):\n",
    "#             for k in range(z_dim):\n",
    "#                 if mask[i,j,k] == 1:\n",
    "#                     num_brain_voxels = num_brain_voxels + 1\n",
    "                    \n",
    "    atlasPath = atlas_file\n",
    "    # Read the atlas\n",
    "    atlasObject = nib.load(atlasPath)\n",
    "    atlas = atlasObject.get_data()\n",
    "    \n",
    "    num_ROIs = int((np.max(atlas) - np.min(atlas) ))\n",
    "\n",
    "#     print('Min Index:', np.min(atlas),'Max Index', np.max(atlas))\n",
    "#     print('Total Number of Parcellations = ',num_ROIs)\n",
    "\n",
    "    # Read the brain in_file\n",
    "\n",
    "    brain_data = nib.load(in_file)\n",
    "    brain = brain_data.get_data()\n",
    "\n",
    "    x_dim, y_dim, z_dim, num_volumes = brain.shape\n",
    "    \n",
    "    # Initialize a matrix of ROI time series and voxel time series\n",
    "\n",
    "    ROI_matrix = np.zeros((num_ROIs, num_volumes))\n",
    "    voxel_matrix = np.zeros((num_brain_voxels, num_volumes))\n",
    "    \n",
    "    # Fill up the voxel_matrix \n",
    "#     print('Filling up voxel matrix')\n",
    "    voxel_counter = 0\n",
    "    for i in range(x_dim):\n",
    "        for j in range(y_dim):\n",
    "            for k in range(z_dim):\n",
    "                if mask[i,j,k] == 1:\n",
    "                    voxel_matrix[voxel_counter,:] = brain[i,j,k,:] \n",
    "                    voxel_counter = voxel_counter + 1\n",
    "\n",
    "                    \n",
    "    # Fill up the ROI_matrix\n",
    "#     print('Filling up voxel matrix')\n",
    "    # Keep track of number of voxels per ROI as well by using an array - num_voxels_in_ROI[]\n",
    "\n",
    "    num_voxels_in_ROI = np.zeros((num_ROIs,1)) # A column arrray containing number of voxels in each ROI\n",
    "\n",
    "    for i in range(x_dim):\n",
    "        for j in range(y_dim):\n",
    "            for k in range(z_dim):\n",
    "                label = int(atlas[i,j,k]) - 1\n",
    "                if label != -1:\n",
    "                    ROI_matrix[label,:] = np.add(ROI_matrix[label,:], brain[i,j,k,:])\n",
    "                    num_voxels_in_ROI[label,0] = num_voxels_in_ROI[label,0] + 1\n",
    "\n",
    "    ROI_matrix = np.divide(ROI_matrix,num_voxels_in_ROI) # Check if divide is working correctly\n",
    "\n",
    "    X, Y = ROI_matrix, voxel_matrix\n",
    "    # Subtract mean from X and Y\n",
    "\n",
    "    X = np.subtract(X, np.mean(X))\n",
    "    Y = np.subtract(Y, np.mean(Y))\n",
    "\n",
    "    temp1 = np.dot(X,Y.T)\n",
    "#     print (\"Temp1 Done\")\n",
    "    temp2 = np.sqrt(np.multiply(X,X))\n",
    "#     print (\"Temp2 Done\")\n",
    "    temp3 = np.sqrt(np.multiply(Y,Y)).T\n",
    "#     print (\"Temp3 Done\")\n",
    "    temp4 = np.dot(temp2,temp3)\n",
    "#     print (\"Temp4 Done\")\n",
    "    coff_matrix = np.divide(temp1, (temp4+0.0001))\n",
    "#     print (\"Pear Done\")\n",
    "#     print ('Over!')\n",
    "#     coff_matrix = 1\n",
    "    sub_id = in_file.split('/')[-1].split('.')[0].split('_')[0].split('-')[1]\n",
    "    \n",
    "    fc_file_name = sub_id + '_fc_map'\n",
    "    \n",
    "    np.save(fc_file_name, coff_matrix)\n",
    "    \n",
    "    \n",
    "    fc_file_name = fc_file_name + '.npy'\n",
    "    \n",
    "    coff_matrix_file = opj(os.getcwd(),fc_file_name) # path\n",
    "    return coff_matrix_file\n",
    "\n"
   ]
  },
  {
   "cell_type": "code",
   "execution_count": 89,
   "metadata": {
    "collapsed": true
   },
   "outputs": [],
   "source": [
    "# Again Create the Node and set default values to paths\n",
    "\n",
    "pearcoff = Node(Function(function=pear_coff_2, input_names=['in_file','atlas_file','mask_file','num_brain_voxels'],\n",
    "                                output_names=['coff_matrix_file']), name='pearcoff')\n",
    "\n",
    "# pearcoff.inputs.in_file = func_file_path[0]\n",
    "pearcoff.inputs.atlas_file = atlasPath\n",
    "pearcoff.inputs.num_brain_voxels = num_brain_voxels\n",
    "pearcoff.inputs.mask_file = mask_file"
   ]
  },
  {
   "cell_type": "code",
   "execution_count": 90,
   "metadata": {
    "collapsed": true
   },
   "outputs": [],
   "source": [
    "# %%time\n",
    "# pearcoff.run()"
   ]
  },
  {
   "cell_type": "markdown",
   "metadata": {},
   "source": [
    "## Datasink\n",
    "I needed to define the structure of what files are saved and where."
   ]
  },
  {
   "cell_type": "code",
   "execution_count": 91,
   "metadata": {
    "collapsed": true
   },
   "outputs": [],
   "source": [
    "# Create DataSink object\n",
    "dataSink = Node(DataSink(), name='datasink')\n",
    "\n",
    "# Name of the output folder\n",
    "dataSink.inputs.base_directory = opj(base_directory,'datasink_fc')\n",
    "\n",
    "\n"
   ]
  },
  {
   "cell_type": "markdown",
   "metadata": {},
   "source": [
    "To create the substitutions I looked the `datasink` folder where I was redirecting the output. I manually selected the part of file/folder name that I wanted to change and copied below to be substituted.  \n",
    "\n",
    "**TODO:** Using datasink create a hierarchical directory structure i.e. folder in folder - to exactly match BIDS."
   ]
  },
  {
   "cell_type": "code",
   "execution_count": 92,
   "metadata": {
    "collapsed": true
   },
   "outputs": [],
   "source": [
    "# Define substitution strings so that the data is similar to BIDS\n",
    "substitutions = [('_subject_id_', 'sub-')]\n",
    "\n",
    "# Feed the substitution strings to the DataSink node\n",
    "dataSink.inputs.substitutions = substitutions\n",
    "\n",
    "# ('_resample_brain_flirt.nii_brain', ''),\n",
    "# ('_roi_st_mcf_flirt.nii_brain_flirt', ''),\n",
    "                "
   ]
  },
  {
   "cell_type": "markdown",
   "metadata": {},
   "source": [
    "### Create a Join node to gather the FC maps computed "
   ]
  },
  {
   "cell_type": "markdown",
   "metadata": {},
   "source": [
    "First lets create the function to do hypothesis testing:  \n",
    "* It reads ROI i (Starting from 1) row of all the subjects in the FC matrix and saves it in a matrix of size [num_subjects x voxels]\n",
    "* Loops over the elements of each column, converts to z-score and then does a t-test\n",
    "* Each column gives the variation of corr coff of ROI i with the voxel corresponding to the column.\n",
    "* After this operation you get a vector of p-values of size- number of voxels telling how significant the voxel connectivity is with the ROI i "
   ]
  },
  {
   "cell_type": "code",
   "execution_count": 138,
   "metadata": {
    "collapsed": true
   },
   "outputs": [],
   "source": [
    "def hypothesis_test(fc_file_list):\n",
    "    file_handle = []\n",
    "    \n",
    "    # store all the fc file handles in a list\n",
    "    for file_path in fc_file_list:\n",
    "        file_handle.append(np.load(file_path, mmap_mode='r'))\n",
    "        \n",
    "     \n",
    "    # extracting the shape of one FC map and checking the num of rows and columns\n",
    "    number_of_ROIs, number_of_voxels = file_handle[0].shape \n",
    "    \n",
    "    # define the matrix for storing the voxels corr values corresponding to ith ROI for all subjects\n",
    "    all_subject_corr_matrix = np.zeros((len(file_handle), number_of_voxels))\n",
    "    \n",
    "    \n",
    "    # reads the rows one by one of the fc map for all subjects in Autism group\n",
    "    for roi in range(number_of_ROIs):\n",
    "        for participant_index in range(len(file_handle)):\n",
    "            all_subject_corr_matrix[participant_index,:] = file_handle[participant_index][roi,:]\n",
    "    \n",
    "        # do z-standardization of corr values individually for each column and then do a t-test individually for each column\n",
    "        # use : https://docs.scipy.org/doc/scipy-0.14.0/reference/generated/scipy.stats.mstats.zscore.html\n",
    "        # and then : https://docs.scipy.org/doc/scipy-0.19.1/reference/generated/scipy.stats.ttest_ind.html\n",
    "            \n",
    "            \n",
    "    \n",
    "#     print('Number of file handles: ',len(file_handle))\n",
    "#     print('FC File list ',fc_file_list)\n",
    "    significance_matrix = 1\n",
    "    return significance_matrix\n",
    "    "
   ]
  },
  {
   "cell_type": "code",
   "execution_count": 135,
   "metadata": {
    "collapsed": true
   },
   "outputs": [],
   "source": [
    "# def hypothesis_test1(fc_file_list):\n",
    "#     print('FC File list ',fc_file_list)\n",
    "#     significance_matrix = 1\n",
    "#     return significance_matrix\n",
    "    \n",
    "    \n",
    "#     Not able to print???? Check why????"
   ]
  },
  {
   "cell_type": "code",
   "execution_count": 136,
   "metadata": {},
   "outputs": [],
   "source": [
    "hypothesisTest = JoinNode(Function(function=hypothesis_test1, input_names=['fc_file_list'],\n",
    "                 output_names=['significance_matrix']),\n",
    "                 joinsource=\"BIDSDataGrabber\",\n",
    "                 joinfield=\"fc_file_list\",\n",
    "                 name=\"hypothesisTest\")"
   ]
  },
  {
   "cell_type": "code",
   "execution_count": null,
   "metadata": {
    "collapsed": true
   },
   "outputs": [],
   "source": []
  },
  {
   "cell_type": "markdown",
   "metadata": {},
   "source": [
    "### Create the Workflow"
   ]
  },
  {
   "cell_type": "code",
   "execution_count": 137,
   "metadata": {},
   "outputs": [
    {
     "name": "stdout",
     "output_type": "stream",
     "text": [
      "171023-15:15:49,953 workflow INFO:\n",
      "\t Workflow functionalConnectivity settings: ['check', 'execution', 'logging']\n",
      "171023-15:15:49,978 workflow INFO:\n",
      "\t Running in parallel.\n",
      "171023-15:15:49,982 workflow INFO:\n",
      "\t Executing: BIDSDataGrabber.aI.a1 ID: 0\n",
      "171023-15:15:49,984 workflow INFO:\n",
      "\t [Job finished] jobname: BIDSDataGrabber.aI.a1 jobid: 0\n",
      "171023-15:15:49,986 workflow INFO:\n",
      "\t Executing: BIDSDataGrabber.aI.a2 ID: 1\n",
      "171023-15:15:49,988 workflow INFO:\n",
      "\t [Job finished] jobname: BIDSDataGrabber.aI.a2 jobid: 1\n",
      "171023-15:15:49,990 workflow INFO:\n",
      "\t Executing: BIDSDataGrabber.aI.a0 ID: 5\n",
      "171023-15:15:49,991 workflow INFO:\n",
      "\t [Job finished] jobname: BIDSDataGrabber.aI.a0 jobid: 5\n",
      "171023-15:15:49,993 workflow INFO:\n",
      "\t Executing: BIDSDataGrabber.aI.a3 ID: 8\n",
      "171023-15:15:49,995 workflow INFO:\n",
      "\t [Job finished] jobname: BIDSDataGrabber.aI.a3 jobid: 8\n",
      "171023-15:15:49,999 workflow INFO:\n",
      "\t Executing: pearcoff.a1 ID: 2\n",
      "171023-15:15:50,6 workflow INFO:\n",
      "\t [Job finished] jobname: pearcoff.a1 jobid: 2\n",
      "171023-15:15:50,7 workflow INFO:\n",
      "\t Executing: pearcoff.a2 ID: 3\n",
      "171023-15:15:50,12 workflow INFO:\n",
      "\t [Job finished] jobname: pearcoff.a2 jobid: 3\n",
      "171023-15:15:50,14 workflow INFO:\n",
      "\t Executing: pearcoff.a0 ID: 6\n",
      "171023-15:15:50,19 workflow INFO:\n",
      "\t [Job finished] jobname: pearcoff.a0 jobid: 6\n",
      "171023-15:15:50,21 workflow INFO:\n",
      "\t Executing: pearcoff.a3 ID: 9\n",
      "171023-15:15:50,25 workflow INFO:\n",
      "\t [Job finished] jobname: pearcoff.a3 jobid: 9\n",
      "171023-15:15:50,28 workflow INFO:\n",
      "\t Executing: datasink.a1 ID: 4\n",
      "171023-15:15:50,37 workflow INFO:\n",
      "\t Executing: datasink.a2 ID: 7\n",
      "171023-15:15:50,39 workflow INFO:\n",
      "\t Executing node datasink.a1 in dir: /home/jovyan/work/preprocess/result/functionalConnectivity/_subject_id_0050953/datasink\n",
      "171023-15:15:50,44 workflow INFO:\n",
      "\t Executing: hypothesisTest ID: 10\n",
      "171023-15:15:50,47 workflow INFO:\n",
      "\t Executing node datasink.a2 in dir: /home/jovyan/work/preprocess/result/functionalConnectivity/_subject_id_0050954/datasink\n",
      "171023-15:15:50,62 interface INFO:\n",
      "\t sub: /home/jovyan/work/preprocess/result/datasink_fc/fc_maps/_subject_id_0050953/0050953_fc_map.npy -> /home/jovyan/work/preprocess/result/datasink_fc/fc_maps/sub-0050953/0050953_fc_map.npy\n",
      "171023-15:15:50,68 interface INFO:\n",
      "\t sub: /home/jovyan/work/preprocess/result/datasink_fc/fc_maps/_subject_id_0050954/0050954_fc_map.npy -> /home/jovyan/work/preprocess/result/datasink_fc/fc_maps/sub-0050954/0050954_fc_map.npy\n",
      "171023-15:15:50,68 workflow INFO:\n",
      "\t [Job finished] jobname: hypothesisTest jobid: 10\n",
      "171023-15:15:50,84 workflow INFO:\n",
      "\t Executing: datasink.a3 ID: 11\n",
      "171023-15:15:50,92 workflow INFO:\n",
      "\t Executing: datasink.a0 ID: 12\n",
      "171023-15:15:50,95 workflow INFO:\n",
      "\t Executing node datasink.a3 in dir: /home/jovyan/work/preprocess/result/functionalConnectivity/_subject_id_0050955/datasink\n",
      "171023-15:15:50,103 workflow INFO:\n",
      "\t [Job finished] jobname: datasink.a1 jobid: 4\n",
      "171023-15:15:50,106 workflow INFO:\n",
      "\t [Job finished] jobname: datasink.a2 jobid: 7\n",
      "171023-15:15:50,106 workflow INFO:\n",
      "\t Executing node datasink.a0 in dir: /home/jovyan/work/preprocess/result/functionalConnectivity/_subject_id_0050952/datasink\n",
      "171023-15:15:50,117 interface INFO:\n",
      "\t sub: /home/jovyan/work/preprocess/result/datasink_fc/fc_maps/_subject_id_0050955/0050955_fc_map.npy -> /home/jovyan/work/preprocess/result/datasink_fc/fc_maps/sub-0050955/0050955_fc_map.npy\n",
      "171023-15:15:50,131 interface INFO:\n",
      "\t sub: /home/jovyan/work/preprocess/result/datasink_fc/fc_maps/_subject_id_0050952/0050952_fc_map.npy -> /home/jovyan/work/preprocess/result/datasink_fc/fc_maps/sub-0050952/0050952_fc_map.npy\n",
      "171023-15:15:50,141 workflow INFO:\n",
      "\t [Job finished] jobname: datasink.a3 jobid: 11\n",
      "171023-15:15:50,145 workflow INFO:\n",
      "\t [Job finished] jobname: datasink.a0 jobid: 12\n",
      "CPU times: user 148 ms, sys: 92 ms, total: 240 ms\n",
      "Wall time: 274 ms\n"
     ]
    },
    {
     "data": {
      "text/plain": [
       "<networkx.classes.digraph.DiGraph at 0x7fc384264fd0>"
      ]
     },
     "execution_count": 137,
     "metadata": {},
     "output_type": "execute_result"
    }
   ],
   "source": [
    "wf = Workflow(name=\"functionalConnectivity\")\n",
    "base_dir = opj(s,'result')\n",
    "wf.base_dir = base_dir # Dir where all the outputs will be stored(inside BETFlow folder).\n",
    "\n",
    "wf.connect([      (BIDSDataGrabber, pearcoff, [('func_file_path','in_file')]),\n",
    "                  (pearcoff,dataSink,[('coff_matrix_file','fc_maps.@coff_matrix_file')]),\n",
    "                  (pearcoff,hypothesisTest,[('coff_matrix_file','fc_file_list')])\n",
    "           ])\n",
    "# Run it in parallel\n",
    "%time wf.run('MultiProc', plugin_args={'n_procs': 8})"
   ]
  },
  {
   "cell_type": "code",
   "execution_count": 117,
   "metadata": {},
   "outputs": [
    {
     "name": "stdout",
     "output_type": "stream",
     "text": [
      "171023-15:06:03,592 workflow INFO:\n",
      "\t Creating detailed dot file: /home/jovyan/work/preprocess/result/functionalConnectivity/graph_detailed.dot\n",
      "171023-15:06:03,944 workflow INFO:\n",
      "\t Creating dot file: /home/jovyan/work/preprocess/result/functionalConnectivity/graph.dot\n"
     ]
    },
    {
     "data": {
      "image/png": "[encoded data removed]",
      "text/plain": [
       "<IPython.core.display.Image object>"
      ]
     },
     "execution_count": 117,
     "metadata": {},
     "output_type": "execute_result"
    }
   ],
   "source": [
    "# Visualize the detailed graph\n",
    "from IPython.display import Image\n",
    "wf.write_graph(graph2use='exec', format='png', simple_form=True)\n",
    "file_name = opj(base_directory,'functionalConnectivity/graph_detailed.dot.png')\n",
    "Image(filename=file_name)"
   ]
  },
  {
   "cell_type": "code",
   "execution_count": null,
   "metadata": {
    "collapsed": true
   },
   "outputs": [],
   "source": []
  },
  {
   "cell_type": "code",
   "execution_count": null,
   "metadata": {
    "collapsed": true
   },
   "outputs": [],
   "source": []
  },
  {
   "cell_type": "code",
   "execution_count": null,
   "metadata": {
    "collapsed": true
   },
   "outputs": [],
   "source": []
  },
  {
   "cell_type": "code",
   "execution_count": null,
   "metadata": {
    "collapsed": true
   },
   "outputs": [],
   "source": []
  },
  {
   "cell_type": "code",
   "execution_count": null,
   "metadata": {
    "collapsed": true
   },
   "outputs": [],
   "source": []
  },
  {
   "cell_type": "code",
   "execution_count": 95,
   "metadata": {
    "collapsed": true
   },
   "outputs": [],
   "source": [
    "# Y = np.load('/home/jovyan/work/preprocess/temp/0050952fc_map.npy')"
   ]
  },
  {
   "cell_type": "code",
   "execution_count": 96,
   "metadata": {},
   "outputs": [
    {
     "data": {
      "text/plain": [
       "274.0"
      ]
     },
     "execution_count": 96,
     "metadata": {},
     "output_type": "execute_result"
    }
   ],
   "source": [
    "atlas.max()"
   ]
  },
  {
   "cell_type": "code",
   "execution_count": 97,
   "metadata": {},
   "outputs": [
    {
     "ename": "NameError",
     "evalue": "name 'ROI_matrix' is not defined",
     "output_type": "error",
     "traceback": [
      "\u001b[0;31m---------------------------------------------------------------------------\u001b[0m",
      "\u001b[0;31mNameError\u001b[0m                                 Traceback (most recent call last)",
      "\u001b[0;32m<ipython-input-97-2a9abfd45ef6>\u001b[0m in \u001b[0;36m<module>\u001b[0;34m()\u001b[0m\n\u001b[0;32m----> 1\u001b[0;31m \u001b[0mROI_matrix\u001b[0m\u001b[0;34m.\u001b[0m\u001b[0mshape\u001b[0m\u001b[0;34m\u001b[0m\u001b[0m\n\u001b[0m",
      "\u001b[0;31mNameError\u001b[0m: name 'ROI_matrix' is not defined"
     ]
    }
   ],
   "source": [
    "ROI_matrix.shape"
   ]
  },
  {
   "cell_type": "code",
   "execution_count": null,
   "metadata": {
    "collapsed": true
   },
   "outputs": [],
   "source": [
    "voxel_matrix.shape"
   ]
  },
  {
   "cell_type": "code",
   "execution_count": null,
   "metadata": {
    "collapsed": true
   },
   "outputs": [],
   "source": [
    "brain.shape"
   ]
  },
  {
   "cell_type": "code",
   "execution_count": null,
   "metadata": {
    "collapsed": true
   },
   "outputs": [],
   "source": [
    "91*109*91"
   ]
  },
  {
   "cell_type": "code",
   "execution_count": null,
   "metadata": {
    "collapsed": true
   },
   "outputs": [],
   "source": [
    "num_voxels_in_ROI.max()"
   ]
  },
  {
   "cell_type": "code",
   "execution_count": null,
   "metadata": {},
   "outputs": [],
   "source": [
    "!pwd"
   ]
  },
  {
   "cell_type": "code",
   "execution_count": null,
   "metadata": {
    "collapsed": true
   },
   "outputs": [],
   "source": []
  }
 ],
 "metadata": {
  "kernelspec": {
   "display_name": "Python [conda env:python2]",
   "language": "python",
   "name": "conda-env-python2-py"
  },
  "language_info": {
   "codemirror_mode": {
    "name": "ipython",
    "version": 2
   },
   "file_extension": ".py",
   "mimetype": "text/x-python",
   "name": "python",
   "nbconvert_exporter": "python",
   "pygments_lexer": "ipython2",
   "version": "2.7.13"
  }
 },
 "nbformat": 4,
 "nbformat_minor": 2
}
