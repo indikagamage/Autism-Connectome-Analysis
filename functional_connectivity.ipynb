{
 "cells": [
  {
   "cell_type": "markdown",
   "metadata": {},
   "source": [
    "# Functional Connectivity\n",
    "1. [x] Create a BIDS object\n",
    "2. [x] Read the Atlas\n",
    "3. [x] Create BIDSDataGrabber Node\n",
    "4. [] Create a FC Node which does the following for each subject - \n",
    "    5. [x] Extract ROI time series.\n",
    "    6. [x] Create FC Maps [ROI x Voxels]\n",
    "    7. [] Group it in one of two groups: Autistic and TD"
   ]
  },
  {
   "cell_type": "code",
   "execution_count": 1,
   "metadata": {
    "collapsed": true
   },
   "outputs": [],
   "source": [
    "from bids.grabbids import BIDSLayout\n",
    "from nipype.interfaces.fsl import (BET, ExtractROI, FAST, FLIRT, ImageMaths,\n",
    "                                   MCFLIRT, SliceTimer, Threshold,Info)\n",
    "from nipype.interfaces.afni import Resample\n",
    "from nipype.interfaces.io import DataSink\n",
    "from nipype.pipeline import Node, MapNode, Workflow, JoinNode\n",
    "from nipype.interfaces.utility import IdentityInterface, Function\n",
    "import os\n",
    "from os.path import join as opj\n",
    "from nipype.interfaces import afni\n",
    "import nibabel as nib\n",
    "import numpy as np"
   ]
  },
  {
   "cell_type": "code",
   "execution_count": 2,
   "metadata": {
    "collapsed": true
   },
   "outputs": [],
   "source": [
    "# Set paths\n",
    "\n",
    "path_cwd = os.getcwd()\n",
    "path_split_list = path_cwd.split('/')\n",
    "s = path_split_list[0:-1]\n",
    "s = opj('/',*s) # *s converts list to path, # also it is very important to add '/' in the begining so it is read as directory later\n",
    "base_directory = opj(s,'result')\n",
    "data_directory = opj(s,\"data/ABIDE-BIDS-Preprocessed/NYU/\")\n",
    "\n",
    "mask_file = os.path.expandvars('$FSLDIR/data/standard/MNI152_T1_2mm_brain_mask.nii.gz')"
   ]
  },
  {
   "cell_type": "code",
   "execution_count": 3,
   "metadata": {
    "collapsed": true
   },
   "outputs": [],
   "source": [
    "number_of_subjects = 4 # Number of subjects you wish to preprocess\n",
    "\n"
   ]
  },
  {
   "cell_type": "code",
   "execution_count": 4,
   "metadata": {
    "collapsed": true
   },
   "outputs": [],
   "source": [
    "layout = BIDSLayout(data_directory)"
   ]
  },
  {
   "cell_type": "code",
   "execution_count": null,
   "metadata": {
    "collapsed": true
   },
   "outputs": [],
   "source": []
  },
  {
   "cell_type": "code",
   "execution_count": 5,
   "metadata": {},
   "outputs": [
    {
     "data": {
      "text/plain": [
       "['0050952', '0050953', '0050954', '0050955']"
      ]
     },
     "execution_count": 5,
     "metadata": {},
     "output_type": "execute_result"
    }
   ],
   "source": [
    "layout.get_subjects() # list the subject IDs of all the subjects"
   ]
  },
  {
   "cell_type": "code",
   "execution_count": 6,
   "metadata": {
    "collapsed": true
   },
   "outputs": [],
   "source": [
    "subject_id = layout.get_subjects()[0] # gives the first subject's ID\n",
    "\n",
    "# Below command gies a list of pathnames\n",
    "func_file_path = [f.filename for f in layout.get(subject=subject_id, type='bold', extensions=['nii', 'nii.gz'])]\n",
    "# anat_file_path = [f.filename for f in layout.get(subject=subject_id, type='T1w', extensions=['nii', 'nii.gz'])]\n",
    "\n",
    "\n",
    "metadata = layout.get_metadata(path=func_file_path[0])"
   ]
  },
  {
   "cell_type": "code",
   "execution_count": 7,
   "metadata": {},
   "outputs": [
    {
     "data": {
      "text/plain": [
       "[File(filename='/home/jovyan/work/preprocess/data/ABIDE-BIDS-Preprocessed/NYU/sub-0050952/anat/sub-0050952_T1w.nii.gz', type='T1w', modality='anat', subject='0050952'),\n",
       " File(filename='/home/jovyan/work/preprocess/data/ABIDE-BIDS-Preprocessed/NYU/sub-0050952/func/sub-0050952_task-rest_run-1_bold.nii.gz', type='bold', task='rest', run='1', modality='func', subject='0050952')]"
      ]
     },
     "execution_count": 7,
     "metadata": {},
     "output_type": "execute_result"
    }
   ],
   "source": [
    "layout.get(subject=subject_id) # I used this to see the 'type' arg for anatomical and functional files "
   ]
  },
  {
   "cell_type": "code",
   "execution_count": 8,
   "metadata": {},
   "outputs": [
    {
     "data": {
      "text/plain": [
       "['/home/jovyan/work/preprocess/data/ABIDE-BIDS-Preprocessed/NYU/sub-0050952/func/sub-0050952_task-rest_run-1_bold.nii.gz']"
      ]
     },
     "execution_count": 8,
     "metadata": {},
     "output_type": "execute_result"
    }
   ],
   "source": [
    "func_file_path# , anat_file_path"
   ]
  },
  {
   "cell_type": "code",
   "execution_count": 9,
   "metadata": {
    "collapsed": true
   },
   "outputs": [],
   "source": [
    "# imoportant specs about functional data\n",
    "\n",
    "TR  = metadata['RepetitionTime']\n",
    "\n",
    "num_volumes = int(metadata['NumberofMeasurements']) - 4 \n",
    "\n",
    "metadata; # just add or remove the semicolon to supress or see the output\n",
    "\n"
   ]
  },
  {
   "cell_type": "code",
   "execution_count": 10,
   "metadata": {
    "collapsed": true
   },
   "outputs": [],
   "source": [
    "# code to find how many voxels are in the brain region using the mask\n",
    "\n",
    "num_brain_voxels = 0\n",
    "mask_data = nib.load(mask_file)\n",
    "mask = mask_data.get_data()\n",
    "\n",
    "x_dim, y_dim, z_dim = mask_data.shape\n",
    "\n",
    "for i in range(x_dim):\n",
    "    for j in range(y_dim):\n",
    "        for k in range(z_dim):\n",
    "            if mask[i,j,k] == 1:\n",
    "                num_brain_voxels = num_brain_voxels + 1\n"
   ]
  },
  {
   "cell_type": "code",
   "execution_count": 11,
   "metadata": {},
   "outputs": [
    {
     "data": {
      "text/plain": [
       "228483"
      ]
     },
     "execution_count": 11,
     "metadata": {},
     "output_type": "execute_result"
    }
   ],
   "source": [
    "num_brain_voxels"
   ]
  },
  {
   "cell_type": "code",
   "execution_count": 12,
   "metadata": {
    "collapsed": true
   },
   "outputs": [],
   "source": [
    "metadata;\n",
    "# The metadata doesnot contain the true specs of the brain files as the brain files are now preprocessed.\n",
    "# Only some fields are consistent now. For example SpacingBetweenSlices, SliceTiming are NOT valid anymore.\n",
    "# RepetitionTime is still valid.\n",
    "# NumberofMeasurements is invalid as 4 initial volumes are skipped\n",
    "# So, use carefully."
   ]
  },
  {
   "cell_type": "markdown",
   "metadata": {},
   "source": [
    "## Atlas"
   ]
  },
  {
   "cell_type": "code",
   "execution_count": 13,
   "metadata": {
    "collapsed": true
   },
   "outputs": [],
   "source": [
    "# Put in the path of atlas you wish to use\n",
    "atlasPath = opj(s,'atlas/Full_brain_atlas_thr0-2mm/fullbrain_atlas_thr0-2mm.nii.gz')"
   ]
  },
  {
   "cell_type": "code",
   "execution_count": 14,
   "metadata": {
    "collapsed": true
   },
   "outputs": [],
   "source": [
    "# Read the atlas\n",
    "atlasObject = nib.load(atlasPath)\n",
    "atlas = atlasObject.get_data()"
   ]
  },
  {
   "cell_type": "markdown",
   "metadata": {},
   "source": [
    "### Lets see the number of regions in the atlas and display the atlas."
   ]
  },
  {
   "cell_type": "code",
   "execution_count": 15,
   "metadata": {},
   "outputs": [
    {
     "name": "stdout",
     "output_type": "stream",
     "text": [
      "('Min Index:', 0.0, 'Max Index', 274.0)\n",
      "('Total Number of Parcellations = ', 274)\n"
     ]
    }
   ],
   "source": [
    "num_ROIs = int((np.max(atlas) - np.min(atlas) ))\n",
    "\n",
    "print('Min Index:', np.min(atlas),'Max Index', np.max(atlas))\n",
    "print('Total Number of Parcellations = ',num_ROIs)"
   ]
  },
  {
   "cell_type": "markdown",
   "metadata": {},
   "source": [
    "Index 0.0 denotes the regin of the scan which does not contain brain voxel.\n",
    "\n",
    "Let's display the atlas."
   ]
  },
  {
   "cell_type": "code",
   "execution_count": 16,
   "metadata": {},
   "outputs": [
    {
     "name": "stderr",
     "output_type": "stream",
     "text": [
      "/opt/conda/envs/python2/lib/python2.7/site-packages/matplotlib/__init__.py:1405: UserWarning: \n",
      "This call to matplotlib.use() has no effect because the backend has already\n",
      "been chosen; matplotlib.use() must be called *before* pylab, matplotlib.pyplot,\n",
      "or matplotlib.backends is imported for the first time.\n",
      "\n",
      "  warnings.warn(_use_error_msg)\n",
      "/opt/conda/envs/python2/lib/python2.7/site-packages/matplotlib/cbook.py:136: MatplotlibDeprecationWarning: The axisbg attribute was deprecated in version 2.0. Use facecolor instead.\n",
      "  warnings.warn(message, mplDeprecation, stacklevel=1)\n"
     ]
    },
    {
     "data": {
      "text/plain": [
       "<nilearn.plotting.displays.OrthoSlicer at 0x7f3629fcf710>"
      ]
     },
     "execution_count": 16,
     "metadata": {},
     "output_type": "execute_result"
    },
    {
     "data": {
      "image/png": "[encoded data removed]",
      "text/plain": [
       "<matplotlib.figure.Figure at 0x7f362f8242d0>"
      ]
     },
     "metadata": {},
     "output_type": "display_data"
    }
   ],
   "source": [
    "%matplotlib inline\n",
    "from nilearn import plotting\n",
    "plotting.plot_roi(atlasObject)\n"
   ]
  },
  {
   "cell_type": "markdown",
   "metadata": {},
   "source": [
    "## Read the data files using BIDSGrabber"
   ]
  },
  {
   "cell_type": "code",
   "execution_count": 17,
   "metadata": {
    "collapsed": true
   },
   "outputs": [],
   "source": [
    "# List of Subject IDs\n",
    "\n",
    "subject_list = (layout.get_subjects())[0:number_of_subjects]"
   ]
  },
  {
   "cell_type": "markdown",
   "metadata": {},
   "source": [
    "Create our own custom function - BIDSDataGrabber using a Function Interface."
   ]
  },
  {
   "cell_type": "code",
   "execution_count": 18,
   "metadata": {
    "collapsed": true
   },
   "outputs": [],
   "source": [
    "def get_nifti_filenames(subject_id,data_dir):\n",
    "#     Remember that all the necesary imports need to be INSIDE the function for the Function Interface to work!\n",
    "    from bids.grabbids import BIDSLayout\n",
    "    \n",
    "    layout = BIDSLayout(data_dir)\n",
    "    \n",
    "    anat_file_path = [f.filename for f in layout.get(subject=subject_id, type='T1w', extensions=['nii', 'nii.gz'])]\n",
    "    func_file_path = [f.filename for f in layout.get(subject=subject_id, type='bold', extensions=['nii', 'nii.gz'])]\n",
    "    \n",
    "    return anat_file_path[0],func_file_path[0]\n",
    "\n",
    "# Refer to Supplementary material section One for info on arguments for layout.get()"
   ]
  },
  {
   "cell_type": "markdown",
   "metadata": {},
   "source": [
    "Wrap it inside a Node"
   ]
  },
  {
   "cell_type": "code",
   "execution_count": 19,
   "metadata": {
    "collapsed": true
   },
   "outputs": [],
   "source": [
    "BIDSDataGrabber = Node(Function(function=get_nifti_filenames, input_names=['subject_id','data_dir'],\n",
    "                                output_names=['anat_file_path','func_file_path']), name='BIDSDataGrabber')\n",
    "BIDSDataGrabber.iterables = [('subject_id',subject_list)]\n",
    "BIDSDataGrabber.inputs.data_dir = data_directory"
   ]
  },
  {
   "cell_type": "code",
   "execution_count": 20,
   "metadata": {
    "collapsed": true
   },
   "outputs": [],
   "source": [
    "# To test the function wrapped in the node\n",
    "\n",
    "# BIDSDataGrabber.inputs.data_dir = data_directory\n",
    "# BIDSDataGrabber.inputs.subject_id = layout.get_subjects()[0] # gives the first subject's ID\n",
    "# res = BIDSDataGrabber.run()\n",
    "\n",
    "# res.outputs"
   ]
  },
  {
   "cell_type": "markdown",
   "metadata": {},
   "source": [
    "## Create a FC node\n",
    "\n",
    "This node:\n",
    "1. Exracts the average time series of the brain ROI's using the atlas and stores \n",
    "    it as a matrix of size [ROIs x Volumes].\n",
    "2. Extracts the Voxel time series and stores it in matrix of size [Voxels x Volumes]\n"
   ]
  },
  {
   "cell_type": "markdown",
   "metadata": {},
   "source": [
    "TODO: Check how nifti masker works. How does it summarize an ROI? Does it take the mean of all the voxels?"
   ]
  },
  {
   "cell_type": "code",
   "execution_count": 99,
   "metadata": {
    "collapsed": true
   },
   "outputs": [],
   "source": [
    "# Initialize a matrix of ROI time series and voxel time series\n",
    "\n",
    "ROI_matrix = np.zeros((num_ROIs, num_volumes))\n",
    "voxel_matrix = np.zeros((num_brain_voxels, num_volumes))"
   ]
  },
  {
   "cell_type": "code",
   "execution_count": 100,
   "metadata": {},
   "outputs": [
    {
     "data": {
      "text/plain": [
       "'0050952'"
      ]
     },
     "execution_count": 100,
     "metadata": {},
     "output_type": "execute_result"
    }
   ],
   "source": [
    "func_file_path[0].split('/')[-1].split('.')[0].split('_')[0].split('-')[1]"
   ]
  },
  {
   "cell_type": "code",
   "execution_count": null,
   "metadata": {
    "collapsed": true
   },
   "outputs": [],
   "source": [
    "# Fill up the voxel_matrix \n",
    "\n",
    "brain_data = nib.load(func_file_path[0])\n",
    "brain = brain_data.get_data()\n",
    "\n",
    "# %time gives incorrect time. check!\n",
    "x_dim, y_dim, z_dim, _ = brain.shape\n",
    "\n",
    "voxel_counter = 0\n",
    "for i in range(x_dim):\n",
    "    for j in range(y_dim):\n",
    "        for k in range(z_dim):\n",
    "            if mask[i,j,k] == 1:\n",
    "                voxel_matrix[voxel_counter,:] = brain[i,j,k,:] \n",
    "                voxel_counter = voxel_counter + 1\n",
    "\n",
    "\n"
   ]
  },
  {
   "cell_type": "code",
   "execution_count": null,
   "metadata": {
    "collapsed": true
   },
   "outputs": [],
   "source": [
    "%%time\n",
    "# Fill up the ROI_matrix\n",
    "\n",
    "# Keep track of number of voxels per ROI as well by using an array - num_voxels_in_ROI[]\n",
    "\n",
    "\n",
    "num_voxels_in_ROI = np.zeros((num_ROIs,1)) # A column arrray containing number of voxels in each ROI\n",
    "\n",
    "for i in range(x_dim):\n",
    "    for j in range(y_dim):\n",
    "        for k in range(z_dim):\n",
    "            label = int(atlas[i,j,k]) - 1\n",
    "            if label != -1:\n",
    "                ROI_matrix[label,:] = np.add(ROI_matrix[label,:], brain[i,j,k,:])\n",
    "                num_voxels_in_ROI[label,0] = num_voxels_in_ROI[label,0] + 1\n",
    "                \n",
    "ROI_matrix = np.divide(ROI_matrix,num_voxels_in_ROI) # Check if divide is working correctly\n"
   ]
  },
  {
   "cell_type": "code",
   "execution_count": null,
   "metadata": {
    "collapsed": true
   },
   "outputs": [],
   "source": [
    "# Calculate the Correlation matrix [ROI x Voxels]\n",
    "# Check if numpy's correlation function expects the mean centered data or not\n",
    "# -> Couldn't find out. So make your own function to calculate pearson correlation "
   ]
  },
  {
   "cell_type": "code",
   "execution_count": null,
   "metadata": {
    "collapsed": true
   },
   "outputs": [],
   "source": [
    "X, Y = ROI_matrix, voxel_matrix\n",
    "# Subtract mean from X and Y\n",
    "\n",
    "X = np.subtract(X, np.mean(X))\n",
    "Y = np.subtract(Y, np.mean(Y))\n",
    "\n",
    "temp1 = np.dot(X,Y.T)\n",
    "print \"Temp1 Done\"\n",
    "temp2 = np.sqrt(np.multiply(X,X))\n",
    "print \"Temp2 Done\"\n",
    "temp3 = np.sqrt(np.multiply(Y,Y)).T\n",
    "print \"Temp3 Done\"\n",
    "temp4 = np.dot(temp2,temp3)\n",
    "print \"Temp4 Done\"\n",
    "pear = np.divide(temp1, (temp4+0.0001))\n",
    "print \"Pear Done\""
   ]
  },
  {
   "cell_type": "code",
   "execution_count": 111,
   "metadata": {},
   "outputs": [
    {
     "data": {
      "text/plain": [
       "(274, 228483)"
      ]
     },
     "execution_count": 111,
     "metadata": {},
     "output_type": "execute_result"
    }
   ],
   "source": [
    "pear.shape"
   ]
  },
  {
   "cell_type": "markdown",
   "metadata": {},
   "source": [
    "Looks gr8!"
   ]
  },
  {
   "cell_type": "markdown",
   "metadata": {},
   "source": [
    "1. Now, Lets encapsulate the above code inside a function and then in a node that will take as input the func file path and creates the FC map for that.\n",
    "\n",
    "2. Next Node will be a join node that will create a two groups\n",
    "\n",
    "3. Can we do the 1step by using some other node type like map?"
   ]
  },
  {
   "cell_type": "code",
   "execution_count": null,
   "metadata": {
    "collapsed": true
   },
   "outputs": [],
   "source": [
    "# Create a the function\n",
    "\n",
    "def pear_coff(in_file, atlas, num_brain_voxels, mask):\n",
    "    \n",
    "    # imports\n",
    "    import numpy as np\n",
    "    import nibabel as nib\n",
    "    import os\n",
    "    from os.path import join as opj\n",
    "    \n",
    "#     # Put in the path of atlas you wish to use\n",
    "#     atlasPath = opj(s,'atlas/Full_brain_atlas_thr0-2mm/fullbrain_atlas_thr0-2mm.nii.gz')\n",
    "    \n",
    "#     # Read the atlas\n",
    "#     atlasObject = nib.load(atlasPath)\n",
    "#     atlas = atlasObject.get_data()\n",
    "    os.chdir('/home/jovyan/work/preprocess/temp/')\n",
    "    \n",
    "    \n",
    "    num_ROIs = int((np.max(atlas) - np.min(atlas) ))\n",
    "\n",
    "#     print('Min Index:', np.min(atlas),'Max Index', np.max(atlas))\n",
    "#     print('Total Number of Parcellations = ',num_ROIs)\n",
    "    \n",
    "    \n",
    "    \n",
    "    # Read the brain in_file\n",
    "\n",
    "    brain_data = nib.load(in_file)\n",
    "    brain = brain_data.get_data()\n",
    "\n",
    "    # %time gives incorrect time. check!\n",
    "    x_dim, y_dim, z_dim, num_volumes = brain.shape\n",
    "\n",
    "    \n",
    "    # Initialize a matrix of ROI time series and voxel time series\n",
    "\n",
    "    ROI_matrix = np.zeros((num_ROIs, num_volumes))\n",
    "    voxel_matrix = np.zeros((num_brain_voxels, num_volumes))\n",
    "    \n",
    "    # Fill up the voxel_matrix \n",
    "#     print 'Filling up the voxel matrix'\n",
    "    voxel_counter = 0\n",
    "    for i in range(x_dim):\n",
    "        for j in range(y_dim):\n",
    "            for k in range(z_dim):\n",
    "                if mask[i,j,k] == 1:\n",
    "                    voxel_matrix[voxel_counter,:] = brain[i,j,k,:] \n",
    "                    voxel_counter = voxel_counter + 1\n",
    "    \n",
    "    # Fill up the ROI_matrix\n",
    "    \n",
    "#     print 'FIlling up the ROI matrix'\n",
    "    # Keep track of number of voxels per ROI as well by using an array - num_voxels_in_ROI[]\n",
    "\n",
    "    num_voxels_in_ROI = np.zeros((num_ROIs,1)) # A column arrray containing number of voxels in each ROI\n",
    "\n",
    "    for i in range(x_dim):\n",
    "        for j in range(y_dim):\n",
    "            for k in range(z_dim):\n",
    "                label = int(atlas[i,j,k]) - 1\n",
    "                if label != -1:\n",
    "                    ROI_matrix[label,:] = np.add(ROI_matrix[label,:], brain[i,j,k,:])\n",
    "                    num_voxels_in_ROI[label,0] = num_voxels_in_ROI[label,0] + 1\n",
    "\n",
    "    ROI_matrix = np.divide(ROI_matrix,num_voxels_in_ROI) # Check if divide is working correctly\n",
    "    \n",
    "#     print 'Done'\n",
    "    # Calculate the Correlation matrix [ROI x Voxels]\n",
    "    X, Y = ROI_matrix, voxel_matrix\n",
    "    \n",
    "    # Subtract mean from X and Y\n",
    "    X = np.subtract(X, np.mean(X))\n",
    "    Y = np.subtract(Y, np.mean(Y))\n",
    "\n",
    "    temp1 = np.dot(X,Y.T)\n",
    "    temp2 = np.sqrt(np.multiply(X,X))\n",
    "    temp3 = np.sqrt(np.multiply(Y,Y)).T\n",
    "    temp4 = np.dot(temp2,temp3)\n",
    "    pear_matrix = np.divide(temp1, (temp4+0.0001))\n",
    "#     print \"Pear Done\"\n",
    "    \n",
    "    sub_id = in_file.split('/')[-1].split('.')[0].split('_')[0].split('-')[1]\n",
    "    \n",
    "    fc_file_name = sub_id + 'fc_map'\n",
    "    \n",
    "    np.save(fc_file_name, pear_matrix)\n",
    "    \n",
    "    pear_matrix_file = opj(os.getcwd(),fc_file_name) # path\n",
    "    return pear_matrix_file\n",
    "#     pear_matrix = 1\n",
    "#     return pear_matrix\n",
    "    \n",
    "    "
   ]
  },
  {
   "cell_type": "code",
   "execution_count": null,
   "metadata": {
    "collapsed": true
   },
   "outputs": [],
   "source": [
    "import os\n",
    "from os.path import join as opj\n",
    "fc_file_name ='varun'\n",
    "fc_file_path = opj(os.getcwd(),fc_file_name)\n",
    "fc_file_path"
   ]
  },
  {
   "cell_type": "code",
   "execution_count": null,
   "metadata": {
    "collapsed": true
   },
   "outputs": [],
   "source": [
    "# Create the Node and set default valus to\n",
    "\n",
    "pearcoff = Node(Function(function=pear_coff, input_names=['in_file','atlas','num_brain_voxels','mask'],\n",
    "                                output_names=['pear_matrix']), name='pearcoff')\n",
    "\n",
    "pearcoff.inputs.in_file = func_file_path[0]\n",
    "pearcoff.inputs.atlas = atlas\n",
    "pearcoff.inputs.num_brain_voxels = num_brain_voxels\n",
    "pearcoff.inputs.mask = mask"
   ]
  },
  {
   "cell_type": "code",
   "execution_count": null,
   "metadata": {
    "collapsed": true
   },
   "outputs": [],
   "source": [
    "%%time\n",
    "pearcoff.run()"
   ]
  },
  {
   "cell_type": "code",
   "execution_count": null,
   "metadata": {
    "collapsed": true
   },
   "outputs": [],
   "source": [
    "# Okay Lets try one more time:\n",
    "# Create a the function\n",
    "\n",
    "def pear_coff_2(in_file, atlas_file, mask_file):\n",
    "    # code to find how many voxels are in the brain region using the mask\n",
    "    \n",
    "        # imports\n",
    "    import numpy as np\n",
    "    import nibabel as nib\n",
    "    import os\n",
    "    from os.path import join as opj\n",
    "\n",
    "    \n",
    "    os.chdir('/home/jovyan/work/preprocess/temp/')\n",
    "    \n",
    "    num_brain_voxels = 0\n",
    "    mask_data = nib.load(mask_file)\n",
    "    mask = mask_data.get_data()\n",
    "\n",
    "    x_dim, y_dim, z_dim = mask_data.shape\n",
    "\n",
    "    for i in range(x_dim):\n",
    "        for j in range(y_dim):\n",
    "            for k in range(z_dim):\n",
    "                if mask[i,j,k] == 1:\n",
    "                    num_brain_voxels = num_brain_voxels + 1\n",
    "                    \n",
    "    atlasPath = atlas_file\n",
    "    # Read the atlas\n",
    "    atlasObject = nib.load(atlasPath)\n",
    "    atlas = atlasObject.get_data()\n",
    "    \n",
    "    num_ROIs = int((np.max(atlas) - np.min(atlas) ))\n",
    "\n",
    "#     print('Min Index:', np.min(atlas),'Max Index', np.max(atlas))\n",
    "#     print('Total Number of Parcellations = ',num_ROIs)\n",
    "\n",
    "    # Read the brain in_file\n",
    "\n",
    "    brain_data = nib.load(in_file)\n",
    "    brain = brain_data.get_data()\n",
    "\n",
    "    x_dim, y_dim, z_dim, num_volumes = brain.shape\n",
    "    \n",
    "    # Initialize a matrix of ROI time series and voxel time series\n",
    "\n",
    "    ROI_matrix = np.zeros((num_ROIs, num_volumes))\n",
    "    voxel_matrix = np.zeros((num_brain_voxels, num_volumes))\n",
    "    \n",
    "    # Fill up the voxel_matrix \n",
    "    print('Filling up voxel matrix')\n",
    "    voxel_counter = 0\n",
    "    for i in range(x_dim):\n",
    "        for j in range(y_dim):\n",
    "            for k in range(z_dim):\n",
    "                if mask[i,j,k] == 1:\n",
    "                    voxel_matrix[voxel_counter,:] = brain[i,j,k,:] \n",
    "                    voxel_counter = voxel_counter + 1\n",
    "\n",
    "                    \n",
    "    # Fill up the ROI_matrix\n",
    "    print('Filling up voxel matrix')\n",
    "    # Keep track of number of voxels per ROI as well by using an array - num_voxels_in_ROI[]\n",
    "\n",
    "    num_voxels_in_ROI = np.zeros((num_ROIs,1)) # A column arrray containing number of voxels in each ROI\n",
    "\n",
    "    for i in range(x_dim):\n",
    "        for j in range(y_dim):\n",
    "            for k in range(z_dim):\n",
    "                label = int(atlas[i,j,k]) - 1\n",
    "                if label != -1:\n",
    "                    ROI_matrix[label,:] = np.add(ROI_matrix[label,:], brain[i,j,k,:])\n",
    "                    num_voxels_in_ROI[label,0] = num_voxels_in_ROI[label,0] + 1\n",
    "\n",
    "    ROI_matrix = np.divide(ROI_matrix,num_voxels_in_ROI) # Check if divide is working correctly\n",
    "\n",
    "    X, Y = ROI_matrix, voxel_matrix\n",
    "    # Subtract mean from X and Y\n",
    "\n",
    "    X = np.subtract(X, np.mean(X))\n",
    "    Y = np.subtract(Y, np.mean(Y))\n",
    "\n",
    "    temp1 = np.dot(X,Y.T)\n",
    "    print (\"Temp1 Done\")\n",
    "    temp2 = np.sqrt(np.multiply(X,X))\n",
    "    print (\"Temp2 Done\")\n",
    "    temp3 = np.sqrt(np.multiply(Y,Y)).T\n",
    "    print (\"Temp3 Done\")\n",
    "    temp4 = np.dot(temp2,temp3)\n",
    "    print (\"Temp4 Done\")\n",
    "    coff_matrix = np.divide(temp1, (temp4+0.0001))\n",
    "    print (\"Pear Done\")\n",
    "#     print ('Over!')\n",
    "#     coff_matrix = 1\n",
    "    sub_id = in_file.split('/')[-1].split('.')[0].split('_')[0].split('-')[1]\n",
    "    \n",
    "    fc_file_name = sub_id + 'fc_map'\n",
    "    \n",
    "    np.save(fc_file_name, coff_matrix)\n",
    "    \n",
    "    coff_matrix_file = opj(os.getcwd(),fc_file_name) # path\n",
    "    return coff_matrix_file\n",
    "\n"
   ]
  },
  {
   "cell_type": "code",
   "execution_count": null,
   "metadata": {
    "collapsed": true
   },
   "outputs": [],
   "source": [
    "# Again Create the Node and set default valus to\n",
    "\n",
    "pearcoff = Node(Function(function=pear_coff_2, input_names=['in_file','atlas_file','mask_file'],\n",
    "                                output_names=['coff_matrix_file']), name='pearcoff')\n",
    "\n",
    "pearcoff.inputs.in_file = func_file_path[0]\n",
    "pearcoff.inputs.atlas_file = atlasPath\n",
    "# pearcoff.inputs.num_brain_voxels = num_brain_voxels\n",
    "pearcoff.inputs.mask_file = mask_file"
   ]
  },
  {
   "cell_type": "code",
   "execution_count": null,
   "metadata": {
    "collapsed": true
   },
   "outputs": [],
   "source": [
    "%%time\n",
    "pearcoff.run()"
   ]
  },
  {
   "cell_type": "markdown",
   "metadata": {},
   "source": [
    "Above are the two ways the node can be created:\n",
    "> You can pass the whole matrix as input (or)  \n",
    "> You can pass just the file name and let the function compute the matrix\n",
    "\n",
    "The comparison between two :  The second approach is faster: 11.2 sec vs 15.1 sec. Next to confirm, run the second function first then the second function and then check.\n",
    "\n",
    "**Takeaway:** The system hangs if you are trying to return big matrices. Solution is to save the matrix and return the path of it.\n",
    "\n"
   ]
  },
  {
   "cell_type": "markdown",
   "metadata": {},
   "source": [
    "## Create a JOIN Node\n",
    "\n",
    "Create a Join Node that takes all the FC maps created and group them in two groups by looking at the subject ID [Later try to read the participants.tsv and use the data given in it to see to which group the subject belongs].  \n",
    "Output: Two 3D tensors, each of size [ROI x Voxels x Num_subjects]\n",
    "\n",
    "NO!\n",
    "\n",
    "It would be very difficult to keep all that data in memory.\n",
    "\n",
    "Instead of creating tensors, group filenames in two lists - Autistic and TD. And return these two lists.\n",
    "Hmmm.. Looks good :)\n",
    "\n",
    "----------------------------------------------------------------------------------------------------------\n",
    "\n",
    "Then for each group, loop over all the entries of matrix - [i,j,:] But again storing such a big matrix is not possible:\n",
    "\n",
    "SOLUTION:  \n",
    "\n",
    "Mem-map the stored array, and then access the second row directly from disk:\n",
    "\n",
    "> X = np.load('/tmp/123.npy', mmap_mode='r')  \n",
    "> X[1, :]  \n",
    "\n",
    "memmap([4, 5, 6]) # Second row of the array.\n",
    "\n",
    "Source: https://docs.scipy.org/doc/numpy-1.13.0/reference/generated/numpy.load.html\n",
    "\n",
    "Solution is to loop over the Matrix and select only one row. This will be of size 500/174 MB  \n",
    "Do this for all the files. \n",
    "\n",
    "In the first pass:  \n",
    "\n",
    "* First row of all the subjects will be read. Size = 500(for each FC map)/174(number of ROIs)  * ~174(subjects) \n",
    "Therefore the size of data in first pass will be ~500 MB.\n",
    "* After reading the data, store it into a temporary array [remember to overwrite this in next pass]\n",
    "* The size of the temporary array will be [Num_subjects x voxels] - This denote the corr values 1st ROI with of all voxels.\n",
    "* Perform T-test on each of the columns.\n",
    "\n",
    "NEXT: Think about how to store the results of T test and apply FDR and how to map it back to brain.[when the above works fine]\n",
    "\n",
    "\n",
    "\n",
    "\n",
    "\n"
   ]
  },
  {
   "cell_type": "markdown",
   "metadata": {},
   "source": [
    "### Lets load the FC matrix in chunks"
   ]
  },
  {
   "cell_type": "code",
   "execution_count": null,
   "metadata": {
    "collapsed": true
   },
   "outputs": [],
   "source": [
    "X = np.load('/home/jovyan/work/preprocess/temp/0050952fc_map.npy', mmap_mode='r')"
   ]
  },
  {
   "cell_type": "code",
   "execution_count": null,
   "metadata": {
    "collapsed": true
   },
   "outputs": [],
   "source": [
    "corr_chunk = X[0,:]"
   ]
  },
  {
   "cell_type": "code",
   "execution_count": null,
   "metadata": {
    "collapsed": true
   },
   "outputs": [],
   "source": [
    "corr_chunk1 = X[1,:]"
   ]
  },
  {
   "cell_type": "code",
   "execution_count": null,
   "metadata": {
    "collapsed": true
   },
   "outputs": [],
   "source": [
    "X.shape, corr_chunk.shape, corr_chunk1.shape"
   ]
  },
  {
   "cell_type": "markdown",
   "metadata": {},
   "source": [
    "2.06 GB occupied before reading \n",
    "2.09 GB after reading\n",
    "\n",
    "one row with 228483 values occupied 0.03 GB = 0.03*1024 = 30.72 MB\n",
    "\n",
    "30.72 MB is occupied for one row of one subject\n",
    "\n",
    "30.72 * 184 = 5648.8 MB ~ 5.5 GB will be occupied for one ROI's analysis"
   ]
  },
  {
   "cell_type": "markdown",
   "metadata": {},
   "source": [
    "   ### Create the node again with the workspace"
   ]
  },
  {
   "cell_type": "markdown",
   "metadata": {},
   "source": [
    "Func Connectivity function with minor changes so that the FC matrix is saved in the Node's folder"
   ]
  },
  {
   "cell_type": "code",
   "execution_count": 21,
   "metadata": {
    "collapsed": true
   },
   "outputs": [],
   "source": [
    "def pear_coff_2(in_file, atlas_file, mask_file, num_brain_voxels):\n",
    "    # code to find how many voxels are in the brain region using the mask\n",
    "    \n",
    "        # imports\n",
    "    import numpy as np\n",
    "    import nibabel as nib\n",
    "    import os\n",
    "    from os.path import join as opj\n",
    "\n",
    "    \n",
    "#     os.chdir('/home/jovyan/work/preprocess/temp/')\n",
    "    \n",
    "#     num_brain_voxels = 0\n",
    "    mask_data = nib.load(mask_file)\n",
    "    mask = mask_data.get_data()\n",
    "\n",
    "    x_dim, y_dim, z_dim = mask_data.shape\n",
    "\n",
    "#     for i in range(x_dim):\n",
    "#         for j in range(y_dim):\n",
    "#             for k in range(z_dim):\n",
    "#                 if mask[i,j,k] == 1:\n",
    "#                     num_brain_voxels = num_brain_voxels + 1\n",
    "                    \n",
    "    atlasPath = atlas_file\n",
    "    # Read the atlas\n",
    "    atlasObject = nib.load(atlasPath)\n",
    "    atlas = atlasObject.get_data()\n",
    "    \n",
    "    num_ROIs = int((np.max(atlas) - np.min(atlas) ))\n",
    "\n",
    "#     print('Min Index:', np.min(atlas),'Max Index', np.max(atlas))\n",
    "#     print('Total Number of Parcellations = ',num_ROIs)\n",
    "\n",
    "    # Read the brain in_file\n",
    "\n",
    "    brain_data = nib.load(in_file)\n",
    "    brain = brain_data.get_data()\n",
    "\n",
    "    x_dim, y_dim, z_dim, num_volumes = brain.shape\n",
    "    \n",
    "    # Initialize a matrix of ROI time series and voxel time series\n",
    "\n",
    "    ROI_matrix = np.zeros((num_ROIs, num_volumes))\n",
    "    voxel_matrix = np.zeros((num_brain_voxels, num_volumes))\n",
    "    \n",
    "    # Fill up the voxel_matrix \n",
    "#     print('Filling up voxel matrix')\n",
    "    voxel_counter = 0\n",
    "    for i in range(x_dim):\n",
    "        for j in range(y_dim):\n",
    "            for k in range(z_dim):\n",
    "                if mask[i,j,k] == 1:\n",
    "                    voxel_matrix[voxel_counter,:] = brain[i,j,k,:] \n",
    "                    voxel_counter = voxel_counter + 1\n",
    "\n",
    "                    \n",
    "    # Fill up the ROI_matrix\n",
    "#     print('Filling up voxel matrix')\n",
    "    # Keep track of number of voxels per ROI as well by using an array - num_voxels_in_ROI[]\n",
    "\n",
    "    num_voxels_in_ROI = np.zeros((num_ROIs,1)) # A column arrray containing number of voxels in each ROI\n",
    "\n",
    "    for i in range(x_dim):\n",
    "        for j in range(y_dim):\n",
    "            for k in range(z_dim):\n",
    "                label = int(atlas[i,j,k]) - 1\n",
    "                if label != -1:\n",
    "                    ROI_matrix[label,:] = np.add(ROI_matrix[label,:], brain[i,j,k,:])\n",
    "                    num_voxels_in_ROI[label,0] = num_voxels_in_ROI[label,0] + 1\n",
    "\n",
    "    ROI_matrix = np.divide(ROI_matrix,num_voxels_in_ROI) # Check if divide is working correctly\n",
    "\n",
    "    X, Y = ROI_matrix, voxel_matrix\n",
    "    # Subtract mean from X and Y\n",
    "\n",
    "    X = np.subtract(X, np.mean(X))\n",
    "    Y = np.subtract(Y, np.mean(Y))\n",
    "\n",
    "    temp1 = np.dot(X,Y.T)\n",
    "#     print (\"Temp1 Done\")\n",
    "    temp2 = np.sqrt(np.multiply(X,X))\n",
    "#     print (\"Temp2 Done\")\n",
    "    temp3 = np.sqrt(np.multiply(Y,Y)).T\n",
    "#     print (\"Temp3 Done\")\n",
    "    temp4 = np.dot(temp2,temp3)\n",
    "#     print (\"Temp4 Done\")\n",
    "    coff_matrix = np.divide(temp1, (temp4+0.0001))\n",
    "#     print (\"Pear Done\")\n",
    "#     print ('Over!')\n",
    "#     coff_matrix = 1\n",
    "    sub_id = in_file.split('/')[-1].split('.')[0].split('_')[0].split('-')[1]\n",
    "    \n",
    "    fc_file_name = sub_id + '_fc_map'\n",
    "    \n",
    "    np.save(fc_file_name, coff_matrix)\n",
    "    \n",
    "    \n",
    "    fc_file_name = fc_file_name + '.npy'\n",
    "    \n",
    "    coff_matrix_file = opj(os.getcwd(),fc_file_name) # path\n",
    "    return coff_matrix_file\n",
    "\n"
   ]
  },
  {
   "cell_type": "code",
   "execution_count": 22,
   "metadata": {
    "collapsed": true
   },
   "outputs": [],
   "source": [
    "# Again Create the Node and set default values to paths\n",
    "\n",
    "pearcoff = Node(Function(function=pear_coff_2, input_names=['in_file','atlas_file','mask_file','num_brain_voxels'],\n",
    "                                output_names=['coff_matrix_file']), name='pearcoff')\n",
    "\n",
    "# pearcoff.inputs.in_file = func_file_path[0]\n",
    "pearcoff.inputs.atlas_file = atlasPath\n",
    "pearcoff.inputs.num_brain_voxels = num_brain_voxels\n",
    "pearcoff.inputs.mask_file = mask_file"
   ]
  },
  {
   "cell_type": "code",
   "execution_count": 23,
   "metadata": {
    "collapsed": true
   },
   "outputs": [],
   "source": [
    "# %%time\n",
    "# pearcoff.run()"
   ]
  },
  {
   "cell_type": "markdown",
   "metadata": {},
   "source": [
    "## Datasink\n",
    "I needed to define the structure of what files are saved and where."
   ]
  },
  {
   "cell_type": "code",
   "execution_count": 24,
   "metadata": {
    "collapsed": true
   },
   "outputs": [],
   "source": [
    "# Create DataSink object\n",
    "dataSink = Node(DataSink(), name='datasink')\n",
    "\n",
    "# Name of the output folder\n",
    "dataSink.inputs.base_directory = opj(base_directory,'datasink_fc')\n",
    "\n",
    "\n"
   ]
  },
  {
   "cell_type": "markdown",
   "metadata": {},
   "source": [
    "To create the substitutions I looked the `datasink` folder where I was redirecting the output. I manually selected the part of file/folder name that I wanted to change and copied below to be substituted.  \n",
    "\n",
    "**TODO:** Using datasink create a hierarchical directory structure i.e. folder in folder - to exactly match BIDS."
   ]
  },
  {
   "cell_type": "code",
   "execution_count": 25,
   "metadata": {
    "collapsed": true
   },
   "outputs": [],
   "source": [
    "# Define substitution strings so that the data is similar to BIDS\n",
    "substitutions = [('_subject_id_', 'sub-')]\n",
    "\n",
    "# Feed the substitution strings to the DataSink node\n",
    "dataSink.inputs.substitutions = substitutions\n",
    "\n",
    "# ('_resample_brain_flirt.nii_brain', ''),\n",
    "# ('_roi_st_mcf_flirt.nii_brain_flirt', ''),\n",
    "                "
   ]
  },
  {
   "cell_type": "markdown",
   "metadata": {},
   "source": [
    "### Create a Join node to gather the FC maps computed "
   ]
  },
  {
   "cell_type": "markdown",
   "metadata": {},
   "source": [
    "First lets create the function to do hypothesis testing:  \n",
    "* It reads ROI i (Starting from 1) row of all the subjects in the FC matrix and saves it in a matrix of size [num_subjects x voxels]\n",
    "* Loops over the elements of each column, converts to z-score and then does a t-test\n",
    "* Each column gives the variation of corr coff of ROI i with the voxel corresponding to the column.\n",
    "* After this operation you get a vector of p-values of size- number of voxels telling how significant the voxel connectivity is with the ROI i "
   ]
  },
  {
   "cell_type": "code",
   "execution_count": 67,
   "metadata": {
    "collapsed": true
   },
   "outputs": [],
   "source": [
    "def hypothesis_test(fc_file_list):\n",
    "    \n",
    "    # imports\n",
    "    from scipy import stats\n",
    "    import numpy as np\n",
    "    import os\n",
    "    from os.path import join as opj\n",
    "\n",
    "    \n",
    "    \n",
    "    file_handle = []\n",
    "    \n",
    "    # store all the fc file handles in a list\n",
    "    for file_path in fc_file_list:\n",
    "        file_handle.append(np.load(file_path, mmap_mode='r'))\n",
    "        \n",
    "     \n",
    "    # extracting the shape of one FC map and checking the num of rows and columns\n",
    "    number_of_ROIs, number_of_voxels = file_handle[0].shape \n",
    "    \n",
    "    # define the matrix for storing the voxels corr values corresponding to ith ROI for all subjects\n",
    "    all_subject_corr_matrix = np.zeros((len(file_handle), number_of_voxels))\n",
    "    \n",
    "    # Matrix to store the p-values which results from doing t-test\n",
    "    \n",
    "    significance_matrix = np.zeros((file_handle[0].shape))\n",
    "    \n",
    "    number_of_ROIs = 1\n",
    "    # reads the rows one by one of the fc map for all subjects in Autism group\n",
    "    for roi in range(number_of_ROIs):\n",
    "        for participant_index in range(len(file_handle)):\n",
    "            all_subject_corr_matrix[participant_index,:] = file_handle[participant_index][roi,:]\n",
    "    \n",
    "        # do z-standardization of corr values individually for each column and then do a t-test individually for each column\n",
    "        # use : https://docs.scipy.org/doc/scipy-0.14.0/reference/generated/scipy.stats.mstats.zscore.html\n",
    "        for voxel in range(number_of_voxels):\n",
    "            all_subject_corr_matrix[:,voxel] = stats.mstats.zscore(all_subject_corr_matrix[:,voxel])        \n",
    "        # and then : https://docs.scipy.org/doc/scipy-0.19.1/reference/generated/scipy.stats.ttest_ind.html\n",
    "        # Divide into two groups - 0-78 - Autistic , 79-183 -TD \n",
    "            \n",
    "            autism_start_index = 0\n",
    "            autism_end_index = 1 #78\n",
    "            td_start_index = 2 #79\n",
    "            td_end_index = 3 #183\n",
    "        \n",
    "            _,significance_matrix[roi,voxel] = stats.ttest_ind(all_subject_corr_matrix[autism_start_index:autism_end_index+1,voxel],\n",
    "                                                                   all_subject_corr_matrix[td_start_index:td_end_index+1,voxel])\n",
    "    \n",
    "    print('Now going to save significance matrix')\n",
    "    np.save('significance_matrix',significance_matrix)\n",
    "    \n",
    "    significance_matrix_file_name ='significance_matrix.npy'\n",
    "    \n",
    "    \n",
    "    significance_matrix_file = opj(os.getcwd(),significance_matrix_file_name) # path\n",
    "    \n",
    "    return significance_matrix_file\n",
    "    "
   ]
  },
  {
   "cell_type": "code",
   "execution_count": 90,
   "metadata": {
    "collapsed": true
   },
   "outputs": [],
   "source": [
    "def hypothesis_test_parallel(fc_file_list):  # Not working!\n",
    "    \n",
    "    # imports\n",
    "    from scipy import stats\n",
    "    import numpy as np\n",
    "    import os\n",
    "    from os.path import join as opj\n",
    "    from multiprocessing import Pool\n",
    "\n",
    "    significance_matrix_file_name ='significance_matrix.npy'\n",
    "    significance_matrix_file = opj(os.getcwd(),significance_matrix_file_name) # path\n",
    "    print('File name: ',significance_matrix_file)\n",
    "    \n",
    "    \n",
    "#     file_handle = []\n",
    "    \n",
    "#     # store all the fc file handles in a list\n",
    "#     for file_path in fc_file_list:\n",
    "#         file_handle.append(np.load(file_path, mmap_mode='r'))\n",
    "        \n",
    "     \n",
    "    # extracting the shape of one FC map and checking the num of rows and columns\n",
    "#     number_of_ROIs, number_of_voxels = file_handle[0].shape \n",
    "    number_of_ROIs, number_of_voxels = np.load(fc_file_list[0], mmap_mode='r').shape\n",
    "    \n",
    "    \n",
    "    # define the matrix for storing the voxels corr values corresponding to ith ROI for all subjects\n",
    "    all_subject_corr_matrix = np.zeros((len(fc_file_list), number_of_voxels))\n",
    "    \n",
    "    # Matrix to store the p-values which results from doing t-test\n",
    "    \n",
    "    significance_matrix = np.zeros((number_of_ROIs, number_of_voxels))\n",
    "    \n",
    "    \n",
    "    \n",
    "#     significance_matrix = np.memmap('significance_matrix', dtype='float32', mode='w+', shape=(file_handle[0].shape))\n",
    "    \n",
    "    number_of_ROIs = 8\n",
    "    # reads the rows one by one of the fc map for all subjects in Autism group\n",
    "    \n",
    "    \n",
    "    def calc_significance(roi):\n",
    "\n",
    "        file_handle = []   # Again coz file handle cannot be pickled\n",
    "\n",
    "        # store all the fc file handles in a list\n",
    "        for file_path in fc_file_list:                             \n",
    "            file_handle.append(np.load(file_path, mmap_mode='r'))\n",
    "\n",
    "        \n",
    "        global significance_matrix\n",
    "        for participant_index in range(len(file_handle)):\n",
    "            all_subject_corr_matrix[participant_index,:] = file_handle[participant_index][roi,:]\n",
    "    \n",
    "        # do z-standardization of corr values individually for each column and then do a t-test individually for each column\n",
    "        # use : https://docs.scipy.org/doc/scipy-0.14.0/reference/generated/scipy.stats.mstats.zscore.html\n",
    "        for voxel in range(number_of_voxels):\n",
    "            all_subject_corr_matrix[:,voxel] = stats.mstats.zscore(all_subject_corr_matrix[:,voxel])        \n",
    "        # and then : https://docs.scipy.org/doc/scipy-0.19.1/reference/generated/scipy.stats.ttest_ind.html\n",
    "        # Divide into two groups - 0-78 - Autistic , 79-183 -TD \n",
    "            \n",
    "            autism_start_index = 0\n",
    "            autism_end_index = 1 #78\n",
    "            td_start_index = 2 #79\n",
    "            td_end_index = 3 #183\n",
    "        \n",
    "            _,significance_matrix[roi,voxel] = stats.ttest_ind(all_subject_corr_matrix[autism_start_index:autism_end_index+1,voxel],\n",
    "                                                                   all_subject_corr_matrix[td_start_index:td_end_index+1,voxel])\n",
    "    \n",
    "        return 1\n",
    "    \n",
    "    \n",
    "    pool = Pool(8) # on 8 processors\n",
    "    pool_inputs = np.arange(number_of_ROIs)\n",
    "    data_outputs = pool.map(calc_significance, pool_inputs)\n",
    "    \n",
    "    \n",
    "    print('Now going to save significance matrix')\n",
    "    np.save('significance_matrix',significance_matrix)\n",
    "    \n",
    "#     del significance_matrix # Deletion flushes memory changes to disk before removing the object\n",
    "    \n",
    "    significance_matrix_file_name ='significance_matrix.npy'\n",
    "    \n",
    "    print('Saved!')\n",
    "    \n",
    "    significance_matrix_file = opj(os.getcwd(),significance_matrix_file_name) # path\n",
    "    \n",
    "    return significance_matrix_file\n",
    "    "
   ]
  },
  {
   "cell_type": "code",
   "execution_count": 91,
   "metadata": {
    "collapsed": true
   },
   "outputs": [],
   "source": [
    "# def hypothesis_test1(fc_file_list):\n",
    "#     print('FC File list ',fc_file_list)\n",
    "#     significance_matrix = 1\n",
    "#     return significance_matrix\n",
    "    \n",
    "    \n",
    "#     Not able to print???? Check why????"
   ]
  },
  {
   "cell_type": "code",
   "execution_count": 92,
   "metadata": {
    "collapsed": true
   },
   "outputs": [],
   "source": [
    "hypothesisTest = JoinNode(Function(function=hypothesis_test, input_names=['fc_file_list'],\n",
    "                 output_names=['significance_matrix_file']),\n",
    "                 joinsource=\"BIDSDataGrabber\",\n",
    "                 joinfield=\"fc_file_list\",\n",
    "                 name=\"hypothesisTest\")"
   ]
  },
  {
   "cell_type": "code",
   "execution_count": null,
   "metadata": {
    "collapsed": true
   },
   "outputs": [],
   "source": []
  },
  {
   "cell_type": "markdown",
   "metadata": {},
   "source": [
    "### Create the Workflow"
   ]
  },
  {
   "cell_type": "code",
   "execution_count": 93,
   "metadata": {},
   "outputs": [
    {
     "name": "stdout",
     "output_type": "stream",
     "text": [
      "171024-15:05:26,732 workflow INFO:\n",
      "\t Workflow functionalConnectivity settings: ['check', 'execution', 'logging']\n",
      "171024-15:05:27,65 workflow INFO:\n",
      "\t Running in parallel.\n",
      "171024-15:05:27,76 workflow INFO:\n",
      "\t Executing: BIDSDataGrabber.aI.a0 ID: 0\n",
      "171024-15:05:27,85 workflow INFO:\n",
      "\t [Job finished] jobname: BIDSDataGrabber.aI.a0 jobid: 0\n",
      "171024-15:05:27,91 workflow INFO:\n",
      "\t Executing: BIDSDataGrabber.aI.a1 ID: 2\n",
      "171024-15:05:27,97 workflow INFO:\n",
      "\t [Job finished] jobname: BIDSDataGrabber.aI.a1 jobid: 2\n",
      "171024-15:05:27,108 workflow INFO:\n",
      "\t Executing: BIDSDataGrabber.aI.a2 ID: 4\n",
      "171024-15:05:27,113 workflow INFO:\n",
      "\t [Job finished] jobname: BIDSDataGrabber.aI.a2 jobid: 4\n",
      "171024-15:05:27,118 workflow INFO:\n",
      "\t Executing: BIDSDataGrabber.aI.a3 ID: 7\n",
      "171024-15:05:27,121 workflow INFO:\n",
      "\t [Job finished] jobname: BIDSDataGrabber.aI.a3 jobid: 7\n",
      "171024-15:05:27,126 workflow INFO:\n",
      "\t Executing: pearcoff.a0 ID: 1\n",
      "171024-15:05:27,133 workflow INFO:\n",
      "\t [Job finished] jobname: pearcoff.a0 jobid: 1\n",
      "171024-15:05:27,135 workflow INFO:\n",
      "\t Executing: pearcoff.a1 ID: 3\n",
      "171024-15:05:27,141 workflow INFO:\n",
      "\t [Job finished] jobname: pearcoff.a1 jobid: 3\n",
      "171024-15:05:27,143 workflow INFO:\n",
      "\t Executing: pearcoff.a2 ID: 5\n",
      "171024-15:05:27,149 workflow INFO:\n",
      "\t [Job finished] jobname: pearcoff.a2 jobid: 5\n",
      "171024-15:05:27,150 workflow INFO:\n",
      "\t Executing: pearcoff.a3 ID: 8\n",
      "171024-15:05:27,154 workflow INFO:\n",
      "\t [Job finished] jobname: pearcoff.a3 jobid: 8\n",
      "171024-15:05:27,157 workflow INFO:\n",
      "\t Executing: datasink.a2 ID: 6\n",
      "171024-15:05:27,162 workflow INFO:\n",
      "\t Executing: datasink.a3 ID: 9\n",
      "171024-15:05:27,168 workflow INFO:\n",
      "\t Executing: hypothesisTest ID: 10\n",
      "171024-15:05:27,164 workflow INFO:\n",
      "\t Executing node datasink.a2 in dir: /home/jovyan/work/preprocess/result/functionalConnectivity/_subject_id_0050954/datasink\n",
      "171024-15:05:27,170 workflow INFO:\n",
      "\t Executing node datasink.a3 in dir: /home/jovyan/work/preprocess/result/functionalConnectivity/_subject_id_0050955/datasink\n",
      "171024-15:05:27,179 workflow INFO:\n",
      "\t Executing: datasink.a0 ID: 11\n",
      "171024-15:05:27,181 workflow INFO:\n",
      "\t Executing node hypothesisTest in dir: /home/jovyan/work/preprocess/result/functionalConnectivity/hypothesisTest\n",
      "171024-15:05:27,186 workflow INFO:\n",
      "\t Executing: datasink.a1 ID: 12\n",
      "171024-15:05:27,190 workflow INFO:\n",
      "\t Executing node datasink.a0 in dir: /home/jovyan/work/preprocess/result/functionalConnectivity/_subject_id_0050952/datasink\n",
      "171024-15:05:27,201 workflow INFO:\n",
      "\t Executing node datasink.a1 in dir: /home/jovyan/work/preprocess/result/functionalConnectivity/_subject_id_0050953/datasink\n",
      "File name:  /home/jovyan/work/preprocess/result/functionalConnectivity/hypothesisTest/significance_matrix.npy\n",
      "171024-15:05:27,374 interface INFO:\n",
      "\t sub: /home/jovyan/work/preprocess/result/datasink_fc/fc_maps/_subject_id_0050952/0050952_fc_map.npy -> /home/jovyan/work/preprocess/result/datasink_fc/fc_maps/sub-0050952/0050952_fc_map.npy\n",
      "171024-15:05:27,374 interface INFO:\n",
      "\t sub: /home/jovyan/work/preprocess/result/datasink_fc/fc_maps/_subject_id_0050954/0050954_fc_map.npy -> /home/jovyan/work/preprocess/result/datasink_fc/fc_maps/sub-0050954/0050954_fc_map.npy\n",
      "171024-15:05:27,374 interface INFO:\n",
      "\t sub: /home/jovyan/work/preprocess/result/datasink_fc/fc_maps/_subject_id_0050955/0050955_fc_map.npy -> /home/jovyan/work/preprocess/result/datasink_fc/fc_maps/sub-0050955/0050955_fc_map.npy\n",
      "171024-15:05:27,374 interface INFO:\n",
      "\t sub: /home/jovyan/work/preprocess/result/datasink_fc/fc_maps/_subject_id_0050953/0050953_fc_map.npy -> /home/jovyan/work/preprocess/result/datasink_fc/fc_maps/sub-0050953/0050953_fc_map.npy\n",
      "171024-15:05:27,763 workflow ERROR:\n",
      "\t [u'Node hypothesisTest failed to run on host 678eaab9aa5a.']\n",
      "171024-15:05:27,782 workflow INFO:\n",
      "\t Saving crash info to /home/jovyan/work/preprocess/Autism-Connectome-Analysis/crash-20171024-150527-jovyan-hypothesisTest-a40a2fca-b390-43de-979d-70a41ffd18d0.pklz\n",
      "171024-15:05:27,783 workflow INFO:\n",
      "\t Traceback (most recent call last):\n",
      "  File \"/opt/conda/envs/python2/lib/python2.7/site-packages/nipype-0.13.0rc1-py2.7.egg/nipype/pipeline/plugins/multiproc.py\", line 52, in run_node\n",
      "    result['result'] = node.run(updatehash=updatehash)\n",
      "  File \"/opt/conda/envs/python2/lib/python2.7/site-packages/nipype-0.13.0rc1-py2.7.egg/nipype/pipeline/engine/nodes.py\", line 366, in run\n",
      "    self._run_interface()\n",
      "  File \"/opt/conda/envs/python2/lib/python2.7/site-packages/nipype-0.13.0rc1-py2.7.egg/nipype/pipeline/engine/nodes.py\", line 476, in _run_interface\n",
      "    self._result = self._run_command(execute)\n",
      "  File \"/opt/conda/envs/python2/lib/python2.7/site-packages/nipype-0.13.0rc1-py2.7.egg/nipype/pipeline/engine/nodes.py\", line 916, in _run_command\n",
      "    return super(JoinNode, self)._run_command(execute, copyfiles)\n",
      "  File \"/opt/conda/envs/python2/lib/python2.7/site-packages/nipype-0.13.0rc1-py2.7.egg/nipype/pipeline/engine/nodes.py\", line 607, in _run_command\n",
      "    result = self._interface.run()\n",
      "  File \"/opt/conda/envs/python2/lib/python2.7/site-packages/nipype-0.13.0rc1-py2.7.egg/nipype/interfaces/base.py\", line 1085, in run\n",
      "    runtime = self._run_wrapper(runtime)\n",
      "  File \"/opt/conda/envs/python2/lib/python2.7/site-packages/nipype-0.13.0rc1-py2.7.egg/nipype/interfaces/base.py\", line 1033, in _run_wrapper\n",
      "    runtime = self._run_interface(runtime)\n",
      "  File \"/opt/conda/envs/python2/lib/python2.7/site-packages/nipype-0.13.0rc1-py2.7.egg/nipype/interfaces/utility.py\", line 498, in _run_interface\n",
      "    out = function_handle(**args)\n",
      "  File \"<string>\", line 75, in hypothesis_test_parallel\n",
      "  File \"/opt/conda/envs/python2/lib/python2.7/multiprocessing/pool.py\", line 251, in map\n",
      "    return self.map_async(func, iterable, chunksize).get()\n",
      "  File \"/opt/conda/envs/python2/lib/python2.7/multiprocessing/pool.py\", line 567, in get\n",
      "    raise self._value\n",
      "TypeError: expected string or Unicode object, NoneType found\n",
      "Interface Function failed to run. \n",
      "\n",
      "171024-15:05:31,966 workflow INFO:\n",
      "\t [Job finished] jobname: datasink.a2 jobid: 6\n",
      "171024-15:05:31,970 workflow INFO:\n",
      "\t [Job finished] jobname: datasink.a1 jobid: 12\n",
      "171024-15:05:59,50 workflow INFO:\n",
      "\t [Job finished] jobname: datasink.a0 jobid: 11\n",
      "171024-15:05:59,727 workflow INFO:\n",
      "\t [Job finished] jobname: datasink.a3 jobid: 9\n",
      "171024-15:05:59,731 workflow INFO:\n",
      "\t ***********************************\n",
      "171024-15:05:59,733 workflow ERROR:\n",
      "\t could not run node: functionalConnectivity.hypothesisTest\n",
      "171024-15:05:59,735 workflow INFO:\n",
      "\t crashfile: /home/jovyan/work/preprocess/Autism-Connectome-Analysis/crash-20171024-150527-jovyan-hypothesisTest-a40a2fca-b390-43de-979d-70a41ffd18d0.pklz\n",
      "171024-15:05:59,738 workflow INFO:\n",
      "\t ***********************************\n"
     ]
    },
    {
     "ename": "RuntimeError",
     "evalue": "Workflow did not execute cleanly. Check log for details",
     "output_type": "error",
     "traceback": [
      "\u001b[0;31m---------------------------------------------------------------------------\u001b[0m",
      "\u001b[0;31mRuntimeError\u001b[0m                              Traceback (most recent call last)",
      "\u001b[0;32m<ipython-input-93-b550c6fd1c96>\u001b[0m in \u001b[0;36m<module>\u001b[0;34m()\u001b[0m\n\u001b[1;32m      8\u001b[0m            ])\n\u001b[1;32m      9\u001b[0m \u001b[0;31m# Run it in parallel\u001b[0m\u001b[0;34m\u001b[0m\u001b[0;34m\u001b[0m\u001b[0m\n\u001b[0;32m---> 10\u001b[0;31m \u001b[0mget_ipython\u001b[0m\u001b[0;34m(\u001b[0m\u001b[0;34m)\u001b[0m\u001b[0;34m.\u001b[0m\u001b[0mmagic\u001b[0m\u001b[0;34m(\u001b[0m\u001b[0;34mu\"time wf.run('MultiProc', plugin_args={'n_procs': 8})\"\u001b[0m\u001b[0;34m)\u001b[0m\u001b[0;34m\u001b[0m\u001b[0m\n\u001b[0m",
      "\u001b[0;32m/opt/conda/envs/python2/lib/python2.7/site-packages/IPython/core/interactiveshell.pyc\u001b[0m in \u001b[0;36mmagic\u001b[0;34m(self, arg_s)\u001b[0m\n\u001b[1;32m   2156\u001b[0m         \u001b[0mmagic_name\u001b[0m\u001b[0;34m,\u001b[0m \u001b[0m_\u001b[0m\u001b[0;34m,\u001b[0m \u001b[0mmagic_arg_s\u001b[0m \u001b[0;34m=\u001b[0m \u001b[0marg_s\u001b[0m\u001b[0;34m.\u001b[0m\u001b[0mpartition\u001b[0m\u001b[0;34m(\u001b[0m\u001b[0;34m' '\u001b[0m\u001b[0;34m)\u001b[0m\u001b[0;34m\u001b[0m\u001b[0m\n\u001b[1;32m   2157\u001b[0m         \u001b[0mmagic_name\u001b[0m \u001b[0;34m=\u001b[0m \u001b[0mmagic_name\u001b[0m\u001b[0;34m.\u001b[0m\u001b[0mlstrip\u001b[0m\u001b[0;34m(\u001b[0m\u001b[0mprefilter\u001b[0m\u001b[0;34m.\u001b[0m\u001b[0mESC_MAGIC\u001b[0m\u001b[0;34m)\u001b[0m\u001b[0;34m\u001b[0m\u001b[0m\n\u001b[0;32m-> 2158\u001b[0;31m         \u001b[0;32mreturn\u001b[0m \u001b[0mself\u001b[0m\u001b[0;34m.\u001b[0m\u001b[0mrun_line_magic\u001b[0m\u001b[0;34m(\u001b[0m\u001b[0mmagic_name\u001b[0m\u001b[0;34m,\u001b[0m \u001b[0mmagic_arg_s\u001b[0m\u001b[0;34m)\u001b[0m\u001b[0;34m\u001b[0m\u001b[0m\n\u001b[0m\u001b[1;32m   2159\u001b[0m \u001b[0;34m\u001b[0m\u001b[0m\n\u001b[1;32m   2160\u001b[0m     \u001b[0;31m#-------------------------------------------------------------------------\u001b[0m\u001b[0;34m\u001b[0m\u001b[0;34m\u001b[0m\u001b[0m\n",
      "\u001b[0;32m/opt/conda/envs/python2/lib/python2.7/site-packages/IPython/core/interactiveshell.pyc\u001b[0m in \u001b[0;36mrun_line_magic\u001b[0;34m(self, magic_name, line)\u001b[0m\n\u001b[1;32m   2077\u001b[0m                 \u001b[0mkwargs\u001b[0m\u001b[0;34m[\u001b[0m\u001b[0;34m'local_ns'\u001b[0m\u001b[0;34m]\u001b[0m \u001b[0;34m=\u001b[0m \u001b[0msys\u001b[0m\u001b[0;34m.\u001b[0m\u001b[0m_getframe\u001b[0m\u001b[0;34m(\u001b[0m\u001b[0mstack_depth\u001b[0m\u001b[0;34m)\u001b[0m\u001b[0;34m.\u001b[0m\u001b[0mf_locals\u001b[0m\u001b[0;34m\u001b[0m\u001b[0m\n\u001b[1;32m   2078\u001b[0m             \u001b[0;32mwith\u001b[0m \u001b[0mself\u001b[0m\u001b[0;34m.\u001b[0m\u001b[0mbuiltin_trap\u001b[0m\u001b[0;34m:\u001b[0m\u001b[0;34m\u001b[0m\u001b[0m\n\u001b[0;32m-> 2079\u001b[0;31m                 \u001b[0mresult\u001b[0m \u001b[0;34m=\u001b[0m \u001b[0mfn\u001b[0m\u001b[0;34m(\u001b[0m\u001b[0;34m*\u001b[0m\u001b[0margs\u001b[0m\u001b[0;34m,\u001b[0m\u001b[0;34m**\u001b[0m\u001b[0mkwargs\u001b[0m\u001b[0;34m)\u001b[0m\u001b[0;34m\u001b[0m\u001b[0m\n\u001b[0m\u001b[1;32m   2080\u001b[0m             \u001b[0;32mreturn\u001b[0m \u001b[0mresult\u001b[0m\u001b[0;34m\u001b[0m\u001b[0m\n\u001b[1;32m   2081\u001b[0m \u001b[0;34m\u001b[0m\u001b[0m\n",
      "\u001b[0;32m<decorator-gen-59>\u001b[0m in \u001b[0;36mtime\u001b[0;34m(self, line, cell, local_ns)\u001b[0m\n",
      "\u001b[0;32m/opt/conda/envs/python2/lib/python2.7/site-packages/IPython/core/magic.pyc\u001b[0m in \u001b[0;36m<lambda>\u001b[0;34m(f, *a, **k)\u001b[0m\n\u001b[1;32m    186\u001b[0m     \u001b[0;31m# but it's overkill for just that one bit of state.\u001b[0m\u001b[0;34m\u001b[0m\u001b[0;34m\u001b[0m\u001b[0m\n\u001b[1;32m    187\u001b[0m     \u001b[0;32mdef\u001b[0m \u001b[0mmagic_deco\u001b[0m\u001b[0;34m(\u001b[0m\u001b[0marg\u001b[0m\u001b[0;34m)\u001b[0m\u001b[0;34m:\u001b[0m\u001b[0;34m\u001b[0m\u001b[0m\n\u001b[0;32m--> 188\u001b[0;31m         \u001b[0mcall\u001b[0m \u001b[0;34m=\u001b[0m \u001b[0;32mlambda\u001b[0m \u001b[0mf\u001b[0m\u001b[0;34m,\u001b[0m \u001b[0;34m*\u001b[0m\u001b[0ma\u001b[0m\u001b[0;34m,\u001b[0m \u001b[0;34m**\u001b[0m\u001b[0mk\u001b[0m\u001b[0;34m:\u001b[0m \u001b[0mf\u001b[0m\u001b[0;34m(\u001b[0m\u001b[0;34m*\u001b[0m\u001b[0ma\u001b[0m\u001b[0;34m,\u001b[0m \u001b[0;34m**\u001b[0m\u001b[0mk\u001b[0m\u001b[0;34m)\u001b[0m\u001b[0;34m\u001b[0m\u001b[0m\n\u001b[0m\u001b[1;32m    189\u001b[0m \u001b[0;34m\u001b[0m\u001b[0m\n\u001b[1;32m    190\u001b[0m         \u001b[0;32mif\u001b[0m \u001b[0mcallable\u001b[0m\u001b[0;34m(\u001b[0m\u001b[0marg\u001b[0m\u001b[0;34m)\u001b[0m\u001b[0;34m:\u001b[0m\u001b[0;34m\u001b[0m\u001b[0m\n",
      "\u001b[0;32m/opt/conda/envs/python2/lib/python2.7/site-packages/IPython/core/magics/execution.pyc\u001b[0m in \u001b[0;36mtime\u001b[0;34m(self, line, cell, local_ns)\u001b[0m\n\u001b[1;32m   1179\u001b[0m         \u001b[0;32mif\u001b[0m \u001b[0mmode\u001b[0m\u001b[0;34m==\u001b[0m\u001b[0;34m'eval'\u001b[0m\u001b[0;34m:\u001b[0m\u001b[0;34m\u001b[0m\u001b[0m\n\u001b[1;32m   1180\u001b[0m             \u001b[0mst\u001b[0m \u001b[0;34m=\u001b[0m \u001b[0mclock2\u001b[0m\u001b[0;34m(\u001b[0m\u001b[0;34m)\u001b[0m\u001b[0;34m\u001b[0m\u001b[0m\n\u001b[0;32m-> 1181\u001b[0;31m             \u001b[0mout\u001b[0m \u001b[0;34m=\u001b[0m \u001b[0meval\u001b[0m\u001b[0;34m(\u001b[0m\u001b[0mcode\u001b[0m\u001b[0;34m,\u001b[0m \u001b[0mglob\u001b[0m\u001b[0;34m,\u001b[0m \u001b[0mlocal_ns\u001b[0m\u001b[0;34m)\u001b[0m\u001b[0;34m\u001b[0m\u001b[0m\n\u001b[0m\u001b[1;32m   1182\u001b[0m             \u001b[0mend\u001b[0m \u001b[0;34m=\u001b[0m \u001b[0mclock2\u001b[0m\u001b[0;34m(\u001b[0m\u001b[0;34m)\u001b[0m\u001b[0;34m\u001b[0m\u001b[0m\n\u001b[1;32m   1183\u001b[0m         \u001b[0;32melse\u001b[0m\u001b[0;34m:\u001b[0m\u001b[0;34m\u001b[0m\u001b[0m\n",
      "\u001b[0;32m<timed eval>\u001b[0m in \u001b[0;36m<module>\u001b[0;34m()\u001b[0m\n",
      "\u001b[0;32m/opt/conda/envs/python2/lib/python2.7/site-packages/nipype-0.13.0rc1-py2.7.egg/nipype/pipeline/engine/workflows.pyc\u001b[0m in \u001b[0;36mrun\u001b[0;34m(self, plugin, plugin_args, updatehash)\u001b[0m\n\u001b[1;32m    581\u001b[0m         \u001b[0;32mif\u001b[0m \u001b[0mstr2bool\u001b[0m\u001b[0;34m(\u001b[0m\u001b[0mself\u001b[0m\u001b[0;34m.\u001b[0m\u001b[0mconfig\u001b[0m\u001b[0;34m[\u001b[0m\u001b[0;34m'execution'\u001b[0m\u001b[0;34m]\u001b[0m\u001b[0;34m[\u001b[0m\u001b[0;34m'create_report'\u001b[0m\u001b[0;34m]\u001b[0m\u001b[0;34m)\u001b[0m\u001b[0;34m:\u001b[0m\u001b[0;34m\u001b[0m\u001b[0m\n\u001b[1;32m    582\u001b[0m             \u001b[0mself\u001b[0m\u001b[0;34m.\u001b[0m\u001b[0m_write_report_info\u001b[0m\u001b[0;34m(\u001b[0m\u001b[0mself\u001b[0m\u001b[0;34m.\u001b[0m\u001b[0mbase_dir\u001b[0m\u001b[0;34m,\u001b[0m \u001b[0mself\u001b[0m\u001b[0;34m.\u001b[0m\u001b[0mname\u001b[0m\u001b[0;34m,\u001b[0m \u001b[0mexecgraph\u001b[0m\u001b[0;34m)\u001b[0m\u001b[0;34m\u001b[0m\u001b[0m\n\u001b[0;32m--> 583\u001b[0;31m         \u001b[0mrunner\u001b[0m\u001b[0;34m.\u001b[0m\u001b[0mrun\u001b[0m\u001b[0;34m(\u001b[0m\u001b[0mexecgraph\u001b[0m\u001b[0;34m,\u001b[0m \u001b[0mupdatehash\u001b[0m\u001b[0;34m=\u001b[0m\u001b[0mupdatehash\u001b[0m\u001b[0;34m,\u001b[0m \u001b[0mconfig\u001b[0m\u001b[0;34m=\u001b[0m\u001b[0mself\u001b[0m\u001b[0;34m.\u001b[0m\u001b[0mconfig\u001b[0m\u001b[0;34m)\u001b[0m\u001b[0;34m\u001b[0m\u001b[0m\n\u001b[0m\u001b[1;32m    584\u001b[0m         \u001b[0mdatestr\u001b[0m \u001b[0;34m=\u001b[0m \u001b[0mdatetime\u001b[0m\u001b[0;34m.\u001b[0m\u001b[0mutcnow\u001b[0m\u001b[0;34m(\u001b[0m\u001b[0;34m)\u001b[0m\u001b[0;34m.\u001b[0m\u001b[0mstrftime\u001b[0m\u001b[0;34m(\u001b[0m\u001b[0;34m'%Y%m%dT%H%M%S'\u001b[0m\u001b[0;34m)\u001b[0m\u001b[0;34m\u001b[0m\u001b[0m\n\u001b[1;32m    585\u001b[0m         \u001b[0;32mif\u001b[0m \u001b[0mstr2bool\u001b[0m\u001b[0;34m(\u001b[0m\u001b[0mself\u001b[0m\u001b[0;34m.\u001b[0m\u001b[0mconfig\u001b[0m\u001b[0;34m[\u001b[0m\u001b[0;34m'execution'\u001b[0m\u001b[0;34m]\u001b[0m\u001b[0;34m[\u001b[0m\u001b[0;34m'write_provenance'\u001b[0m\u001b[0;34m]\u001b[0m\u001b[0;34m)\u001b[0m\u001b[0;34m:\u001b[0m\u001b[0;34m\u001b[0m\u001b[0m\n",
      "\u001b[0;32m/opt/conda/envs/python2/lib/python2.7/site-packages/nipype-0.13.0rc1-py2.7.egg/nipype/pipeline/plugins/base.pyc\u001b[0m in \u001b[0;36mrun\u001b[0;34m(self, graph, config, updatehash)\u001b[0m\n\u001b[1;32m    271\u001b[0m \u001b[0;34m\u001b[0m\u001b[0m\n\u001b[1;32m    272\u001b[0m         \u001b[0mself\u001b[0m\u001b[0;34m.\u001b[0m\u001b[0m_remove_node_dirs\u001b[0m\u001b[0;34m(\u001b[0m\u001b[0;34m)\u001b[0m\u001b[0;34m\u001b[0m\u001b[0m\n\u001b[0;32m--> 273\u001b[0;31m         \u001b[0mreport_nodes_not_run\u001b[0m\u001b[0;34m(\u001b[0m\u001b[0mnotrun\u001b[0m\u001b[0;34m)\u001b[0m\u001b[0;34m\u001b[0m\u001b[0m\n\u001b[0m\u001b[1;32m    274\u001b[0m \u001b[0;34m\u001b[0m\u001b[0m\n\u001b[1;32m    275\u001b[0m         \u001b[0;31m# close any open resources\u001b[0m\u001b[0;34m\u001b[0m\u001b[0;34m\u001b[0m\u001b[0m\n",
      "\u001b[0;32m/opt/conda/envs/python2/lib/python2.7/site-packages/nipype-0.13.0rc1-py2.7.egg/nipype/pipeline/plugins/base.pyc\u001b[0m in \u001b[0;36mreport_nodes_not_run\u001b[0;34m(notrun)\u001b[0m\n\u001b[1;32m     93\u001b[0m                 \u001b[0mlogger\u001b[0m\u001b[0;34m.\u001b[0m\u001b[0mdebug\u001b[0m\u001b[0;34m(\u001b[0m\u001b[0msubnode\u001b[0m\u001b[0;34m.\u001b[0m\u001b[0m_id\u001b[0m\u001b[0;34m)\u001b[0m\u001b[0;34m\u001b[0m\u001b[0m\n\u001b[1;32m     94\u001b[0m         \u001b[0mlogger\u001b[0m\u001b[0;34m.\u001b[0m\u001b[0minfo\u001b[0m\u001b[0;34m(\u001b[0m\u001b[0;34m\"***********************************\"\u001b[0m\u001b[0;34m)\u001b[0m\u001b[0;34m\u001b[0m\u001b[0m\n\u001b[0;32m---> 95\u001b[0;31m         raise RuntimeError(('Workflow did not execute cleanly. '\n\u001b[0m\u001b[1;32m     96\u001b[0m                             'Check log for details'))\n\u001b[1;32m     97\u001b[0m \u001b[0;34m\u001b[0m\u001b[0m\n",
      "\u001b[0;31mRuntimeError\u001b[0m: Workflow did not execute cleanly. Check log for details"
     ]
    }
   ],
   "source": [
    "wf = Workflow(name=\"functionalConnectivity\")\n",
    "base_dir = opj(s,'result')\n",
    "wf.base_dir = base_dir # Dir where all the outputs will be stored(inside BETFlow folder).\n",
    "\n",
    "wf.connect([      (BIDSDataGrabber, pearcoff, [('func_file_path','in_file')]),\n",
    "                  (pearcoff,dataSink,[('coff_matrix_file','fc_maps.@coff_matrix_file')]),\n",
    "                  (pearcoff,hypothesisTest,[('coff_matrix_file','fc_file_list')])\n",
    "           ])\n",
    "# Run it in parallel\n",
    "%time wf.run('MultiProc', plugin_args={'n_procs': 8})"
   ]
  },
  {
   "cell_type": "code",
   "execution_count": 50,
   "metadata": {},
   "outputs": [
    {
     "name": "stdout",
     "output_type": "stream",
     "text": [
      "171024-10:02:59,244 workflow INFO:\n",
      "\t Creating detailed dot file: /home/jovyan/work/preprocess/result/functionalConnectivity/graph_detailed.dot\n",
      "171024-10:02:59,657 workflow INFO:\n",
      "\t Creating dot file: /home/jovyan/work/preprocess/result/functionalConnectivity/graph.dot\n"
     ]
    },
    {
     "data": {
      "image/png": "[encoded data removed]",
      "text/plain": [
       "<IPython.core.display.Image object>"
      ]
     },
     "execution_count": 50,
     "metadata": {},
     "output_type": "execute_result"
    }
   ],
   "source": [
    "# Visualize the detailed graph\n",
    "from IPython.display import Image\n",
    "wf.write_graph(graph2use='exec', format='png', simple_form=True)\n",
    "file_name = opj(base_directory,'functionalConnectivity/graph_detailed.dot.png')\n",
    "Image(filename=file_name)"
   ]
  },
  {
   "cell_type": "code",
   "execution_count": 105,
   "metadata": {},
   "outputs": [
    {
     "ename": "NameError",
     "evalue": "name 'filename' is not defined",
     "output_type": "error",
     "traceback": [
      "\u001b[0;31m---------------------------------------------------------------------------\u001b[0m",
      "\u001b[0;31mNameError\u001b[0m                                 Traceback (most recent call last)",
      "\u001b[0;32m<ipython-input-105-d7862759f93e>\u001b[0m in \u001b[0;36m<module>\u001b[0;34m()\u001b[0m\n\u001b[0;32m----> 1\u001b[0;31m \u001b[0mfilename\u001b[0m\u001b[0;34m\u001b[0m\u001b[0m\n\u001b[0m",
      "\u001b[0;31mNameError\u001b[0m: name 'filename' is not defined"
     ]
    }
   ],
   "source": [
    "filename"
   ]
  },
  {
   "cell_type": "code",
   "execution_count": 85,
   "metadata": {},
   "outputs": [
    {
     "data": {
      "text/plain": [
       "'N.'"
      ]
     },
     "execution_count": 85,
     "metadata": {},
     "output_type": "execute_result"
    }
   ],
   "source": [
    "import pickle\n",
    "f = None\n",
    "pickle.dumps(f)"
   ]
  },
  {
   "cell_type": "code",
   "execution_count": 78,
   "metadata": {},
   "outputs": [
    {
     "data": {
      "text/plain": [
       "array([], dtype=int64)"
      ]
     },
     "execution_count": 78,
     "metadata": {},
     "output_type": "execute_result"
    }
   ],
   "source": [
    "f"
   ]
  },
  {
   "cell_type": "code",
   "execution_count": null,
   "metadata": {
    "collapsed": true
   },
   "outputs": [],
   "source": []
  },
  {
   "cell_type": "code",
   "execution_count": null,
   "metadata": {
    "collapsed": true
   },
   "outputs": [],
   "source": []
  },
  {
   "cell_type": "code",
   "execution_count": 95,
   "metadata": {
    "collapsed": true
   },
   "outputs": [],
   "source": [
    "# Y = np.load('/home/jovyan/work/preprocess/temp/0050952fc_map.npy')"
   ]
  },
  {
   "cell_type": "code",
   "execution_count": 96,
   "metadata": {},
   "outputs": [
    {
     "data": {
      "text/plain": [
       "274.0"
      ]
     },
     "execution_count": 96,
     "metadata": {},
     "output_type": "execute_result"
    }
   ],
   "source": [
    "atlas.max()"
   ]
  },
  {
   "cell_type": "code",
   "execution_count": 97,
   "metadata": {},
   "outputs": [
    {
     "ename": "NameError",
     "evalue": "name 'ROI_matrix' is not defined",
     "output_type": "error",
     "traceback": [
      "\u001b[0;31m---------------------------------------------------------------------------\u001b[0m",
      "\u001b[0;31mNameError\u001b[0m                                 Traceback (most recent call last)",
      "\u001b[0;32m<ipython-input-97-2a9abfd45ef6>\u001b[0m in \u001b[0;36m<module>\u001b[0;34m()\u001b[0m\n\u001b[0;32m----> 1\u001b[0;31m \u001b[0mROI_matrix\u001b[0m\u001b[0;34m.\u001b[0m\u001b[0mshape\u001b[0m\u001b[0;34m\u001b[0m\u001b[0m\n\u001b[0m",
      "\u001b[0;31mNameError\u001b[0m: name 'ROI_matrix' is not defined"
     ]
    }
   ],
   "source": [
    "ROI_matrix.shape"
   ]
  },
  {
   "cell_type": "code",
   "execution_count": null,
   "metadata": {
    "collapsed": true
   },
   "outputs": [],
   "source": [
    "voxel_matrix.shape"
   ]
  },
  {
   "cell_type": "code",
   "execution_count": null,
   "metadata": {
    "collapsed": true
   },
   "outputs": [],
   "source": [
    "brain.shape"
   ]
  },
  {
   "cell_type": "code",
   "execution_count": null,
   "metadata": {
    "collapsed": true
   },
   "outputs": [],
   "source": [
    "91*109*91"
   ]
  },
  {
   "cell_type": "code",
   "execution_count": null,
   "metadata": {
    "collapsed": true
   },
   "outputs": [],
   "source": [
    "num_voxels_in_ROI.max()"
   ]
  },
  {
   "cell_type": "code",
   "execution_count": null,
   "metadata": {
    "collapsed": true
   },
   "outputs": [],
   "source": [
    "!pwd"
   ]
  },
  {
   "cell_type": "code",
   "execution_count": 4,
   "metadata": {
    "collapsed": true
   },
   "outputs": [],
   "source": [
    "import numpy as np\n",
    "a = np.random.rand(5,5)"
   ]
  },
  {
   "cell_type": "code",
   "execution_count": 13,
   "metadata": {},
   "outputs": [
    {
     "data": {
      "text/plain": [
       "(array([[ 0.66370544,  0.0745919 ,  0.98381625,  0.59616391,  0.02655963],\n",
       "        [ 0.87679649,  0.49323495,  0.87006495,  0.22210686,  0.91466245],\n",
       "        [ 0.50769495,  0.57469823,  0.9778717 ,  0.54970736,  0.75482136],\n",
       "        [ 0.07744448,  0.68844393,  0.23125037,  0.68243764,  0.20885533],\n",
       "        [ 0.23538675,  0.6853099 ,  0.10511712,  0.94750641,  0.54079535]]),\n",
       " array([ 0.68844393,  0.6853099 ]))"
      ]
     },
     "execution_count": 13,
     "metadata": {},
     "output_type": "execute_result"
    }
   ],
   "source": [
    "a,a[3:,1]"
   ]
  },
  {
   "cell_type": "code",
   "execution_count": 40,
   "metadata": {},
   "outputs": [
    {
     "ename": "IOError",
     "evalue": "[Errno 2] No such file or directory: '/home/jovyan/work/preprocess/result/functionalConnectivity/hypothesisTest/significance_matrix.npy'",
     "output_type": "error",
     "traceback": [
      "\u001b[0;31m---------------------------------------------------------------------------\u001b[0m",
      "\u001b[0;31mIOError\u001b[0m                                   Traceback (most recent call last)",
      "\u001b[0;32m<ipython-input-40-607119c0c893>\u001b[0m in \u001b[0;36m<module>\u001b[0;34m()\u001b[0m\n\u001b[0;32m----> 1\u001b[0;31m \u001b[0mX\u001b[0m \u001b[0;34m=\u001b[0m \u001b[0mnp\u001b[0m\u001b[0;34m.\u001b[0m\u001b[0mload\u001b[0m\u001b[0;34m(\u001b[0m\u001b[0;34m'/home/jovyan/work/preprocess/result/functionalConnectivity/hypothesisTest/significance_matrix.npy'\u001b[0m\u001b[0;34m,\u001b[0m \u001b[0mmmap_mode\u001b[0m\u001b[0;34m=\u001b[0m\u001b[0;34m'r'\u001b[0m\u001b[0;34m)\u001b[0m\u001b[0;34m\u001b[0m\u001b[0m\n\u001b[0m",
      "\u001b[0;32m/opt/conda/envs/python2/lib/python2.7/site-packages/numpy/lib/npyio.pyc\u001b[0m in \u001b[0;36mload\u001b[0;34m(file, mmap_mode, allow_pickle, fix_imports, encoding)\u001b[0m\n\u001b[1;32m    368\u001b[0m     \u001b[0mown_fid\u001b[0m \u001b[0;34m=\u001b[0m \u001b[0mFalse\u001b[0m\u001b[0;34m\u001b[0m\u001b[0m\n\u001b[1;32m    369\u001b[0m     \u001b[0;32mif\u001b[0m \u001b[0misinstance\u001b[0m\u001b[0;34m(\u001b[0m\u001b[0mfile\u001b[0m\u001b[0;34m,\u001b[0m \u001b[0mbasestring\u001b[0m\u001b[0;34m)\u001b[0m\u001b[0;34m:\u001b[0m\u001b[0;34m\u001b[0m\u001b[0m\n\u001b[0;32m--> 370\u001b[0;31m         \u001b[0mfid\u001b[0m \u001b[0;34m=\u001b[0m \u001b[0mopen\u001b[0m\u001b[0;34m(\u001b[0m\u001b[0mfile\u001b[0m\u001b[0;34m,\u001b[0m \u001b[0;34m\"rb\"\u001b[0m\u001b[0;34m)\u001b[0m\u001b[0;34m\u001b[0m\u001b[0m\n\u001b[0m\u001b[1;32m    371\u001b[0m         \u001b[0mown_fid\u001b[0m \u001b[0;34m=\u001b[0m \u001b[0mTrue\u001b[0m\u001b[0;34m\u001b[0m\u001b[0m\n\u001b[1;32m    372\u001b[0m     \u001b[0;32melif\u001b[0m \u001b[0mis_pathlib_path\u001b[0m\u001b[0;34m(\u001b[0m\u001b[0mfile\u001b[0m\u001b[0;34m)\u001b[0m\u001b[0;34m:\u001b[0m\u001b[0;34m\u001b[0m\u001b[0m\n",
      "\u001b[0;31mIOError\u001b[0m: [Errno 2] No such file or directory: '/home/jovyan/work/preprocess/result/functionalConnectivity/hypothesisTest/significance_matrix.npy'"
     ]
    }
   ],
   "source": [
    "X = np.load('/home/jovyan/work/preprocess/result/functionalConnectivity/hypothesisTest/significance_matrix.npy', mmap_mode='r')"
   ]
  },
  {
   "cell_type": "code",
   "execution_count": 97,
   "metadata": {},
   "outputs": [
    {
     "data": {
      "text/plain": [
       "(274, 228483)"
      ]
     },
     "execution_count": 97,
     "metadata": {},
     "output_type": "execute_result"
    }
   ],
   "source": [
    "X.shape"
   ]
  },
  {
   "cell_type": "code",
   "execution_count": 99,
   "metadata": {},
   "outputs": [
    {
     "data": {
      "text/plain": [
       "(7.4982740492896963e-06, 0.99999976795757162)"
      ]
     },
     "execution_count": 99,
     "metadata": {},
     "output_type": "execute_result"
    }
   ],
   "source": [
    "X[0,:].min(), X[0,:].max()"
   ]
  },
  {
   "cell_type": "code",
   "execution_count": null,
   "metadata": {
    "collapsed": true
   },
   "outputs": [],
   "source": []
  }
 ],
 "metadata": {
  "kernelspec": {
   "display_name": "Python [conda env:python2]",
   "language": "python",
   "name": "conda-env-python2-py"
  },
  "language_info": {
   "codemirror_mode": {
    "name": "ipython",
    "version": 2
   },
   "file_extension": ".py",
   "mimetype": "text/x-python",
   "name": "python",
   "nbconvert_exporter": "python",
   "pygments_lexer": "ipython2",
   "version": "2.7.13"
  }
 },
 "nbformat": 4,
 "nbformat_minor": 2
}
