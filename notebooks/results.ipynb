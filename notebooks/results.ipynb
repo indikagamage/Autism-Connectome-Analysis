{
 "cells": [
  {
   "cell_type": "markdown",
   "metadata": {},
   "source": [
    "# Results 9:45 PM\n",
    "The following notebook does the following:\n",
    "* 3 maps to be made:\n",
    "    * sign of c1-c2 * (1-q) value\n",
    "    * p value map \n",
    "    * average c1-c2\n",
    "\n",
    "Check consistency of signs\n",
    "\n",
    "--------------------------------------------------------------------------------\n",
    "\n",
    "* Excel:\n",
    "\n",
    "    * For each ROI I have to report minimum abs p value (among all voxels) and min q value and number of voxels for which abs q value les than 0.1,  0.05, 0.01\n",
    "\n",
    "    * And number of voxels for absolute p value les than 0.1,  0.05, 0.01"
   ]
  },
  {
   "cell_type": "code",
   "execution_count": 3,
   "metadata": {
    "collapsed": true
   },
   "outputs": [],
   "source": [
    "import numpy as np\n",
    "from scipy import stats\n",
    "import os\n",
    "from os.path import join as opj\n",
    "from multiprocessing import Pool\n",
    "import multiprocessing.managers\n",
    "from functools import partial\n",
    "import nibabel as nib\n",
    "import params\n",
    "# List of functional files\n",
    "# fc_file_list = np.asarray(['/home1/varunk/result/functionalConnectivity/_subject_id_0050952/pearcoff/0050952_fc_map.npy', '/home1/varunk/result/functionalConnectivity/_subject_id_0050953/pearcoff/0050953_fc_map.npy', '/home1/varunk/result/functionalConnectivity/_subject_id_0050954/pearcoff/0050954_fc_map.npy', '/home1/varunk/result/functionalConnectivity/_subject_id_0050955/pearcoff/0050955_fc_map.npy', '/home1/varunk/result/functionalConnectivity/_subject_id_0050956/pearcoff/0050956_fc_map.npy', '/home1/varunk/result/functionalConnectivity/_subject_id_0050957/pearcoff/0050957_fc_map.npy', '/home1/varunk/result/functionalConnectivity/_subject_id_0050958/pearcoff/0050958_fc_map.npy', '/home1/varunk/result/functionalConnectivity/_subject_id_0050959/pearcoff/0050959_fc_map.npy', '/home1/varunk/result/functionalConnectivity/_subject_id_0050960/pearcoff/0050960_fc_map.npy', '/home1/varunk/result/functionalConnectivity/_subject_id_0050961/pearcoff/0050961_fc_map.npy', '/home1/varunk/result/functionalConnectivity/_subject_id_0050962/pearcoff/0050962_fc_map.npy', '/home1/varunk/result/functionalConnectivity/_subject_id_0050964/pearcoff/0050964_fc_map.npy', '/home1/varunk/result/functionalConnectivity/_subject_id_0050965/pearcoff/0050965_fc_map.npy', '/home1/varunk/result/functionalConnectivity/_subject_id_0050966/pearcoff/0050966_fc_map.npy', '/home1/varunk/result/functionalConnectivity/_subject_id_0050967/pearcoff/0050967_fc_map.npy', '/home1/varunk/result/functionalConnectivity/_subject_id_0050968/pearcoff/0050968_fc_map.npy', '/home1/varunk/result/functionalConnectivity/_subject_id_0050969/pearcoff/0050969_fc_map.npy', '/home1/varunk/result/functionalConnectivity/_subject_id_0050970/pearcoff/0050970_fc_map.npy', '/home1/varunk/result/functionalConnectivity/_subject_id_0050971/pearcoff/0050971_fc_map.npy', '/home1/varunk/result/functionalConnectivity/_subject_id_0050972/pearcoff/0050972_fc_map.npy', '/home1/varunk/result/functionalConnectivity/_subject_id_0050973/pearcoff/0050973_fc_map.npy', '/home1/varunk/result/functionalConnectivity/_subject_id_0050974/pearcoff/0050974_fc_map.npy', '/home1/varunk/result/functionalConnectivity/_subject_id_0050975/pearcoff/0050975_fc_map.npy', '/home1/varunk/result/functionalConnectivity/_subject_id_0050976/pearcoff/0050976_fc_map.npy', '/home1/varunk/result/functionalConnectivity/_subject_id_0050977/pearcoff/0050977_fc_map.npy', '/home1/varunk/result/functionalConnectivity/_subject_id_0050978/pearcoff/0050978_fc_map.npy', '/home1/varunk/result/functionalConnectivity/_subject_id_0050979/pearcoff/0050979_fc_map.npy', '/home1/varunk/result/functionalConnectivity/_subject_id_0050980/pearcoff/0050980_fc_map.npy', '/home1/varunk/result/functionalConnectivity/_subject_id_0050981/pearcoff/0050981_fc_map.npy', '/home1/varunk/result/functionalConnectivity/_subject_id_0050982/pearcoff/0050982_fc_map.npy', '/home1/varunk/result/functionalConnectivity/_subject_id_0050983/pearcoff/0050983_fc_map.npy', '/home1/varunk/result/functionalConnectivity/_subject_id_0050984/pearcoff/0050984_fc_map.npy', '/home1/varunk/result/functionalConnectivity/_subject_id_0050985/pearcoff/0050985_fc_map.npy', '/home1/varunk/result/functionalConnectivity/_subject_id_0050986/pearcoff/0050986_fc_map.npy', '/home1/varunk/result/functionalConnectivity/_subject_id_0050987/pearcoff/0050987_fc_map.npy', '/home1/varunk/result/functionalConnectivity/_subject_id_0050988/pearcoff/0050988_fc_map.npy', '/home1/varunk/result/functionalConnectivity/_subject_id_0050989/pearcoff/0050989_fc_map.npy', '/home1/varunk/result/functionalConnectivity/_subject_id_0050990/pearcoff/0050990_fc_map.npy', '/home1/varunk/result/functionalConnectivity/_subject_id_0050991/pearcoff/0050991_fc_map.npy', '/home1/varunk/result/functionalConnectivity/_subject_id_0050992/pearcoff/0050992_fc_map.npy', '/home1/varunk/result/functionalConnectivity/_subject_id_0050993/pearcoff/0050993_fc_map.npy', '/home1/varunk/result/functionalConnectivity/_subject_id_0050994/pearcoff/0050994_fc_map.npy', '/home1/varunk/result/functionalConnectivity/_subject_id_0050995/pearcoff/0050995_fc_map.npy', '/home1/varunk/result/functionalConnectivity/_subject_id_0050996/pearcoff/0050996_fc_map.npy', '/home1/varunk/result/functionalConnectivity/_subject_id_0050997/pearcoff/0050997_fc_map.npy', '/home1/varunk/result/functionalConnectivity/_subject_id_0050998/pearcoff/0050998_fc_map.npy', '/home1/varunk/result/functionalConnectivity/_subject_id_0050999/pearcoff/0050999_fc_map.npy', '/home1/varunk/result/functionalConnectivity/_subject_id_0051000/pearcoff/0051000_fc_map.npy', '/home1/varunk/result/functionalConnectivity/_subject_id_0051001/pearcoff/0051001_fc_map.npy', '/home1/varunk/result/functionalConnectivity/_subject_id_0051002/pearcoff/0051002_fc_map.npy', '/home1/varunk/result/functionalConnectivity/_subject_id_0051003/pearcoff/0051003_fc_map.npy', '/home1/varunk/result/functionalConnectivity/_subject_id_0051006/pearcoff/0051006_fc_map.npy', '/home1/varunk/result/functionalConnectivity/_subject_id_0051007/pearcoff/0051007_fc_map.npy', '/home1/varunk/result/functionalConnectivity/_subject_id_0051008/pearcoff/0051008_fc_map.npy', '/home1/varunk/result/functionalConnectivity/_subject_id_0051009/pearcoff/0051009_fc_map.npy', '/home1/varunk/result/functionalConnectivity/_subject_id_0051010/pearcoff/0051010_fc_map.npy', '/home1/varunk/result/functionalConnectivity/_subject_id_0051011/pearcoff/0051011_fc_map.npy', '/home1/varunk/result/functionalConnectivity/_subject_id_0051012/pearcoff/0051012_fc_map.npy', '/home1/varunk/result/functionalConnectivity/_subject_id_0051013/pearcoff/0051013_fc_map.npy', '/home1/varunk/result/functionalConnectivity/_subject_id_0051014/pearcoff/0051014_fc_map.npy', '/home1/varunk/result/functionalConnectivity/_subject_id_0051015/pearcoff/0051015_fc_map.npy', '/home1/varunk/result/functionalConnectivity/_subject_id_0051016/pearcoff/0051016_fc_map.npy', '/home1/varunk/result/functionalConnectivity/_subject_id_0051017/pearcoff/0051017_fc_map.npy', '/home1/varunk/result/functionalConnectivity/_subject_id_0051018/pearcoff/0051018_fc_map.npy', '/home1/varunk/result/functionalConnectivity/_subject_id_0051019/pearcoff/0051019_fc_map.npy', '/home1/varunk/result/functionalConnectivity/_subject_id_0051020/pearcoff/0051020_fc_map.npy', '/home1/varunk/result/functionalConnectivity/_subject_id_0051021/pearcoff/0051021_fc_map.npy', '/home1/varunk/result/functionalConnectivity/_subject_id_0051023/pearcoff/0051023_fc_map.npy', '/home1/varunk/result/functionalConnectivity/_subject_id_0051024/pearcoff/0051024_fc_map.npy', '/home1/varunk/result/functionalConnectivity/_subject_id_0051025/pearcoff/0051025_fc_map.npy', '/home1/varunk/result/functionalConnectivity/_subject_id_0051026/pearcoff/0051026_fc_map.npy', '/home1/varunk/result/functionalConnectivity/_subject_id_0051027/pearcoff/0051027_fc_map.npy', '/home1/varunk/result/functionalConnectivity/_subject_id_0051028/pearcoff/0051028_fc_map.npy', '/home1/varunk/result/functionalConnectivity/_subject_id_0051029/pearcoff/0051029_fc_map.npy', '/home1/varunk/result/functionalConnectivity/_subject_id_0051030/pearcoff/0051030_fc_map.npy', '/home1/varunk/result/functionalConnectivity/_subject_id_0051032/pearcoff/0051032_fc_map.npy', '/home1/varunk/result/functionalConnectivity/_subject_id_0051033/pearcoff/0051033_fc_map.npy', '/home1/varunk/result/functionalConnectivity/_subject_id_0051034/pearcoff/0051034_fc_map.npy', '/home1/varunk/result/functionalConnectivity/_subject_id_0051035/pearcoff/0051035_fc_map.npy', '/home1/varunk/result/functionalConnectivity/_subject_id_0051036/pearcoff/0051036_fc_map.npy', '/home1/varunk/result/functionalConnectivity/_subject_id_0051038/pearcoff/0051038_fc_map.npy', '/home1/varunk/result/functionalConnectivity/_subject_id_0051039/pearcoff/0051039_fc_map.npy', '/home1/varunk/result/functionalConnectivity/_subject_id_0051040/pearcoff/0051040_fc_map.npy', '/home1/varunk/result/functionalConnectivity/_subject_id_0051041/pearcoff/0051041_fc_map.npy', '/home1/varunk/result/functionalConnectivity/_subject_id_0051042/pearcoff/0051042_fc_map.npy', '/home1/varunk/result/functionalConnectivity/_subject_id_0051044/pearcoff/0051044_fc_map.npy', '/home1/varunk/result/functionalConnectivity/_subject_id_0051045/pearcoff/0051045_fc_map.npy', '/home1/varunk/result/functionalConnectivity/_subject_id_0051046/pearcoff/0051046_fc_map.npy', '/home1/varunk/result/functionalConnectivity/_subject_id_0051047/pearcoff/0051047_fc_map.npy', '/home1/varunk/result/functionalConnectivity/_subject_id_0051048/pearcoff/0051048_fc_map.npy', '/home1/varunk/result/functionalConnectivity/_subject_id_0051049/pearcoff/0051049_fc_map.npy', '/home1/varunk/result/functionalConnectivity/_subject_id_0051050/pearcoff/0051050_fc_map.npy', '/home1/varunk/result/functionalConnectivity/_subject_id_0051051/pearcoff/0051051_fc_map.npy', '/home1/varunk/result/functionalConnectivity/_subject_id_0051052/pearcoff/0051052_fc_map.npy', '/home1/varunk/result/functionalConnectivity/_subject_id_0051053/pearcoff/0051053_fc_map.npy', '/home1/varunk/result/functionalConnectivity/_subject_id_0051054/pearcoff/0051054_fc_map.npy', '/home1/varunk/result/functionalConnectivity/_subject_id_0051055/pearcoff/0051055_fc_map.npy', '/home1/varunk/result/functionalConnectivity/_subject_id_0051056/pearcoff/0051056_fc_map.npy', '/home1/varunk/result/functionalConnectivity/_subject_id_0051057/pearcoff/0051057_fc_map.npy', '/home1/varunk/result/functionalConnectivity/_subject_id_0051058/pearcoff/0051058_fc_map.npy', '/home1/varunk/result/functionalConnectivity/_subject_id_0051059/pearcoff/0051059_fc_map.npy', '/home1/varunk/result/functionalConnectivity/_subject_id_0051060/pearcoff/0051060_fc_map.npy', '/home1/varunk/result/functionalConnectivity/_subject_id_0051061/pearcoff/0051061_fc_map.npy', '/home1/varunk/result/functionalConnectivity/_subject_id_0051062/pearcoff/0051062_fc_map.npy', '/home1/varunk/result/functionalConnectivity/_subject_id_0051063/pearcoff/0051063_fc_map.npy', '/home1/varunk/result/functionalConnectivity/_subject_id_0051064/pearcoff/0051064_fc_map.npy', '/home1/varunk/result/functionalConnectivity/_subject_id_0051065/pearcoff/0051065_fc_map.npy', '/home1/varunk/result/functionalConnectivity/_subject_id_0051066/pearcoff/0051066_fc_map.npy', '/home1/varunk/result/functionalConnectivity/_subject_id_0051067/pearcoff/0051067_fc_map.npy', '/home1/varunk/result/functionalConnectivity/_subject_id_0051068/pearcoff/0051068_fc_map.npy', '/home1/varunk/result/functionalConnectivity/_subject_id_0051069/pearcoff/0051069_fc_map.npy', '/home1/varunk/result/functionalConnectivity/_subject_id_0051070/pearcoff/0051070_fc_map.npy', '/home1/varunk/result/functionalConnectivity/_subject_id_0051071/pearcoff/0051071_fc_map.npy', '/home1/varunk/result/functionalConnectivity/_subject_id_0051072/pearcoff/0051072_fc_map.npy', '/home1/varunk/result/functionalConnectivity/_subject_id_0051073/pearcoff/0051073_fc_map.npy', '/home1/varunk/result/functionalConnectivity/_subject_id_0051074/pearcoff/0051074_fc_map.npy', '/home1/varunk/result/functionalConnectivity/_subject_id_0051075/pearcoff/0051075_fc_map.npy', '/home1/varunk/result/functionalConnectivity/_subject_id_0051076/pearcoff/0051076_fc_map.npy', '/home1/varunk/result/functionalConnectivity/_subject_id_0051077/pearcoff/0051077_fc_map.npy', '/home1/varunk/result/functionalConnectivity/_subject_id_0051078/pearcoff/0051078_fc_map.npy', '/home1/varunk/result/functionalConnectivity/_subject_id_0051079/pearcoff/0051079_fc_map.npy', '/home1/varunk/result/functionalConnectivity/_subject_id_0051080/pearcoff/0051080_fc_map.npy', '/home1/varunk/result/functionalConnectivity/_subject_id_0051081/pearcoff/0051081_fc_map.npy', '/home1/varunk/result/functionalConnectivity/_subject_id_0051082/pearcoff/0051082_fc_map.npy', '/home1/varunk/result/functionalConnectivity/_subject_id_0051083/pearcoff/0051083_fc_map.npy', '/home1/varunk/result/functionalConnectivity/_subject_id_0051084/pearcoff/0051084_fc_map.npy', '/home1/varunk/result/functionalConnectivity/_subject_id_0051085/pearcoff/0051085_fc_map.npy', '/home1/varunk/result/functionalConnectivity/_subject_id_0051086/pearcoff/0051086_fc_map.npy', '/home1/varunk/result/functionalConnectivity/_subject_id_0051087/pearcoff/0051087_fc_map.npy', '/home1/varunk/result/functionalConnectivity/_subject_id_0051088/pearcoff/0051088_fc_map.npy', '/home1/varunk/result/functionalConnectivity/_subject_id_0051089/pearcoff/0051089_fc_map.npy', '/home1/varunk/result/functionalConnectivity/_subject_id_0051090/pearcoff/0051090_fc_map.npy', '/home1/varunk/result/functionalConnectivity/_subject_id_0051091/pearcoff/0051091_fc_map.npy', '/home1/varunk/result/functionalConnectivity/_subject_id_0051093/pearcoff/0051093_fc_map.npy', '/home1/varunk/result/functionalConnectivity/_subject_id_0051094/pearcoff/0051094_fc_map.npy', '/home1/varunk/result/functionalConnectivity/_subject_id_0051095/pearcoff/0051095_fc_map.npy', '/home1/varunk/result/functionalConnectivity/_subject_id_0051096/pearcoff/0051096_fc_map.npy', '/home1/varunk/result/functionalConnectivity/_subject_id_0051097/pearcoff/0051097_fc_map.npy', '/home1/varunk/result/functionalConnectivity/_subject_id_0051098/pearcoff/0051098_fc_map.npy', '/home1/varunk/result/functionalConnectivity/_subject_id_0051099/pearcoff/0051099_fc_map.npy', '/home1/varunk/result/functionalConnectivity/_subject_id_0051100/pearcoff/0051100_fc_map.npy', '/home1/varunk/result/functionalConnectivity/_subject_id_0051101/pearcoff/0051101_fc_map.npy', '/home1/varunk/result/functionalConnectivity/_subject_id_0051102/pearcoff/0051102_fc_map.npy', '/home1/varunk/result/functionalConnectivity/_subject_id_0051103/pearcoff/0051103_fc_map.npy', '/home1/varunk/result/functionalConnectivity/_subject_id_0051104/pearcoff/0051104_fc_map.npy', '/home1/varunk/result/functionalConnectivity/_subject_id_0051105/pearcoff/0051105_fc_map.npy', '/home1/varunk/result/functionalConnectivity/_subject_id_0051106/pearcoff/0051106_fc_map.npy', '/home1/varunk/result/functionalConnectivity/_subject_id_0051107/pearcoff/0051107_fc_map.npy', '/home1/varunk/result/functionalConnectivity/_subject_id_0051108/pearcoff/0051108_fc_map.npy', '/home1/varunk/result/functionalConnectivity/_subject_id_0051109/pearcoff/0051109_fc_map.npy', '/home1/varunk/result/functionalConnectivity/_subject_id_0051110/pearcoff/0051110_fc_map.npy', '/home1/varunk/result/functionalConnectivity/_subject_id_0051111/pearcoff/0051111_fc_map.npy', '/home1/varunk/result/functionalConnectivity/_subject_id_0051112/pearcoff/0051112_fc_map.npy', '/home1/varunk/result/functionalConnectivity/_subject_id_0051113/pearcoff/0051113_fc_map.npy', '/home1/varunk/result/functionalConnectivity/_subject_id_0051114/pearcoff/0051114_fc_map.npy', '/home1/varunk/result/functionalConnectivity/_subject_id_0051115/pearcoff/0051115_fc_map.npy', '/home1/varunk/result/functionalConnectivity/_subject_id_0051116/pearcoff/0051116_fc_map.npy', '/home1/varunk/result/functionalConnectivity/_subject_id_0051117/pearcoff/0051117_fc_map.npy', '/home1/varunk/result/functionalConnectivity/_subject_id_0051118/pearcoff/0051118_fc_map.npy', '/home1/varunk/result/functionalConnectivity/_subject_id_0051119/pearcoff/0051119_fc_map.npy', '/home1/varunk/result/functionalConnectivity/_subject_id_0051120/pearcoff/0051120_fc_map.npy', '/home1/varunk/result/functionalConnectivity/_subject_id_0051121/pearcoff/0051121_fc_map.npy', '/home1/varunk/result/functionalConnectivity/_subject_id_0051122/pearcoff/0051122_fc_map.npy', '/home1/varunk/result/functionalConnectivity/_subject_id_0051123/pearcoff/0051123_fc_map.npy', '/home1/varunk/result/functionalConnectivity/_subject_id_0051124/pearcoff/0051124_fc_map.npy', '/home1/varunk/result/functionalConnectivity/_subject_id_0051125/pearcoff/0051125_fc_map.npy', '/home1/varunk/result/functionalConnectivity/_subject_id_0051126/pearcoff/0051126_fc_map.npy', '/home1/varunk/result/functionalConnectivity/_subject_id_0051127/pearcoff/0051127_fc_map.npy', '/home1/varunk/result/functionalConnectivity/_subject_id_0051128/pearcoff/0051128_fc_map.npy', '/home1/varunk/result/functionalConnectivity/_subject_id_0051129/pearcoff/0051129_fc_map.npy', '/home1/varunk/result/functionalConnectivity/_subject_id_0051130/pearcoff/0051130_fc_map.npy', '/home1/varunk/result/functionalConnectivity/_subject_id_0051131/pearcoff/0051131_fc_map.npy', '/home1/varunk/result/functionalConnectivity/_subject_id_0051146/pearcoff/0051146_fc_map.npy', '/home1/varunk/result/functionalConnectivity/_subject_id_0051147/pearcoff/0051147_fc_map.npy', '/home1/varunk/result/functionalConnectivity/_subject_id_0051148/pearcoff/0051148_fc_map.npy', '/home1/varunk/result/functionalConnectivity/_subject_id_0051149/pearcoff/0051149_fc_map.npy', '/home1/varunk/result/functionalConnectivity/_subject_id_0051150/pearcoff/0051150_fc_map.npy', '/home1/varunk/result/functionalConnectivity/_subject_id_0051151/pearcoff/0051151_fc_map.npy', '/home1/varunk/result/functionalConnectivity/_subject_id_0051152/pearcoff/0051152_fc_map.npy', '/home1/varunk/result/functionalConnectivity/_subject_id_0051153/pearcoff/0051153_fc_map.npy', '/home1/varunk/result/functionalConnectivity/_subject_id_0051154/pearcoff/0051154_fc_map.npy', '/home1/varunk/result/functionalConnectivity/_subject_id_0051155/pearcoff/0051155_fc_map.npy', '/home1/varunk/result/functionalConnectivity/_subject_id_0051156/pearcoff/0051156_fc_map.npy', '/home1/varunk/result/functionalConnectivity/_subject_id_0051159/pearcoff/0051159_fc_map.npy'])\n",
    "\n",
    "if not params.run_all:\n",
    "    fc_file_list = list(np.load('/home1/varunk/result/functionalConnectivity/save_fc_file_list/fc_file_list.npy'))\n",
    "    "
   ]
  },
  {
   "cell_type": "code",
   "execution_count": 4,
   "metadata": {
    "collapsed": true
   },
   "outputs": [],
   "source": [
    "# Paths\n",
    "if not params.run_all:\n",
    "    path_cwd = os.getcwd()\n",
    "    path_split_list = path_cwd.split('/')\n",
    "    s = path_split_list[0:-1]\n",
    "    s = opj('/',*s) # *s converts list to path, # also it is very important to add '/' in the begining so it is read as directory later\n",
    "    base_directory = opj(s,'result')\n",
    "    # data_directory = opj(s,data_path)\n",
    "    wf_name = \"functionalConnectivity\""
   ]
  },
  {
   "cell_type": "code",
   "execution_count": 5,
   "metadata": {
    "collapsed": true
   },
   "outputs": [],
   "source": [
    "# For passing on the shared file:\n",
    "class MyManager(multiprocessing.managers.BaseManager):\n",
    "    pass\n",
    "MyManager.register('np_zeros', np.zeros, multiprocessing.managers.ArrayProxy)"
   ]
  },
  {
   "cell_type": "code",
   "execution_count": null,
   "metadata": {
    "collapsed": true
   },
   "outputs": [],
   "source": [
    "fc_file_list # Array that contains the list of paths to fc files"
   ]
  },
  {
   "cell_type": "code",
   "execution_count": null,
   "metadata": {
    "collapsed": true
   },
   "outputs": [],
   "source": [
    "number_of_fcmaps = len(fc_file_list) #184"
   ]
  },
  {
   "cell_type": "code",
   "execution_count": null,
   "metadata": {
    "collapsed": true
   },
   "outputs": [],
   "source": [
    "number_of_fcmaps"
   ]
  },
  {
   "cell_type": "code",
   "execution_count": null,
   "metadata": {
    "collapsed": true
   },
   "outputs": [],
   "source": [
    "%%time\n",
    "# This method reads the significant matrix again and again and stors the moving sum and then at last find the average\n",
    "from scipy import stats\n",
    "import os\n",
    "from os.path import join as opj\n",
    "# from multiprocessing import Pool\n",
    "# import multiprocessing.managers\n",
    "# from functools import partial\n",
    "\n",
    "number_of_ROIs, number_of_voxels = np.load(fc_file_list[0], mmap_mode='r').shape\n",
    "\n",
    "autism_mean = np.zeros((number_of_ROIs, number_of_voxels)) # average c1\n",
    "td_mean = np.zeros((number_of_ROIs, number_of_voxels)) # average c2\n",
    "\n",
    "if not params.run_all:\n",
    "    autism_start_index = 0\n",
    "    autism_end_index = 78\n",
    "    td_start_index = 79\n",
    "    td_end_index = 157 #183\n",
    "    autism_subject_indexes = list(np.arange(autism_start_index, autism_end_index + 1))\n",
    "    td_subject_indexes = list(np.arange(td_start_index, td_end_index + 1))\n",
    "\n",
    "\n",
    "# For calculating mean autism i.e. C1\n",
    "for participant_index in autism_subject_indexes:\n",
    "    print('Autistic Participant index:',participant_index)\n",
    "    autism_mean = autism_mean + np.load(fc_file_list[participant_index]) \n",
    "\n",
    "# number_of_autistic =  autism_end_index - autism_start_index + 1\n",
    "number_of_autistic =  len(autism_subject_indexes)\n",
    "\n",
    "autism_mean = np.divide(autism_mean, number_of_autistic)\n",
    "\n",
    "# For calculating mean TD i.e. C2\n",
    "for participant_index in td_subject_indexes:\n",
    "    print('TD Participant index ',participant_index)\n",
    "    td_mean = td_mean + np.load(fc_file_list[participant_index]) \n",
    "\n",
    "# number_of_td =  td_end_index - td_start_index + 1 \n",
    "number_of_td = len(td_subject_indexes)\n",
    "\n",
    "td_mean = np.divide(td_mean, number_of_td)\n",
    "        \n"
   ]
  },
  {
   "cell_type": "code",
   "execution_count": 6,
   "metadata": {},
   "outputs": [
    {
     "ename": "NameError",
     "evalue": "name 'base_directory' is not defined",
     "output_type": "error",
     "traceback": [
      "\u001b[0;31m---------------------------------------------------------------------------\u001b[0m",
      "\u001b[0;31mNameError\u001b[0m                                 Traceback (most recent call last)",
      "\u001b[0;32m<ipython-input-6-f70c639829ee>\u001b[0m in \u001b[0;36m<module>\u001b[0;34m()\u001b[0m\n\u001b[0;32m----> 1\u001b[0;31m \u001b[0msave_destination\u001b[0m \u001b[0;34m=\u001b[0m \u001b[0mopj\u001b[0m\u001b[0;34m(\u001b[0m\u001b[0mbase_directory\u001b[0m\u001b[0;34m,\u001b[0m\u001b[0mwf_name\u001b[0m\u001b[0;34m,\u001b[0m\u001b[0;34m'results'\u001b[0m\u001b[0;34m)\u001b[0m\u001b[0;34m\u001b[0m\u001b[0m\n\u001b[0m\u001b[1;32m      2\u001b[0m \u001b[0;32mif\u001b[0m \u001b[0;32mnot\u001b[0m \u001b[0mos\u001b[0m\u001b[0;34m.\u001b[0m\u001b[0mpath\u001b[0m\u001b[0;34m.\u001b[0m\u001b[0mexists\u001b[0m\u001b[0;34m(\u001b[0m\u001b[0msave_destination\u001b[0m\u001b[0;34m)\u001b[0m\u001b[0;34m:\u001b[0m\u001b[0;34m\u001b[0m\u001b[0m\n\u001b[1;32m      3\u001b[0m     \u001b[0mos\u001b[0m\u001b[0;34m.\u001b[0m\u001b[0mmkdir\u001b[0m\u001b[0;34m(\u001b[0m\u001b[0msave_destination\u001b[0m\u001b[0;34m)\u001b[0m\u001b[0;34m\u001b[0m\u001b[0m\n\u001b[1;32m      4\u001b[0m \u001b[0;34m\u001b[0m\u001b[0m\n",
      "\u001b[0;31mNameError\u001b[0m: name 'base_directory' is not defined"
     ]
    }
   ],
   "source": [
    "save_destination = opj(base_directory,wf_name,'results')\n",
    "if not os.path.exists(save_destination):\n",
    "    os.mkdir(save_destination)\n",
    " "
   ]
  },
  {
   "cell_type": "code",
   "execution_count": null,
   "metadata": {
    "collapsed": true
   },
   "outputs": [],
   "source": [
    "   \n",
    "autism_mean_path = opj(save_destination,'autism_mean')\n",
    "td_mean_path = opj(save_destination,'td_mean')\n",
    "\n",
    "\n",
    "\n",
    "np.save(autism_mean_path,autism_mean)\n",
    "np.save(td_mean_path,td_mean)"
   ]
  },
  {
   "cell_type": "code",
   "execution_count": null,
   "metadata": {
    "collapsed": true
   },
   "outputs": [],
   "source": []
  },
  {
   "cell_type": "code",
   "execution_count": null,
   "metadata": {
    "collapsed": true
   },
   "outputs": [],
   "source": [
    "autismMinusTd = autism_mean - td_mean\n"
   ]
  },
  {
   "cell_type": "code",
   "execution_count": null,
   "metadata": {
    "collapsed": true
   },
   "outputs": [],
   "source": [
    "td_mean_path = opj(save_destination,'autismMinusTd')\n",
    "\n",
    "np.save(td_mean_path,autismMinusTd)"
   ]
  },
  {
   "cell_type": "code",
   "execution_count": null,
   "metadata": {
    "collapsed": true
   },
   "outputs": [],
   "source": [
    "np.min(autismMinusTd)"
   ]
  },
  {
   "cell_type": "code",
   "execution_count": null,
   "metadata": {
    "collapsed": true
   },
   "outputs": [],
   "source": [
    "np.min(autism_mean), np.max(autism_mean)"
   ]
  },
  {
   "cell_type": "markdown",
   "metadata": {},
   "source": [
    "## File Descriptions\n",
    "* Q file name -> fdr_brain_voxel_list.npy\n",
    "* P values file -> significance_matrix.npy\n",
    "* C1 File -> autism_mean.npy\n",
    "* C2 File -> td_meaan.npy\n",
    "* C1-C2 File -> autismMinusTd.npy"
   ]
  },
  {
   "cell_type": "code",
   "execution_count": 4,
   "metadata": {
    "collapsed": true
   },
   "outputs": [],
   "source": [
    "# Check if the values are saved nicely\n",
    "\n",
    "# P = np.load('/home1/varunk/Autism-Connectome-Analysis-bids-related/significance/significance_matrix.npy',mmap_mode='r')\n",
    "# Q = np.load('/home1/varunk/Autism-Connectome-Analysis-bids-related/fdr_brain_voxel_list.npy',mmap_mode='r')\n",
    "# C1MinusC2 = np.load('/home1/varunk/Autism-Connectome-Analysis-bids-related/autismMinusTd.npy',mmap_mode='r')\n",
    "\n",
    "C1MinusC2_file = '/home1/varunk/Autism-Connectome-Analysis-bids-related/autismMinusTd.npy'\n",
    "\n",
    "\n",
    "if not params.run_all:\n",
    "    Pvals_file_path = '/home1/varunk/Autism-Connectome-Analysis-bids-related/significance/significance_matrix.npy'\n",
    "    Qvals_file_path = '/home1/varunk/Autism-Connectome-Analysis-bids-related/fdr_brain_voxel_list.npy'\n",
    "\n",
    "P = np.load(Pvals_file_path,mmap_mode='r')\n",
    "Q = np.load(Qvals_file_path,mmap_mode='r')\n",
    "C1MinusC2 = np.load(C1MinusC2_file,mmap_mode='r')\n",
    "\n",
    "\n",
    "\n",
    "# Y = np.load('/home1/varunk/Autism-Connectome-Analysis-bids-related/significance_matrix_wo_z_standardization.npy', mmap_mode='r')"
   ]
  },
  {
   "cell_type": "code",
   "execution_count": 6,
   "metadata": {
    "collapsed": true
   },
   "outputs": [],
   "source": [
    "# c1-c2 * -1 * log10(q)\n",
    "map1 = np.multiply(np.sign(C1MinusC2),(-1*np.log10(Q)))"
   ]
  },
  {
   "cell_type": "code",
   "execution_count": 5,
   "metadata": {},
   "outputs": [
    {
     "data": {
      "text/plain": [
       "(array([], dtype=int64), array([], dtype=int64))"
      ]
     },
     "execution_count": 5,
     "metadata": {},
     "output_type": "execute_result"
    }
   ],
   "source": [
    "np.where(C1MinusC2 == 0)"
   ]
  },
  {
   "cell_type": "code",
   "execution_count": 24,
   "metadata": {},
   "outputs": [
    {
     "data": {
      "text/plain": [
       "(-0.22085895627840782, 0.29561788719604293)"
      ]
     },
     "execution_count": 24,
     "metadata": {},
     "output_type": "execute_result"
    }
   ],
   "source": [
    "np.min(map1), np.max(map1)"
   ]
  },
  {
   "cell_type": "code",
   "execution_count": null,
   "metadata": {
    "collapsed": true
   },
   "outputs": [],
   "source": []
  },
  {
   "cell_type": "code",
   "execution_count": 12,
   "metadata": {
    "collapsed": true
   },
   "outputs": [],
   "source": [
    "map2 = np.multiply(np.sign(C1MinusC2),(-1*np.log10(P)))"
   ]
  },
  {
   "cell_type": "code",
   "execution_count": 6,
   "metadata": {
    "collapsed": true
   },
   "outputs": [],
   "source": [
    "map3 = C1MinusC2"
   ]
  },
  {
   "cell_type": "code",
   "execution_count": 7,
   "metadata": {
    "collapsed": true
   },
   "outputs": [],
   "source": [
    "num_ROIs = P.shape[0]"
   ]
  },
  {
   "cell_type": "code",
   "execution_count": null,
   "metadata": {
    "collapsed": true
   },
   "outputs": [],
   "source": [
    "# roi_idx = 200\n",
    "# np.min(X[roi_idx,:]),np.max(X[roi_idx,:])\n"
   ]
  },
  {
   "cell_type": "markdown",
   "metadata": {},
   "source": [
    "## The following function creates a functional brain file out of the given ROI x Voxel matrix\n",
    ">**Inputs**: ROI x Voxel matrix  \n",
    ">**Output**: Functional file with ROI as t-dimension \n"
   ]
  },
  {
   "cell_type": "code",
   "execution_count": null,
   "metadata": {
    "collapsed": true
   },
   "outputs": [],
   "source": [
    "# Read mask files:\n",
    "mask_file = os.path.expandvars('$FSLDIR/data/standard/MNI152_T1_2mm_brain_mask.nii.gz')\n",
    "mask_data = nib.load(mask_file)\n",
    "mask = mask_data.get_data()\n",
    "\n",
    "# read the file on which you want to write the p-values\n",
    "brain_file = '/home1/varunk/data/ABIDE-BIDS-Preprocessed/NYU/sub-0050952/func/sub-0050952_task-rest_run-1_bold.nii.gz'\n",
    "brain_data = nib.load(brain_file)\n",
    "brain = brain_data.get_data()\n",
    "\n",
    "# Edit header to store ROI correlation maps in t(4th) dimension\n",
    "\n",
    "(brain_data.header).set_data_shape([91,109,91,num_ROIs])"
   ]
  },
  {
   "cell_type": "code",
   "execution_count": null,
   "metadata": {
    "collapsed": true
   },
   "outputs": [],
   "source": [
    "def convert_to_brain(brain_roi_tensor, brain_voxel_list):\n",
    "    mask_data = nib.load(mask_file)\n",
    "    mask = mask_data.get_data()\n",
    "    \n",
    "    # to use the deader of an anatomical file tht has float datatype. mask had uint datatype that made all the p-values zero\n",
    "    brain_file = '/home1/varunk/data/ABIDE-BIDS-Preprocessed/NYU/sub-0050952/anat/sub-0050952_T1w.nii.gz'\n",
    "    brain_data = nib.load(brain_file)\n",
    "    \n",
    "    \n",
    "    # Empty brain to store the voxel values\n",
    "    brain = brain_data.get_data()\n",
    "    \n",
    "    brain_corrected_mask = np.zeros((brain.shape))\n",
    "\n",
    "\n",
    "    roi_number = int(brain_voxel_list[0]) - 1\n",
    "    brain_voxel_list = brain_voxel_list[1:]\n",
    "    \n",
    "    x_dim, y_dim, z_dim = mask.shape\n",
    "\n",
    "    brain_voxel_counter = 0\n",
    "    for i in range(x_dim):\n",
    "        for j in range(y_dim):\n",
    "            for k in range(z_dim):\n",
    "                if mask[i,j,k] == 1:\n",
    "                    brain[i,j,k] = brain_voxel_list[brain_voxel_counter]\n",
    "                    brain_voxel_counter = brain_voxel_counter + 1\n",
    "                    \n",
    "\n",
    "    \n",
    "    \n",
    "    if brain_voxel_counter == len(brain_voxel_list):\n",
    "        \n",
    "     \n",
    "    \n",
    "        brain_roi_tensor[:,:,:,roi_number] = brain\n",
    "        \n",
    "        print('Stored ROI file the shared arrays! ')\n",
    "        print(\"Job Done for ROI-\",roi_number)\n",
    "      \n",
    "        return 1\n",
    "    else:\n",
    "        print(\"Voxels fitting failed for ROI-\",roi_number)\n",
    "        return 0"
   ]
  },
  {
   "cell_type": "code",
   "execution_count": null,
   "metadata": {
    "collapsed": true
   },
   "outputs": [],
   "source": [
    "%%time\n",
    "# Input roi-voxel matrix\n",
    "for i,X in enumerate([map1,map2,map3]):\n",
    "    X = np.c_[1:X.shape[0]+1,X] # Add ROI number\n",
    "\n",
    "    # Create pool of 8 workers\n",
    "\n",
    "    pool_inputs = [] #np.arange(number_of_ROIs)\n",
    "\n",
    "    for roi in range(num_ROIs):\n",
    "        pool_inputs.append(X[roi,:])\n",
    "\n",
    "\n",
    "    # print (brain_data.header)\n",
    "\n",
    "\n",
    "    m = MyManager()\n",
    "    m.start()\n",
    "    brain_roi_tensor = m.np_zeros((brain_data.header.get_data_shape()))\n",
    "    # fdrcorrected_brain_4Dtensor_mask = m.np_zeros((brain_data.header.get_data_shape()))\n",
    "\n",
    "    func = partial(convert_to_brain, brain_roi_tensor)\n",
    "\n",
    "    pool = Pool(8)\n",
    "\n",
    "    data_outputs = pool.map(func, pool_inputs)\n",
    "\n",
    "    brain_roi_tensor = np.asarray(brain_roi_tensor)\n",
    "\n",
    "    # Saving the brains: \n",
    "    brain_with_header = nib.Nifti1Image(brain_roi_tensor, affine=brain_data.affine,header = brain_data.header)\n",
    "    \n",
    "    map_name = 'map'+ str(i+1) + '.nii.gz'\n",
    "    map_path = opj(save_destination,map_name)\n",
    "\n",
    "    nib.save(brain_with_header,map_path)\n"
   ]
  },
  {
   "cell_type": "code",
   "execution_count": null,
   "metadata": {
    "collapsed": true
   },
   "outputs": [],
   "source": [
    "# for i,j in enumerate(['q','w','r']):\n",
    "#     print(i,j)"
   ]
  },
  {
   "cell_type": "markdown",
   "metadata": {
    "collapsed": true
   },
   "source": [
    "# Excel Work\n",
    "Now, do the following:\n",
    "\n",
    "For each ROI I have to report minimum abs p value (among all voxels) and min q value and number of voxels for which abs q value les than 0.1,  0.05, 0.01  \n",
    "\n",
    "And number of voxels for absolute p value les than 0.1,  0.05, 0.01\n"
   ]
  },
  {
   "cell_type": "code",
   "execution_count": 10,
   "metadata": {
    "collapsed": true
   },
   "outputs": [],
   "source": [
    "def count_voxel_stats(roi_voxel_stats_matrix,Pval_Qval_tuple):\n",
    "    \n",
    "\n",
    "    P_brain_voxel_list, Q_brain_voxel_list = Pval_Qval_tuple\n",
    "\n",
    "    roi_number = int(P_brain_voxel_list[0]) - 1\n",
    "    P_brain_voxel_list = P_brain_voxel_list[1:]\n",
    "    \n",
    "    \n",
    "#     min p value \n",
    "    min_pval = np.min(P_brain_voxel_list)\n",
    "    \n",
    "#     min q value\n",
    "    min_qval = np.min(Q_brain_voxel_list)\n",
    "    \n",
    "#     p value less than 0.1\n",
    "    p_lt_point_1 = np.shape(np.where(P_brain_voxel_list < 0.1))[1]  \n",
    "    \n",
    "#     p value less than 0.01    \n",
    "    p_lt_point_01 = np.shape(np.where(P_brain_voxel_list < 0.01))[1]\n",
    "    \n",
    "#     p value less than 0.05    \n",
    "    p_lt_point_05 = np.shape(np.where(P_brain_voxel_list < 0.05))[1]\n",
    "\n",
    "#     p value less than 0.1    \n",
    "    q_lt_point_1 = np.shape(np.where(Q_brain_voxel_list < 0.1))[1]  \n",
    "\n",
    "#     p value less than 0.01    \n",
    "    q_lt_point_01 = np.shape(np.where(Q_brain_voxel_list < 0.01))[1]\n",
    "\n",
    "#     p value less than 0.05    \n",
    "    q_lt_point_05 = np.shape(np.where(Q_brain_voxel_list < 0.05))[1]\n",
    "    \n",
    "# Store in the roi_voxel_stats_matrix \n",
    "\n",
    "    roi_voxel_stats_matrix[roi_number,:] = [min_pval,min_qval,p_lt_point_1,p_lt_point_01,p_lt_point_05,q_lt_point_1,q_lt_point_01,q_lt_point_05]\n",
    "    \n",
    "    print('Stats computed for ROI: ',roi_number)\n",
    "    return 1"
   ]
  },
  {
   "cell_type": "code",
   "execution_count": 11,
   "metadata": {},
   "outputs": [
    {
     "name": "stderr",
     "output_type": "stream",
     "text": [
      "/root/anaconda3/lib/python3.6/site-packages/ipykernel_launcher.py:17: DeprecationWarning: `Tracer` is deprecated since version 5.1, directly use `IPython.core.debugger.Pdb.set_trace()`\n"
     ]
    },
    {
     "name": "stdout",
     "output_type": "stream",
     "text": [
      "None\n",
      "> \u001b[0;32m<timed exec>\u001b[0m(21)\u001b[0;36m<module>\u001b[0;34m()\u001b[0m\n",
      "\n",
      "ipdb> c\n",
      "Hello\n",
      "Reached\n",
      "Reached\n",
      "Stats computed for ROI:  0\n",
      "Stats computed for ROI:  1\n",
      "Reached\n",
      "Stats computed for ROI:  2\n",
      "Reached\n",
      "Stats computed for ROI:  3\n",
      "Reached\n",
      "Stats computed for ROI:  4\n",
      "Reached\n",
      "Stats computed for ROI:  5\n",
      "Reached\n",
      "Stats computed for ROI:  6\n",
      "Reached\n",
      "Reached\n",
      "Stats computed for ROI:  7\n",
      "Reached\n",
      "Stats computed for ROI:  8\n",
      "Stats computed for ROI:  9\n",
      "Reached\n",
      "Stats computed for ROI:  10\n",
      "Reached\n",
      "Stats computed for ROI:  11\n",
      "Reached\n",
      "Stats computed for ROI:  12\n",
      "Reached\n",
      "Stats computed for ROI:  13\n",
      "Reached\n",
      "Reached\n",
      "Stats computed for ROI:  14\n",
      "Reached\n",
      "Stats computed for ROI:  15\n",
      "Reached\n",
      "Stats computed for ROI:  16\n",
      "Reached\n",
      "Stats computed for ROI:  17\n",
      "Stats computed for ROI:  18\n",
      "Reached\n",
      "Stats computed for ROI:  19\n",
      "Reached\n",
      "Stats computed for ROI:  20\n",
      "Reached\n",
      "Stats computed for ROI:  21\n",
      "Reached\n",
      "Stats computed for ROI:  22\n",
      "Reached\n",
      "Stats computed for ROI:  23\n",
      "Reached\n",
      "Stats computed for ROI:  24\n",
      "Reached\n",
      "Stats computed for ROI:  25\n",
      "Reached\n",
      "Stats computed for ROI:  26\n",
      "Reached\n",
      "Stats computed for ROI:  27\n",
      "Reached\n",
      "Stats computed for ROI:  28\n",
      "Reached\n",
      "Stats computed for ROI:  29\n",
      "Reached\n",
      "Stats computed for ROI:  30\n",
      "Reached\n",
      "Stats computed for ROI:  31\n",
      "Reached\n",
      "Stats computed for ROI:  32\n",
      "Reached\n",
      "Reached\n",
      "Stats computed for ROI:  33\n",
      "Reached\n",
      "Stats computed for ROI:  34\n",
      "Reached\n",
      "Stats computed for ROI:  35\n",
      "Stats computed for ROI:  36\n",
      "Reached\n",
      "Reached\n",
      "Stats computed for ROI:  37\n",
      "Reached\n",
      "Stats computed for ROI:  38\n",
      "Reached\n",
      "Stats computed for ROI:  39\n",
      "Reached\n",
      "Stats computed for ROI:  40\n",
      "Stats computed for ROI:  41\n",
      "Reached\n",
      "Stats computed for ROI:  42\n",
      "Reached\n",
      "Stats computed for ROI:  43\n",
      "Reached\n",
      "Stats computed for ROI:  44\n",
      "Reached\n",
      "Stats computed for ROI:  45\n",
      "Reached\n",
      "Stats computed for ROI:  46\n",
      "Stats computed for ROI:  53\n",
      "Reached\n",
      "Stats computed for ROI:  47\n",
      "Reached\n",
      "Stats computed for ROI:  48\n",
      "Reached\n",
      "Stats computed for ROI:  49\n",
      "Reached\n",
      "Stats computed for ROI:  50\n",
      "Reached\n",
      "Stats computed for ROI:  51\n",
      "Reached\n",
      "Stats computed for ROI:  52\n",
      "Reached\n",
      "Reached\n",
      "Stats computed for ROI:  54\n",
      "Reached\n",
      "Stats computed for ROI:  55\n",
      "Stats computed for ROI:  62\n",
      "Reached\n",
      "Stats computed for ROI:  56\n",
      "Reached\n",
      "Stats computed for ROI:  57\n",
      "Reached\n",
      "Stats computed for ROI:  58\n",
      "Reached\n",
      "Stats computed for ROI:  59\n",
      "Reached\n",
      "Stats computed for ROI:  60\n",
      "Reached\n",
      "Stats computed for ROI:  61\n",
      "Reached\n",
      "Reached\n",
      "Stats computed for ROI:  63\n",
      "Reached\n",
      "Stats computed for ROI:  64\n",
      "Reached\n",
      "Reached\n",
      "Stats computed for ROI:  65\n",
      "Reached\n",
      "Stats computed for ROI:  66\n",
      "Reached\n",
      "Reached\n",
      "Stats computed for ROI:  67\n",
      "Reached\n",
      "Stats computed for ROI:  72\n",
      "Reached\n",
      "Stats computed for ROI:  68\n",
      "Stats computed for ROI:  73\n",
      "Reached\n",
      "Stats computed for ROI:  69\n",
      "Stats computed for ROI:  74\n",
      "Reached\n",
      "Reached\n",
      "Stats computed for ROI:  70\n",
      "Stats computed for ROI:  75\n",
      "Reached\n",
      "Reached\n",
      "Stats computed for ROI:  71\n",
      "Stats computed for ROI:  76\n",
      "Reached\n",
      "Stats computed for ROI:  77\n",
      "Reached\n",
      "Stats computed for ROI:  78\n",
      "Reached\n",
      "Stats computed for ROI:  79\n",
      "Reached\n",
      "Stats computed for ROI:  80\n",
      "Reached\n",
      "Reached\n",
      "Stats computed for ROI:  81\n",
      "Reached\n",
      "Stats computed for ROI:  82\n",
      "Reached\n",
      "Stats computed for ROI:  83\n",
      "Stats computed for ROI:  84\n",
      "Reached\n",
      "Stats computed for ROI:  85\n",
      "Reached\n",
      "Stats computed for ROI:  86\n",
      "Reached\n",
      "Stats computed for ROI:  87\n",
      "Reached\n",
      "Stats computed for ROI:  88\n",
      "Reached\n",
      "Reached\n",
      "Stats computed for ROI:  89\n",
      "Reached\n",
      "Stats computed for ROI:  90\n",
      "Reached\n",
      "Stats computed for ROI:  91\n",
      "Reached\n",
      "Stats computed for ROI:  92\n",
      "Reached\n",
      "Stats computed for ROI:  93\n",
      "Stats computed for ROI:  94\n",
      "Reached\n",
      "Stats computed for ROI:  95\n",
      "Reached\n",
      "Stats computed for ROI:  96\n",
      "Reached\n",
      "Stats computed for ROI:  97\n",
      "Reached\n",
      "Stats computed for ROI:  98\n",
      "Reached\n",
      "Reached\n",
      "Stats computed for ROI:  99\n",
      "Reached\n",
      "Stats computed for ROI:  100\n",
      "Reached\n",
      "Stats computed for ROI:  101\n",
      "Stats computed for ROI:  102\n",
      "Reached\n",
      "Stats computed for ROI:  103\n",
      "Reached\n",
      "Stats computed for ROI:  104\n",
      "Reached\n",
      "Stats computed for ROI:  105\n",
      "Reached\n",
      "Stats computed for ROI:  106\n",
      "Reached\n",
      "Stats computed for ROI:  107\n",
      "Reached\n",
      "Reached\n",
      "Stats computed for ROI:  108\n",
      "Reached\n",
      "Stats computed for ROI:  109\n",
      "Reached\n",
      "Stats computed for ROI:  110\n",
      "Stats computed for ROI:  111\n",
      "Reached\n",
      "Stats computed for ROI:  112\n",
      "Reached\n",
      "Stats computed for ROI:  113\n",
      "Reached\n",
      "Stats computed for ROI:  114\n",
      "Reached\n",
      "Stats computed for ROI:  115\n",
      "Reached\n",
      "Stats computed for ROI:  116\n",
      "Reached\n",
      "Reached\n",
      "Stats computed for ROI:  117\n",
      "Reached\n",
      "Stats computed for ROI:  118\n",
      "Reached\n",
      "Stats computed for ROI:  119\n",
      "Stats computed for ROI:  120\n",
      "Reached\n",
      "Stats computed for ROI:  121\n",
      "Reached\n",
      "Stats computed for ROI:  122\n",
      "Reached\n",
      "Stats computed for ROI:  123\n",
      "Reached\n",
      "Stats computed for ROI:  124\n",
      "Reached\n",
      "Stats computed for ROI:  125\n",
      "Reached\n",
      "Reached\n",
      "Stats computed for ROI:  126\n",
      "Reached\n",
      "Stats computed for ROI:  127\n",
      "Reached\n",
      "Stats computed for ROI:  128\n",
      "Stats computed for ROI:  129\n",
      "Reached\n",
      "Stats computed for ROI:  130\n",
      "Reached\n",
      "Stats computed for ROI:  131\n",
      "Reached\n",
      "Stats computed for ROI:  132\n",
      "Reached\n",
      "Stats computed for ROI:  133\n",
      "Reached\n",
      "Stats computed for ROI:  134\n",
      "Reached\n",
      "Reached\n",
      "Stats computed for ROI:  135\n",
      "Reached\n",
      "Stats computed for ROI:  136\n",
      "Reached\n",
      "Stats computed for ROI:  137\n",
      "Reached\n",
      "Stats computed for ROI:  138\n",
      "Stats computed for ROI:  139\n",
      "Reached\n",
      "Stats computed for ROI:  140\n",
      "Reached\n",
      "Stats computed for ROI:  141\n",
      "Reached\n",
      "Stats computed for ROI:  142\n",
      "Reached\n",
      "Stats computed for ROI:  143\n",
      "Reached\n",
      "Reached\n",
      "Stats computed for ROI:  144\n",
      "Reached\n",
      "Stats computed for ROI:  145\n",
      "Stats computed for ROI:  146\n",
      "Reached\n",
      "Stats computed for ROI:  147\n",
      "Reached\n",
      "Stats computed for ROI:  148\n",
      "Reached\n",
      "Stats computed for ROI:  149\n",
      "Reached\n",
      "Stats computed for ROI:  150\n",
      "Reached\n",
      "Stats computed for ROI:  151\n",
      "Reached\n",
      "Stats computed for ROI:  152\n",
      "Reached\n",
      "Reached\n",
      "Stats computed for ROI:  153\n",
      "Reached\n",
      "Stats computed for ROI:  154\n",
      "Reached\n",
      "Stats computed for ROI:  155\n",
      "Stats computed for ROI:  156\n",
      "Reached\n",
      "Stats computed for ROI:  157\n",
      "Reached\n",
      "Stats computed for ROI:  158\n",
      "Reached\n",
      "Stats computed for ROI:  159\n",
      "Reached\n",
      "Stats computed for ROI:  160\n",
      "Reached\n",
      "Reached\n",
      "Stats computed for ROI:  161\n",
      "Reached\n",
      "Stats computed for ROI:  162\n",
      "Reached\n",
      "Stats computed for ROI:  163\n",
      "Stats computed for ROI:  164\n",
      "Reached\n",
      "Stats computed for ROI:  165\n",
      "Reached\n",
      "Stats computed for ROI:  166\n",
      "Reached\n",
      "Stats computed for ROI:  167\n",
      "Reached\n",
      "Stats computed for ROI:  168\n",
      "Reached\n",
      "Stats computed for ROI:  169\n",
      "Reached\n",
      "Stats computed for ROI:  170\n",
      "Reached\n",
      "Reached\n",
      "Stats computed for ROI:  171\n",
      "Reached\n",
      "Stats computed for ROI:  172\n",
      "Reached\n",
      "Stats computed for ROI:  173\n",
      "Reached\n",
      "Stats computed for ROI:  174\n",
      "Stats computed for ROI:  175\n",
      "Reached\n",
      "Stats computed for ROI:  176\n",
      "Reached\n",
      "Stats computed for ROI:  177\n",
      "Reached\n",
      "Stats computed for ROI:  178\n",
      "Reached\n",
      "Stats computed for ROI:  179\n",
      "Reached\n",
      "Stats computed for ROI:  183\n",
      "Stats computed for ROI:  180\n",
      "Reached\n",
      "Stats computed for ROI:  181\n",
      "Reached\n",
      "Stats computed for ROI:  182\n",
      "Reached\n",
      "Reached\n",
      "Stats computed for ROI:  184\n",
      "Reached\n",
      "Stats computed for ROI:  185\n",
      "Reached\n",
      "Stats computed for ROI:  186\n",
      "Reached\n",
      "Stats computed for ROI:  187\n",
      "Reached\n",
      "Stats computed for ROI:  188\n",
      "Reached\n",
      "Reached\n",
      "Stats computed for ROI:  189\n",
      "Reached\n",
      "Stats computed for ROI:  190\n",
      "Reached\n",
      "Stats computed for ROI:  191\n",
      "Stats computed for ROI:  192\n",
      "Reached\n",
      "Stats computed for ROI:  193\n",
      "Reached\n",
      "Stats computed for ROI:  194\n",
      "Reached\n",
      "Stats computed for ROI:  195\n",
      "Reached\n",
      "Stats computed for ROI:  196\n",
      "Reached\n",
      "Stats computed for ROI:  197\n",
      "Reached\n",
      "Reached\n",
      "Stats computed for ROI:  198\n",
      "Reached\n",
      "Stats computed for ROI:  199\n",
      "Reached\n",
      "Stats computed for ROI:  200\n",
      "Stats computed for ROI:  201\n",
      "Reached\n",
      "Stats computed for ROI:  202\n",
      "Reached\n",
      "Stats computed for ROI:  203\n",
      "Reached\n",
      "Stats computed for ROI:  204\n",
      "Reached\n",
      "Stats computed for ROI:  205\n",
      "Reached\n",
      "Stats computed for ROI:  206\n",
      "Reached\n",
      "Reached\n",
      "Stats computed for ROI:  207\n",
      "Reached\n",
      "Stats computed for ROI:  208\n",
      "Reached\n",
      "Stats computed for ROI:  209\n",
      "Stats computed for ROI:  210\n",
      "Reached\n",
      "Stats computed for ROI:  211\n",
      "Reached\n",
      "Stats computed for ROI:  212\n",
      "Reached\n",
      "Stats computed for ROI:  213\n",
      "Reached\n",
      "Stats computed for ROI:  214\n",
      "Reached\n",
      "Stats computed for ROI:  215\n",
      "Reached\n",
      "Reached\n",
      "Stats computed for ROI:  216\n",
      "Reached\n",
      "Stats computed for ROI:  217\n",
      "Reached\n",
      "Stats computed for ROI:  218\n",
      "Stats computed for ROI:  219\n",
      "Reached\n",
      "Stats computed for ROI:  220\n",
      "Reached\n",
      "Stats computed for ROI:  221\n",
      "Reached\n",
      "Stats computed for ROI:  222\n"
     ]
    },
    {
     "name": "stdout",
     "output_type": "stream",
     "text": [
      "Reached\n",
      "Stats computed for ROI:  223\n",
      "Stats computed for ROI:  228\n",
      "Reached\n",
      "Stats computed for ROI:  224\n",
      "Reached\n",
      "Stats computed for ROI:  225\n",
      "Reached\n",
      "Stats computed for ROI:  226\n",
      "Reached\n",
      "Stats computed for ROI:  227\n",
      "Reached\n",
      "Reached\n",
      "Stats computed for ROI:  229\n",
      "Reached\n",
      "Stats computed for ROI:  230\n",
      "Reached\n",
      "Stats computed for ROI:  231\n",
      "Reached\n",
      "Stats computed for ROI:  232\n",
      "Reached\n",
      "Stats computed for ROI:  233\n",
      "Reached\n",
      "Reached\n",
      "Stats computed for ROI:  234\n",
      "Reached\n",
      "Stats computed for ROI:  235\n",
      "Reached\n",
      "Stats computed for ROI:  236\n",
      "Reached\n",
      "Stats computed for ROI:  237\n",
      "Stats computed for ROI:  238\n",
      "Reached\n",
      "Stats computed for ROI:  239\n",
      "Reached\n",
      "Stats computed for ROI:  240\n",
      "Reached\n",
      "Stats computed for ROI:  241\n",
      "Reached\n",
      "Stats computed for ROI:  242\n",
      "Reached\n",
      "Reached\n",
      "Stats computed for ROI:  243\n",
      "Reached\n",
      "Stats computed for ROI:  244\n",
      "Reached\n",
      "Stats computed for ROI:  245\n",
      "Stats computed for ROI:  246\n",
      "Reached\n",
      "Stats computed for ROI:  247\n",
      "Reached\n",
      "Stats computed for ROI:  248\n",
      "Reached\n",
      "Stats computed for ROI:  249\n",
      "Reached\n",
      "Stats computed for ROI:  250\n",
      "Stats computed for ROI:  255\n",
      "Reached\n",
      "Stats computed for ROI:  251\n",
      "Reached\n",
      "Stats computed for ROI:  252\n",
      "Reached\n",
      "Stats computed for ROI:  253\n",
      "Reached\n",
      "Stats computed for ROI:  254\n",
      "Reached\n",
      "Reached\n",
      "Stats computed for ROI:  256\n",
      "Reached\n",
      "Stats computed for ROI:  257\n",
      "Reached\n",
      "Stats computed for ROI:  258\n",
      "Reached\n",
      "Stats computed for ROI:  259\n",
      "Reached\n",
      "Stats computed for ROI:  260\n",
      "Reached\n",
      "Stats computed for ROI:  261\n",
      "Reached\n",
      "Stats computed for ROI:  262\n",
      "Reached\n",
      "Reached\n",
      "Stats computed for ROI:  263\n",
      "Stats computed for ROI:  270\n",
      "Reached\n",
      "Reached\n",
      "Stats computed for ROI:  264\n",
      "Stats computed for ROI:  271\n",
      "Reached\n",
      "Reached\n",
      "Stats computed for ROI:  272\n",
      "Stats computed for ROI:  265\n",
      "Reached\n",
      "Reached\n",
      "Stats computed for ROI:  273\n",
      "Stats computed for ROI:  266\n",
      "Reached\n",
      "Stats computed for ROI:  267\n",
      "Reached\n",
      "Stats computed for ROI:  268\n",
      "Reached\n",
      "Stats computed for ROI:  269\n",
      "CPU times: user 1.18 s, sys: 620 ms, total: 1.8 s\n",
      "Wall time: 4.31 s\n"
     ]
    }
   ],
   "source": [
    "%%time\n",
    "\n",
    "# Input roi-voxel matrix\n",
    "X = P\n",
    "Y = Q\n",
    "X = np.c_[1:X.shape[0]+1,X] # Add ROI number\n",
    "\n",
    "# Create pool of 8 workers\n",
    "\n",
    "\n",
    "pool_inputs = [] #np.arange(number_of_ROIs)\n",
    "\n",
    "for roi in range(num_ROIs):\n",
    "    inputs = (X[roi,:],np.asarray(Y[roi,:]))\n",
    "    pool_inputs.append(inputs)\n",
    "    \n",
    "# from IPython.core.debugger import Tracer;\n",
    "# Tracer()()\n",
    "\n",
    "# print (brain_data.header)\n",
    "\n",
    "num_of_stat_entries = 8\n",
    "\n",
    "m = MyManager()\n",
    "m.start()\n",
    "\n",
    "roi_voxel_stats_matrix = m.np_zeros((Y.shape[0], num_of_stat_entries ))\n",
    "# fdrcorrected_brain_4Dtensor_mask = m.np_zeros((brain_data.header.get_data_shape()))\n",
    "\n",
    "func = partial(count_voxel_stats, roi_voxel_stats_matrix)\n",
    "\n",
    "pool = Pool(8)\n",
    "\n",
    "data_outputs = pool.map(func, pool_inputs)\n"
   ]
  },
  {
   "cell_type": "code",
   "execution_count": 13,
   "metadata": {
    "collapsed": true
   },
   "outputs": [],
   "source": [
    "roi_voxel_stats_matrix = np.asarray(roi_voxel_stats_matrix)"
   ]
  },
  {
   "cell_type": "code",
   "execution_count": 15,
   "metadata": {
    "collapsed": true
   },
   "outputs": [],
   "source": [
    "autism_mean_path = opj(save_destination,'roi_voxel_stats_matrix')\n",
    "\n",
    "np.savetxt(autism_mean_path,roi_voxel_stats_matrix,delimiter=',',header='min_pval,min_qval,p_lt_point_1,p_lt_point_01,p_lt_point_05,q_lt_point_1,q_lt_point_01,q_lt_point_05')"
   ]
  },
  {
   "cell_type": "markdown",
   "metadata": {},
   "source": [
    "### Calculating the number of voxels per ROI"
   ]
  },
  {
   "cell_type": "code",
   "execution_count": null,
   "metadata": {
    "collapsed": true
   },
   "outputs": [],
   "source": [
    "path_cwd = os.getcwd()\n",
    "path_split_list = path_cwd.split('/')\n",
    "s = path_split_list[0:-1]\n",
    "s = opj('/',*s) # *s converts list to path, # also it is very important to add '/' in the begining so it is read as directory later\n",
    "\n",
    "# Put in the path of atlas you wish to use\n",
    "atlasPath = opj(s,'atlas/Full_brain_atlas_thr0-2mm/fullbrain_atlas_thr0-2mm.nii.gz')\n",
    "\n",
    "# Read the atlas\n",
    "atlasObject = nib.load(atlasPath)\n",
    "atlas = atlasObject.get_data()"
   ]
  },
  {
   "cell_type": "code",
   "execution_count": null,
   "metadata": {
    "collapsed": true
   },
   "outputs": [],
   "source": [
    "x_dim, y_dim, z_dim = atlas.shape\n",
    "\n",
    "# Keep track of number of voxels per ROI as well by using an array - num_voxels_in_ROI[]\n",
    "\n",
    "num_voxels_in_ROI = np.zeros((num_ROIs,1)) # A column arrray containing number of voxels in each ROI\n",
    "\n",
    "    \n",
    "for i in range(x_dim):\n",
    "    for j in range(y_dim):\n",
    "        for k in range(z_dim):\n",
    "            label = int(atlas[i,j,k]) - 1\n",
    "            if label != -1:\n",
    "                num_voxels_in_ROI[label,0] = num_voxels_in_ROI[label,0] + 1\n"
   ]
  },
  {
   "cell_type": "code",
   "execution_count": null,
   "metadata": {
    "collapsed": true
   },
   "outputs": [],
   "source": [
    "autism_mean_path = opj(save_destination,'num_voxels_in_ROI.txt')\n",
    "\n",
    "np.savetxt(autism_mean_path,num_voxels_in_ROI,delimiter=',',header='Number of Voxels')"
   ]
  },
  {
   "cell_type": "code",
   "execution_count": null,
   "metadata": {
    "collapsed": true
   },
   "outputs": [],
   "source": [
    "# END---------------------------------------------------------------------------------------------"
   ]
  },
  {
   "cell_type": "code",
   "execution_count": null,
   "metadata": {
    "collapsed": true
   },
   "outputs": [],
   "source": [
    "# temp = np.random.rand(10,10)"
   ]
  },
  {
   "cell_type": "code",
   "execution_count": null,
   "metadata": {
    "collapsed": true
   },
   "outputs": [],
   "source": [
    "# np.shape(np.where(temp>0.5))[1]"
   ]
  },
  {
   "cell_type": "code",
   "execution_count": null,
   "metadata": {
    "collapsed": true
   },
   "outputs": [],
   "source": [
    "# temp"
   ]
  },
  {
   "cell_type": "code",
   "execution_count": null,
   "metadata": {
    "collapsed": true
   },
   "outputs": [],
   "source": [
    "# temp[0,:] = [1,2,3,4,5,6,7,8,9,10]"
   ]
  },
  {
   "cell_type": "code",
   "execution_count": null,
   "metadata": {
    "collapsed": true
   },
   "outputs": [],
   "source": [
    "# temp"
   ]
  },
  {
   "cell_type": "code",
   "execution_count": null,
   "metadata": {
    "collapsed": true
   },
   "outputs": [],
   "source": [
    "# a,b = (1,2)\n",
    "# b"
   ]
  },
  {
   "cell_type": "code",
   "execution_count": null,
   "metadata": {
    "collapsed": true
   },
   "outputs": [],
   "source": []
  }
 ],
 "metadata": {
  "kernelspec": {
   "display_name": "Python 3",
   "language": "python",
   "name": "python3"
  },
  "language_info": {
   "codemirror_mode": {
    "name": "ipython",
    "version": 3
   },
   "file_extension": ".py",
   "mimetype": "text/x-python",
   "name": "python",
   "nbconvert_exporter": "python",
   "pygments_lexer": "ipython3",
   "version": "3.6.2"
  }
 },
 "nbformat": 4,
 "nbformat_minor": 2
}
