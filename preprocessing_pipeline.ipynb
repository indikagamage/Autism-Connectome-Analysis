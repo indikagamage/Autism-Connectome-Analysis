{
 "cells": [
  {
   "cell_type": "markdown",
   "metadata": {},
   "source": [
    "### Preprocessing Pipeline\n",
    "1. Create a BIDSDataGrabber Node to read data files\n",
    "2. Create a IdentityInterface Node to iterate over multiple Subjects\n",
    "3. Create following Nodes for preprocessing: (Based on [Nan-kuei Chen's resting state analysis pipeline:](https://wiki.biac.duke.edu/biac:analysis:resting_pipeline)\n",
    "    - [-] convert data to nii in LAS orientation (Skip if NYU is already in [LAS Orientation](http://www.grahamwideman.com/gw/brain/orientation/orientterms.htm))\n",
    "    - [x] Exclude 4 volumes from the functional scan \n",
    "    - [x] slice time correction\n",
    "    - [x] motion correction, {[then regress out motion parameter] - This will be done later}\n",
    "    - [x] Skull stripping and mask generation using mean of functional scan got using mcflirt\n",
    "    - [x] Apply mask to Functional image\n",
    "    - [] Co-Registration with Anatomical Image\n",
    "    - [] normalize data\n",
    "    - [] regress out WM/CSF\n",
    "    - [] bandpass filter\n",
    "    \n",
    "4. Embed them into a workflow\n",
    "5. Do the Preprocessing of 3 subjects"
   ]
  },
  {
   "cell_type": "code",
   "execution_count": 446,
   "metadata": {
    "collapsed": true
   },
   "outputs": [],
   "source": [
    "from bids.grabbids import BIDSLayout\n",
    "from nipype.interfaces.fsl import (BET, ExtractROI, FAST, FLIRT, ImageMaths,\n",
    "                                   MCFLIRT, SliceTimer, Threshold)"
   ]
  },
  {
   "cell_type": "code",
   "execution_count": 447,
   "metadata": {
    "collapsed": true
   },
   "outputs": [],
   "source": [
    "number_of_subjects = 3 # Number of subjects you wish to preprocess"
   ]
  },
  {
   "cell_type": "code",
   "execution_count": 448,
   "metadata": {
    "collapsed": true
   },
   "outputs": [],
   "source": [
    "layout = BIDSLayout(\"/home/jovyan/work/preprocess/data/ABIDE-BIDS/NYU/\")"
   ]
  },
  {
   "cell_type": "markdown",
   "metadata": {},
   "source": [
    "Checking the Data directory Structure"
   ]
  },
  {
   "cell_type": "code",
   "execution_count": 449,
   "metadata": {},
   "outputs": [
    {
     "name": "stdout",
     "output_type": "stream",
     "text": [
      "/home/jovyan/work/preprocess/data/ABIDE-BIDS/NYU/\r\n",
      "├── participants.tsv\r\n",
      "├── sub-0050952\r\n",
      "│   ├── anat\r\n",
      "│   │   └── sub-0050952_T1w.nii.gz\r\n",
      "│   └── func\r\n",
      "│       └── sub-0050952_task-rest_run-1_bold.nii.gz\r\n",
      "├── sub-0050953\r\n",
      "│   ├── anat\r\n",
      "│   │   └── sub-0050953_T1w.nii.gz\r\n",
      "│   └── func\r\n",
      "│       └── sub-0050953_task-rest_run-1_bold.nii.gz\r\n",
      "├── sub-0050954\r\n",
      "│   ├── anat\r\n",
      "│   │   ├── mask_50954_mask.nii.gz\r\n",
      "│   │   ├── mask_50954.nii.gz\r\n",
      "│   │   └── sub-0050954_T1w.nii.gz\r\n",
      "│   └── func\r\n",
      "│       └── sub-0050954_task-rest_run-1_bold.nii.gz\r\n",
      "├── sub-0050955\r\n",
      "│   ├── anat\r\n",
      "│   │   └── sub-0050955_T1w.nii.gz\r\n",
      "│   └── func\r\n",
      "│       └── sub-0050955_task-rest_run-1_bold.nii.gz\r\n",
      "├── sub-0050956\r\n",
      "│   ├── anat\r\n",
      "│   │   └── sub-0050956_T1w.nii.gz\r\n",
      "│   └── func\r\n",
      "│       └── sub-0050956_task-rest_run-1_bold.nii.gz\r\n",
      "├── sub-0050957\r\n",
      "│   ├── anat\r\n",
      "│   │   └── sub-0050957_T1w.nii.gz\r\n",
      "│   └── func\r\n",
      "│       └── sub-0050957_task-rest_run-1_bold.nii.gz\r\n",
      "├── sub-0050958\r\n",
      "│   ├── anat\r\n",
      "│   │   └── sub-0050958_T1w.nii.gz\r\n",
      "│   └── func\r\n",
      "│       └── sub-0050958_task-rest_run-1_bold.nii.gz\r\n",
      "├── sub-0050959\r\n",
      "│   ├── anat\r\n",
      "│   │   └── sub-0050959_T1w.nii.gz\r\n",
      "│   └── func\r\n",
      "│       └── sub-0050959_task-rest_run-1_bold.nii.gz\r\n",
      "├── sub-0050960\r\n",
      "│   ├── anat\r\n",
      "│   │   └── sub-0050960_T1w.nii.gz\r\n",
      "│   └── func\r\n",
      "│       └── sub-0050960_task-rest_run-1_bold.nii.gz\r\n",
      "├── sub-0050961\r\n",
      "│   ├── anat\r\n",
      "│   │   └── sub-0050961_T1w.nii.gz\r\n",
      "│   └── func\r\n",
      "│       └── sub-0050961_task-rest_run-1_bold.nii.gz\r\n",
      "├── sub-0050962\r\n",
      "│   ├── anat\r\n",
      "│   │   └── sub-0050962_T1w.nii.gz\r\n",
      "│   └── func\r\n",
      "│       └── sub-0050962_task-rest_run-1_bold.nii.gz\r\n",
      "├── sub-0050964\r\n",
      "│   ├── anat\r\n",
      "│   │   └── sub-0050964_T1w.nii.gz\r\n",
      "│   └── func\r\n",
      "│       └── sub-0050964_task-rest_run-1_bold.nii.gz\r\n",
      "├── sub-0050965\r\n",
      "│   ├── anat\r\n",
      "│   │   └── sub-0050965_T1w.nii.gz\r\n",
      "│   └── func\r\n",
      "│       └── sub-0050965_task-rest_run-1_bold.nii.gz\r\n",
      "├── sub-0050966\r\n",
      "│   ├── anat\r\n",
      "│   │   └── sub-0050966_T1w.nii.gz\r\n",
      "│   └── func\r\n",
      "│       └── sub-0050966_task-rest_run-1_bold.nii.gz\r\n",
      "├── sub-0050967\r\n",
      "│   ├── anat\r\n",
      "│   │   └── sub-0050967_T1w.nii.gz\r\n",
      "│   └── func\r\n",
      "│       └── sub-0050967_task-rest_run-1_bold.nii.gz\r\n",
      "├── sub-0050968\r\n",
      "│   ├── anat\r\n",
      "│   │   └── sub-0050968_T1w.nii.gz\r\n",
      "│   └── func\r\n",
      "│       └── sub-0050968_task-rest_run-1_bold.nii.gz\r\n",
      "├── sub-0050969\r\n",
      "│   ├── anat\r\n",
      "│   │   └── sub-0050969_T1w.nii.gz\r\n",
      "│   └── func\r\n",
      "│       └── sub-0050969_task-rest_run-1_bold.nii.gz\r\n",
      "├── sub-0050970\r\n",
      "│   ├── anat\r\n",
      "│   │   └── sub-0050970_T1w.nii.gz\r\n",
      "│   └── func\r\n",
      "│       └── sub-0050970_task-rest_run-1_bold.nii.gz\r\n",
      "├── sub-0050971\r\n",
      "│   ├── anat\r\n",
      "│   │   └── sub-0050971_T1w.nii.gz\r\n",
      "│   └── func\r\n",
      "│       └── sub-0050971_task-rest_run-1_bold.nii.gz\r\n",
      "├── sub-0050972\r\n",
      "│   ├── anat\r\n",
      "│   │   └── sub-0050972_T1w.nii.gz\r\n",
      "│   └── func\r\n",
      "│       └── sub-0050972_task-rest_run-1_bold.nii.gz\r\n",
      "├── sub-0050973\r\n",
      "│   ├── anat\r\n",
      "│   │   └── sub-0050973_T1w.nii.gz\r\n",
      "│   └── func\r\n",
      "│       └── sub-0050973_task-rest_run-1_bold.nii.gz\r\n",
      "├── sub-0050974\r\n",
      "│   ├── anat\r\n",
      "│   │   └── sub-0050974_T1w.nii.gz\r\n",
      "│   └── func\r\n",
      "│       └── sub-0050974_task-rest_run-1_bold.nii.gz\r\n",
      "├── sub-0050975\r\n",
      "│   ├── anat\r\n",
      "│   │   └── sub-0050975_T1w.nii.gz\r\n",
      "│   └── func\r\n",
      "│       └── sub-0050975_task-rest_run-1_bold.nii.gz\r\n",
      "├── sub-0050976\r\n",
      "│   ├── anat\r\n",
      "│   │   └── sub-0050976_T1w.nii.gz\r\n",
      "│   └── func\r\n",
      "│       └── sub-0050976_task-rest_run-1_bold.nii.gz\r\n",
      "├── sub-0050977\r\n",
      "│   ├── anat\r\n",
      "│   │   └── sub-0050977_T1w.nii.gz\r\n",
      "│   └── func\r\n",
      "│       └── sub-0050977_task-rest_run-1_bold.nii.gz\r\n",
      "├── sub-0050978\r\n",
      "│   ├── anat\r\n",
      "│   │   └── sub-0050978_T1w.nii.gz\r\n",
      "│   └── func\r\n",
      "│       └── sub-0050978_task-rest_run-1_bold.nii.gz\r\n",
      "├── sub-0050979\r\n",
      "│   ├── anat\r\n",
      "│   │   └── sub-0050979_T1w.nii.gz\r\n",
      "│   └── func\r\n",
      "│       └── sub-0050979_task-rest_run-1_bold.nii.gz\r\n",
      "├── sub-0050980\r\n",
      "│   ├── anat\r\n",
      "│   │   └── sub-0050980_T1w.nii.gz\r\n",
      "│   └── func\r\n",
      "│       └── sub-0050980_task-rest_run-1_bold.nii.gz\r\n",
      "├── sub-0050981\r\n",
      "│   ├── anat\r\n",
      "│   │   └── sub-0050981_T1w.nii.gz\r\n",
      "│   └── func\r\n",
      "│       └── sub-0050981_task-rest_run-1_bold.nii.gz\r\n",
      "├── sub-0050982\r\n",
      "│   ├── anat\r\n",
      "│   │   └── sub-0050982_T1w.nii.gz\r\n",
      "│   └── func\r\n",
      "│       └── sub-0050982_task-rest_run-1_bold.nii.gz\r\n",
      "├── sub-0050983\r\n",
      "│   ├── anat\r\n",
      "│   │   └── sub-0050983_T1w.nii.gz\r\n",
      "│   └── func\r\n",
      "│       └── sub-0050983_task-rest_run-1_bold.nii.gz\r\n",
      "├── sub-0050984\r\n",
      "│   ├── anat\r\n",
      "│   │   └── sub-0050984_T1w.nii.gz\r\n",
      "│   └── func\r\n",
      "│       └── sub-0050984_task-rest_run-1_bold.nii.gz\r\n",
      "├── sub-0050985\r\n",
      "│   ├── anat\r\n",
      "│   │   └── sub-0050985_T1w.nii.gz\r\n",
      "│   └── func\r\n",
      "│       └── sub-0050985_task-rest_run-1_bold.nii.gz\r\n",
      "├── sub-0050986\r\n",
      "│   ├── anat\r\n",
      "│   │   └── sub-0050986_T1w.nii.gz\r\n",
      "│   └── func\r\n",
      "│       └── sub-0050986_task-rest_run-1_bold.nii.gz\r\n",
      "├── sub-0050987\r\n",
      "│   ├── anat\r\n",
      "│   │   └── sub-0050987_T1w.nii.gz\r\n",
      "│   └── func\r\n",
      "│       └── sub-0050987_task-rest_run-1_bold.nii.gz\r\n",
      "├── sub-0050988\r\n",
      "│   ├── anat\r\n",
      "│   │   └── sub-0050988_T1w.nii.gz\r\n",
      "│   └── func\r\n",
      "│       └── sub-0050988_task-rest_run-1_bold.nii.gz\r\n",
      "├── sub-0050989\r\n",
      "│   ├── anat\r\n",
      "│   │   └── sub-0050989_T1w.nii.gz\r\n",
      "│   └── func\r\n",
      "│       └── sub-0050989_task-rest_run-1_bold.nii.gz\r\n",
      "├── T1w.json\r\n",
      "└── task-rest_bold.json\r\n",
      "\r\n",
      "111 directories, 79 files\r\n"
     ]
    }
   ],
   "source": [
    "!tree /home/jovyan/work/preprocess/data/ABIDE-BIDS/NYU/"
   ]
  },
  {
   "cell_type": "code",
   "execution_count": 450,
   "metadata": {},
   "outputs": [],
   "source": [
    "layout.get_subjects(); # working!Gives us list of all the subjects"
   ]
  },
  {
   "cell_type": "code",
   "execution_count": null,
   "metadata": {},
   "outputs": [],
   "source": []
  },
  {
   "cell_type": "markdown",
   "metadata": {},
   "source": [
    "To get the metadata associated with a subject. [Takes as argumment the filename of subject ]"
   ]
  },
  {
   "cell_type": "code",
   "execution_count": 451,
   "metadata": {},
   "outputs": [],
   "source": [
    "metadata = layout.get_metadata(path='/home/jovyan/work/preprocess/data/ABIDE-BIDS/NYU/sub-0050954/func/sub-0050954_task-rest_run-1_bold.nii.gz')"
   ]
  },
  {
   "cell_type": "markdown",
   "metadata": {},
   "source": [
    "Let's extract the Repetition Time (of fMRI) of the subject whose metadata was extracted above"
   ]
  },
  {
   "cell_type": "code",
   "execution_count": 452,
   "metadata": {},
   "outputs": [],
   "source": [
    "TR  = metadata['RepetitionTime']\n",
    "metadata; # just add or remove the semicolon to supress or see the output"
   ]
  },
  {
   "cell_type": "markdown",
   "metadata": {},
   "source": [
    "Lets look at a better way to extract the TR of an experiment of fMRI.  \n",
    "In BIDS format there is one json file associated with the data set that contains the details of the data acquisition. Here we have -> ```task-rest_bold.json```. Let's extract the TR from this file.  \n",
    "Similarly there is a json file associated with the anatomical scan as well. Here - ```T1w.json```"
   ]
  },
  {
   "cell_type": "code",
   "execution_count": 453,
   "metadata": {},
   "outputs": [],
   "source": [
    "import json\n",
    "with open('../data/ABIDE-BIDS/NYU/task-rest_bold.json', 'rt') as fp:\n",
    "    task_info = json.load(fp)\n",
    "#TR = task_info['RepetitionTime']\n",
    "task_info;\n",
    "# 'rt' means that you want to open the file in read mode and text mode(not sure what text mode is) \n",
    "# Also -> with open() as ... is just a fancy way of reading file that makes sure that the file object\n",
    "# is destroyed automatically"
   ]
  },
  {
   "cell_type": "markdown",
   "metadata": {},
   "source": [
    "Now you can extract the TR"
   ]
  },
  {
   "cell_type": "code",
   "execution_count": 454,
   "metadata": {
    "collapsed": true
   },
   "outputs": [],
   "source": [
    "TR = task_info['RepetitionTime']"
   ]
  },
  {
   "cell_type": "markdown",
   "metadata": {},
   "source": [
    "Create our own custom function - BIDSDataGrabber using a Function Interface."
   ]
  },
  {
   "cell_type": "code",
   "execution_count": 455,
   "metadata": {
    "collapsed": true
   },
   "outputs": [],
   "source": [
    "def get_nifti_filenames(subject_id,data_dir):\n",
    "#     Remember that all the necesary imports need to be INSIDE the function for the Function Interface to work!\n",
    "    from bids.grabbids import BIDSLayout\n",
    "    \n",
    "    layout = BIDSLayout(data_dir)\n",
    "    \n",
    "    anat_file_path = [f.filename for f in layout.get(subject=subject_id, type='T1w', extensions=['nii', 'nii.gz'])]\n",
    "    func_file_path = [f.filename for f in layout.get(subject=subject_id, type='bold', extensions=['nii', 'nii.gz'])]\n",
    "    \n",
    "    return anat_file_path[0],func_file_path[0]\n",
    "\n",
    "# Refer to Supplementary material section One for info on arguments for layout.get()"
   ]
  },
  {
   "cell_type": "markdown",
   "metadata": {},
   "source": [
    "Wrap it inside a Node"
   ]
  },
  {
   "cell_type": "code",
   "execution_count": 456,
   "metadata": {
    "collapsed": true
   },
   "outputs": [],
   "source": [
    "from nipype.pipeline import Node, MapNode, Workflow\n",
    "from nipype.interfaces.utility import IdentityInterface, Function"
   ]
  },
  {
   "cell_type": "code",
   "execution_count": 457,
   "metadata": {
    "collapsed": true
   },
   "outputs": [],
   "source": [
    "BIDSDataGrabber = Node(Function(function=get_nifti_filenames, input_names=['subject_id','data_dir'],\n",
    "                                output_names=['anat_file_path','func_file_path']), name='BIDSDataGrabber')\n"
   ]
  },
  {
   "cell_type": "code",
   "execution_count": 458,
   "metadata": {},
   "outputs": [],
   "source": [
    "#To test the function wrapped in the node\n",
    "\n",
    "# BIDSDataGrabber.inputs.data_dir = '/home/jovyan/work/preprocess/data/ABIDE-BIDS/NYU/'\n",
    "# BIDSDataGrabber.inputs.subject_id = '0050954'\n",
    "# res = BIDSDataGrabber.run()\n",
    "\n",
    "# res.outputs"
   ]
  },
  {
   "cell_type": "markdown",
   "metadata": {},
   "source": [
    "\n",
    "### Skipping 4 starting scans\n",
    "Extract ROI for skipping first 4 scans of the functional data \n",
    "> **Arguments:**  \n",
    "t_min: (corresponds to time dimension) Denotes the starting time of the inclusion  \n",
    "t_size: Denotes the number of scans to include\n",
    "\n"
   ]
  },
  {
   "cell_type": "code",
   "execution_count": 459,
   "metadata": {
    "collapsed": true
   },
   "outputs": [],
   "source": [
    "# ExtractROI - skip dummy scans\n",
    "extract = Node(ExtractROI(t_min=4, t_size=-1),\n",
    "               output_type='NIFTI',\n",
    "               name=\"extract\")"
   ]
  },
  {
   "cell_type": "code",
   "execution_count": null,
   "metadata": {},
   "outputs": [],
   "source": []
  },
  {
   "cell_type": "markdown",
   "metadata": {},
   "source": [
    "### Slice time correction\n",
    "Created a Node that does slice time correction\n",
    "> **Arguments**:  \n",
    "index_dir=False -> Slices were taken bottom to top i.e. in ascending order  \n",
    "interleaved=True means odd slices were acquired first and then even slices [or vice versa(Not sure)] "
   ]
  },
  {
   "cell_type": "code",
   "execution_count": 460,
   "metadata": {
    "collapsed": true
   },
   "outputs": [],
   "source": [
    "slicetimer = Node(SliceTimer(index_dir=False,\n",
    "                             interleaved=True,\n",
    "                             output_type='NIFTI',\n",
    "                             time_repetition=TR),\n",
    "                  name=\"slicetimer\")"
   ]
  },
  {
   "cell_type": "code",
   "execution_count": null,
   "metadata": {
    "collapsed": true
   },
   "outputs": [],
   "source": []
  },
  {
   "cell_type": "code",
   "execution_count": 461,
   "metadata": {
    "collapsed": true
   },
   "outputs": [],
   "source": [
    "# To test Slicetimer\n",
    "# slicetimer.inputs.in_file = '/home/jovyan/work/preprocess/data/ABIDE-BIDS/NYU/sub-0050954/func/sub-0050954_task-rest_run-1_bold.nii.gz'\n",
    "# res = slicetimer.run()\n",
    "# res.outputs"
   ]
  },
  {
   "cell_type": "markdown",
   "metadata": {},
   "source": [
    "### Motion Correction\n",
    "Motion correction is done using fsl's mcflirt. It alligns all the volumes of a functional scan to each other"
   ]
  },
  {
   "cell_type": "code",
   "execution_count": 462,
   "metadata": {
    "collapsed": true
   },
   "outputs": [],
   "source": [
    "# MCFLIRT - motion correction\n",
    "mcflirt = Node(MCFLIRT(mean_vol=True,\n",
    "                       save_plots=True,\n",
    "                       output_type='NIFTI'),\n",
    "               name=\"mcflirt\")"
   ]
  },
  {
   "cell_type": "code",
   "execution_count": 463,
   "metadata": {
    "collapsed": true
   },
   "outputs": [],
   "source": [
    "# To test mcflirt\n",
    "# mcflirt.inputs.in_file = '/home/jovyan/work/preprocess/data/ABIDE-BIDS/NYU/sub-0050954/func/sub-0050954_task-rest_run-1_bold.nii.gz'\n",
    "# res_mcflirt = mcflirt.run()\n",
    "# res_mcflirt.outputs"
   ]
  },
  {
   "cell_type": "markdown",
   "metadata": {},
   "source": [
    "### Skull striping\n",
    "I used fsl's BET"
   ]
  },
  {
   "cell_type": "code",
   "execution_count": 464,
   "metadata": {
    "collapsed": true
   },
   "outputs": [],
   "source": [
    "from nipype.interfaces.fsl import BET #,ExtractROI can be imported to ignore some brain volumes"
   ]
  },
  {
   "cell_type": "code",
   "execution_count": 465,
   "metadata": {
    "collapsed": true
   },
   "outputs": [],
   "source": [
    "skullStrip = Node(BET(mask=True),name='skullStrip') "
   ]
  },
  {
   "cell_type": "markdown",
   "metadata": {},
   "source": [
    "*Note*: Do not include special characters in ```name``` field above coz then  wf.writegraph will cause issues"
   ]
  },
  {
   "cell_type": "code",
   "execution_count": 466,
   "metadata": {
    "collapsed": true
   },
   "outputs": [],
   "source": [
    "# BET.help(); # Useful to see what are the parameters taken by BET"
   ]
  },
  {
   "cell_type": "markdown",
   "metadata": {},
   "source": [
    "### Apply Mask to functional data\n",
    "Mean file of the motion corrected functional scan is sent to skullStrip to get just the brain and the mask_image. Mask_image is just a binary file (containing 1 where brain is present and 0 where it isn't).    \n",
    "After getting the mask_image form skullStrip, apply that mask to aligned functional image to extract its brain and remove the skull"
   ]
  },
  {
   "cell_type": "code",
   "execution_count": 467,
   "metadata": {},
   "outputs": [],
   "source": [
    "# Function\n",
    "def applyMask_func(brain_file, mask_file):\n",
    "    import numpy as np\n",
    "    import nibabel as nib\n",
    "    import os\n",
    "\n",
    "    # convert from unicode to string : u'/tmp/tmp8daO2Q/..' -> '/tmp/tmp8daO2Q/..' i.e. removes the prefix 'u'\n",
    "    mask_file = str(mask_file)\n",
    "\n",
    "    brain_data = nib.load(brain_file)\n",
    "    mask_data = nib.load(mask_file)\n",
    "\n",
    "    brain = brain_data.get_data()\n",
    "    mask = mask_data.get_data()\n",
    "\n",
    "    # applying mask by multiplying elementwise to the binary mask\n",
    "    for t in range(brain.shape[-1]):\n",
    "        brain[:,:,:,t] = np.multiply(brain[:,:,:,t],mask)\n",
    "\n",
    "    # Saving the brain file\n",
    "\n",
    "    func_brain_file_path = mask_file + '_func_brain.nii.gz'\n",
    "\n",
    "    brain_with_header = nib.Nifti1Image(brain, affine=brain_data.affine,header = brain_data.header)\n",
    "    nib.save(brain_with_header,func_brain_file_path)\n",
    "    \n",
    "    return func_brain_file_path\n",
    "\n"
   ]
  },
  {
   "cell_type": "markdown",
   "metadata": {},
   "source": [
    "Wrap the above function inside a Node"
   ]
  },
  {
   "cell_type": "code",
   "execution_count": 468,
   "metadata": {},
   "outputs": [],
   "source": [
    "applyMask = Node(Function(function=applyMask_func, input_names=['brain_file','mask_file'],\n",
    "                                output_names=['func_brain_file_path']), name='applyMask')"
   ]
  },
  {
   "cell_type": "markdown",
   "metadata": {},
   "source": [
    "Create an IdentityInterface node to Distribute the subjects "
   ]
  },
  {
   "cell_type": "markdown",
   "metadata": {},
   "source": [
    "Create a list of subjects"
   ]
  },
  {
   "cell_type": "code",
   "execution_count": 469,
   "metadata": {
    "collapsed": true
   },
   "outputs": [],
   "source": [
    "number_of_subjects = 1"
   ]
  },
  {
   "cell_type": "code",
   "execution_count": 470,
   "metadata": {
    "collapsed": true
   },
   "outputs": [],
   "source": [
    "subject_list = (layout.get_subjects())[0:number_of_subjects]"
   ]
  },
  {
   "cell_type": "markdown",
   "metadata": {},
   "source": [
    "Create an IdentityInterface Node that helps us to iterate over all the subjects. In this type of node the inputs = outputs that's why its called an identity node. It has an aditional feature that it can iterate over the values a single field can take. In our case we tell it to iterate over field '`subject_id`' and take values given by `subject_list`"
   ]
  },
  {
   "cell_type": "code",
   "execution_count": 471,
   "metadata": {
    "collapsed": true
   },
   "outputs": [],
   "source": [
    "from nipype import IdentityInterface\n",
    "infosource = Node(IdentityInterface(fields=['subject_id','data_dir']),\n",
    "                  name=\"infosource\")\n",
    "infosource.inputs.data_dir = '/home/jovyan/work/preprocess/data/ABIDE-BIDS/NYU/'\n",
    "infosource.iterables = [('subject_id', subject_list)]\n",
    "# Note: Field 'data_dir' stays constant while the field'subject_id' takes on various values \n",
    "#       as there are multiple subjects"
   ]
  },
  {
   "cell_type": "code",
   "execution_count": 472,
   "metadata": {},
   "outputs": [
    {
     "data": {
      "text/plain": [
       "\n",
       "data_dir = <undefined>\n",
       "subject_id = <undefined>"
      ]
     },
     "execution_count": 472,
     "metadata": {},
     "output_type": "execute_result"
    }
   ],
   "source": [
    "infosource.outputs # Checking the outputs of the above created node"
   ]
  },
  {
   "cell_type": "code",
   "execution_count": 473,
   "metadata": {},
   "outputs": [
    {
     "name": "stdout",
     "output_type": "stream",
     "text": [
      "170925-00:21:32,157 workflow INFO:\n",
      "\t Workflow preprocessPipeline settings: ['check', 'execution', 'logging']\n",
      "170925-00:21:32,174 workflow INFO:\n",
      "\t Running in parallel.\n",
      "170925-00:21:32,178 workflow INFO:\n",
      "\t Executing: BIDSDataGrabber.a0 ID: 0\n",
      "170925-00:21:32,183 workflow INFO:\n",
      "\t Executing node BIDSDataGrabber.a0 in dir: /home/jovyan/work/preprocess/result/preprocessPipeline/_subject_id_0050952/BIDSDataGrabber\n",
      "170925-00:21:32,294 workflow INFO:\n",
      "\t [Job finished] jobname: BIDSDataGrabber.a0 jobid: 0\n",
      "170925-00:21:32,298 workflow INFO:\n",
      "\t Executing: extract.a0 ID: 1\n",
      "170925-00:21:32,311 workflow INFO:\n",
      "\t Executing node extract.a0 in dir: /home/jovyan/work/preprocess/result/preprocessPipeline/_subject_id_0050952/extract\n",
      "170925-00:21:32,331 workflow INFO:\n",
      "\t Running: fslroi /home/jovyan/work/preprocess/data/ABIDE-BIDS/NYU/sub-0050952/func/sub-0050952_task-rest_run-1_bold.nii.gz /home/jovyan/work/preprocess/result/preprocessPipeline/_subject_id_0050952/extract/sub-0050952_task-rest_run-1_bold_roi.nii.gz 4 -1\n",
      "170925-00:21:40,77 workflow INFO:\n",
      "\t [Job finished] jobname: extract.a0 jobid: 1\n",
      "170925-00:21:40,80 workflow INFO:\n",
      "\t Executing: slicetimer.a0 ID: 2\n",
      "170925-00:21:40,88 workflow INFO:\n",
      "\t Executing node slicetimer.a0 in dir: /home/jovyan/work/preprocess/result/preprocessPipeline/_subject_id_0050952/slicetimer\n",
      "170925-00:21:40,102 workflow INFO:\n",
      "\t Running: slicetimer --in=/home/jovyan/work/preprocess/result/preprocessPipeline/_subject_id_0050952/extract/sub-0050952_task-rest_run-1_bold_roi.nii.gz --odd --out=/home/jovyan/work/preprocess/result/preprocessPipeline/_subject_id_0050952/slicetimer/sub-0050952_task-rest_run-1_bold_roi_st.nii --repeat=2.000000\n",
      "170925-00:21:47,407 workflow INFO:\n",
      "\t [Job finished] jobname: slicetimer.a0 jobid: 2\n",
      "170925-00:21:47,416 workflow INFO:\n",
      "\t Executing: mcflirt.a0 ID: 3\n",
      "170925-00:21:47,438 workflow INFO:\n",
      "\t Executing node mcflirt.a0 in dir: /home/jovyan/work/preprocess/result/preprocessPipeline/_subject_id_0050952/mcflirt\n",
      "170925-00:21:47,463 workflow INFO:\n",
      "\t Running: mcflirt -in /home/jovyan/work/preprocess/result/preprocessPipeline/_subject_id_0050952/slicetimer/sub-0050952_task-rest_run-1_bold_roi_st.nii -meanvol -out /home/jovyan/work/preprocess/result/preprocessPipeline/_subject_id_0050952/mcflirt/sub-0050952_task-rest_run-1_bold_roi_st_mcf.nii -plots\n",
      "170925-00:22:41,980 workflow INFO:\n",
      "\t [Job finished] jobname: mcflirt.a0 jobid: 3\n",
      "170925-00:22:41,983 workflow INFO:\n",
      "\t Executing: skullStrip.a0 ID: 4\n",
      "170925-00:22:41,989 workflow INFO:\n",
      "\t Executing node skullStrip.a0 in dir: /home/jovyan/work/preprocess/result/preprocessPipeline/_subject_id_0050952/skullStrip\n",
      "170925-00:22:42,1 workflow INFO:\n",
      "\t Running: bet /home/jovyan/work/preprocess/result/preprocessPipeline/_subject_id_0050952/mcflirt/sub-0050952_task-rest_run-1_bold_roi_st_mcf.nii_mean_reg.nii /home/jovyan/work/preprocess/result/preprocessPipeline/_subject_id_0050952/skullStrip/sub-0050952_task-rest_run-1_bold_roi_st_mcf.nii_mean_reg_brain.nii.gz -m\n",
      "170925-00:22:43,554 workflow INFO:\n",
      "\t [Job finished] jobname: skullStrip.a0 jobid: 4\n",
      "170925-00:22:43,556 workflow INFO:\n",
      "\t Executing: applyMask.a0 ID: 5\n",
      "170925-00:22:43,566 workflow INFO:\n",
      "\t Executing node applyMask.a0 in dir: /home/jovyan/work/preprocess/result/preprocessPipeline/_subject_id_0050952/applyMask\n",
      "170925-00:22:46,781 workflow INFO:\n",
      "\t [Job finished] jobname: applyMask.a0 jobid: 5\n"
     ]
    },
    {
     "data": {
      "text/plain": [
       "<networkx.classes.digraph.DiGraph at 0x7f67c008cf10>"
      ]
     },
     "execution_count": 473,
     "metadata": {},
     "output_type": "execute_result"
    }
   ],
   "source": [
    "# Create the workflow\n",
    "# Refer to Supplementary material's Section Two for more on workspaces\n",
    "\n",
    "wf = Workflow(name=\"preprocessPipeline\")\n",
    "wf.base_dir = \"/home/jovyan/work/preprocess/result\" # Dir where all the outputs will be stored(inside BETFlow folder).\n",
    "\n",
    "wf.connect([(infosource, BIDSDataGrabber, [('data_dir','data_dir'), ('subject_id', 'subject_id'),]),\n",
    "                  (BIDSDataGrabber, extract, [('func_file_path','in_file')]),\n",
    "                  (extract,slicetimer,[('roi_file','in_file')]),\n",
    "                  (slicetimer,mcflirt,[('slice_time_corrected_file','in_file')]),\n",
    "                  (mcflirt, skullStrip, [('mean_img', 'in_file')]),\n",
    "                  (mcflirt,applyMask,[('out_file','brain_file')]),\n",
    "                  (skullStrip, applyMask, [('out_file', 'mask_file')]), \n",
    "                  ])\n",
    "# Run it in parallel (one core for each smoothing kernel)\n",
    "wf.run('MultiProc', plugin_args={'n_procs': 8})"
   ]
  },
  {
   "cell_type": "markdown",
   "metadata": {},
   "source": [
    "### Summary:"
   ]
  },
  {
   "cell_type": "code",
   "execution_count": 474,
   "metadata": {},
   "outputs": [
    {
     "name": "stdout",
     "output_type": "stream",
     "text": [
      "170925-00:22:46,807 workflow INFO:\n",
      "\t Creating detailed dot file: /home/jovyan/work/preprocess/result/preprocessPipeline/graph_detailed.dot\n",
      "170925-00:22:47,438 workflow INFO:\n",
      "\t Creating dot file: /home/jovyan/work/preprocess/result/preprocessPipeline/graph.dot\n"
     ]
    },
    {
     "data": {
      "image/png": "[encoded data removed]",
      "text/plain": [
       "<IPython.core.display.Image object>"
      ]
     },
     "execution_count": 474,
     "metadata": {},
     "output_type": "execute_result"
    }
   ],
   "source": [
    "# Visualize the detailed graph\n",
    "from IPython.display import Image\n",
    "wf.write_graph(graph2use='exec', format='png', simple_form=True)\n",
    "\n",
    "Image(filename='/home/jovyan/work/preprocess/result/preprocessPipeline/graph_detailed.dot.png')"
   ]
  },
  {
   "cell_type": "markdown",
   "metadata": {
    "collapsed": true
   },
   "source": [
    "\n",
    "```\n",
    "wf.connect([(infosource, BIDSDataGrabber, [('data_dir','data_dir'), ('subject_id', 'subject_id'),]),\n",
    "                  (BIDSDataGrabber, extract, [('func_file_path','in_file')]),\n",
    "                  (extract,slicetimer,[('roi_file','in_file')]),\n",
    "                  (slicetimer,mcflirt,[('slice_time_corrected_file','in_file')]),\n",
    "                  (mcflirt, skullStrip, [('mean_img', 'in_file')]),\n",
    "                  (mcflirt,applyMask,[('out_file','brain_file')]),\n",
    "                  (skullStrip, applyMask, [('out_file', 'mask_file')]), \n",
    "                  ])\n",
    "```\n",
    "\n",
    "In the above created workflow the `infosource` node iterates over the `subject_id`, it creates a Node and for each Subject ID it sends `data_dir` (path where the data resides) and the subject specific `subject_id` to `BIDSDataGrabber` Node.\n",
    "\n",
    "`BIDSDataGrabber` Node accepts the above 2 parameters, calls the function `get_nifti_filenames(subject_id,data_dir)`which returns the path of the anatomical and BOLD files of the subject with given subject_id and hence the Node produces output that I call `func_file_path` and `anat_file_path`. I have used only `func_file_path`right now.\n",
    "\n",
    "The file path denoted by '``func_file_path``' is then fed as input to `extract` that removes 4 initial brain volumes of the functional scan.\n",
    "\n",
    "Its output is called - `slice_time_corrected_file` which is fed to `mcflirt` node to correct the movion between volumes of an individual subject. This is called **Motion Correction**.\n",
    "\n",
    "In next step the mean_image from `mcflirt` is sent to `skullStrip` to get the mask.\n",
    "\n",
    "The mask got above is then applied to the functional volume to get rif of skull.\n",
    "\n",
    "\n",
    "\n",
    "The final results are stored in the directory : `/home/jovyan/work/preprocess/result/BETFlow`. Every node has its own folder where its results are stored.\n",
    "\n",
    "\n"
   ]
  },
  {
   "cell_type": "code",
   "execution_count": null,
   "metadata": {
    "collapsed": true
   },
   "outputs": [],
   "source": []
  },
  {
   "cell_type": "code",
   "execution_count": null,
   "metadata": {
    "collapsed": true
   },
   "outputs": [],
   "source": []
  },
  {
   "cell_type": "code",
   "execution_count": null,
   "metadata": {
    "collapsed": true
   },
   "outputs": [],
   "source": []
  },
  {
   "cell_type": "code",
   "execution_count": null,
   "metadata": {
    "collapsed": true
   },
   "outputs": [],
   "source": []
  },
  {
   "cell_type": "code",
   "execution_count": null,
   "metadata": {
    "collapsed": true
   },
   "outputs": [],
   "source": []
  },
  {
   "cell_type": "code",
   "execution_count": null,
   "metadata": {
    "collapsed": true
   },
   "outputs": [],
   "source": []
  },
  {
   "cell_type": "code",
   "execution_count": null,
   "metadata": {
    "collapsed": true
   },
   "outputs": [],
   "source": []
  },
  {
   "cell_type": "code",
   "execution_count": null,
   "metadata": {
    "collapsed": true
   },
   "outputs": [],
   "source": []
  },
  {
   "cell_type": "code",
   "execution_count": null,
   "metadata": {
    "collapsed": true
   },
   "outputs": [],
   "source": []
  },
  {
   "cell_type": "code",
   "execution_count": null,
   "metadata": {
    "collapsed": true
   },
   "outputs": [],
   "source": []
  },
  {
   "cell_type": "code",
   "execution_count": null,
   "metadata": {
    "collapsed": true
   },
   "outputs": [],
   "source": []
  },
  {
   "cell_type": "markdown",
   "metadata": {},
   "source": [
    "## Utility Functions"
   ]
  },
  {
   "cell_type": "code",
   "execution_count": 475,
   "metadata": {
    "collapsed": true
   },
   "outputs": [],
   "source": [
    "# To load and save a brain image to a convenient location so that I can view it in fslview\n",
    "import nibabel as nib\n",
    "\n",
    "def load_and_save(filepath, name):\n",
    "    brain_data = nib.load(filepath)\n",
    "#     brain_tensor = brain_data.get_data()\n",
    "\n",
    "    print \"Saving the brain file with name: \", name\n",
    "    # brain_MC_with_header = nib.Nifti1Image(fullbrain_atlas, affine=bn.affine,header = bn.header)\n",
    "    nib.save(brain_data, name)"
   ]
  },
  {
   "cell_type": "code",
   "execution_count": 476,
   "metadata": {},
   "outputs": [],
   "source": [
    "# load_and_save(str(res.outputs.slice_time_corrected_file), 'slicetimecorrectedfile_50954)"
   ]
  },
  {
   "cell_type": "code",
   "execution_count": 477,
   "metadata": {},
   "outputs": [],
   "source": [
    "# MCFLIRT.help()"
   ]
  },
  {
   "cell_type": "markdown",
   "metadata": {},
   "source": [
    "# Supplementary Material"
   ]
  },
  {
   "cell_type": "markdown",
   "metadata": {},
   "source": [
    "# One\n",
    "\n",
    ">### Arguments for  extracting relevent files\n",
    "Anatomical files:  \n",
    "filename='..._T1w.nii.gz', type='T1w', modality='anat', subject='0050952'\n",
    "\n",
    ">Functional files:  \n",
    "filename='..._bold.nii.gz',type='bold', task='rest', run='1', modality='func', subject='0050952'"
   ]
  },
  {
   "cell_type": "code",
   "execution_count": 478,
   "metadata": {},
   "outputs": [
    {
     "data": {
      "text/plain": [
       "[File(filename='/home/jovyan/work/preprocess/data/ABIDE-BIDS/NYU/sub-0050952/anat/sub-0050952_T1w.nii.gz', type='T1w', modality='anat', subject='0050952'),\n",
       " File(filename='/home/jovyan/work/preprocess/data/ABIDE-BIDS/NYU/sub-0050952/func/sub-0050952_task-rest_run-1_bold.nii.gz', type='bold', task='rest', run='1', modality='func', subject='0050952'),\n",
       " File(filename='/home/jovyan/work/preprocess/data/ABIDE-BIDS/NYU/sub-0050953/anat/sub-0050953_T1w.nii.gz', type='T1w', modality='anat', subject='0050953'),\n",
       " File(filename='/home/jovyan/work/preprocess/data/ABIDE-BIDS/NYU/sub-0050953/func/sub-0050953_task-rest_run-1_bold.nii.gz', type='bold', task='rest', run='1', modality='func', subject='0050953'),\n",
       " File(filename='/home/jovyan/work/preprocess/data/ABIDE-BIDS/NYU/sub-0050954/anat/mask_50954.nii.gz', modality='anat', subject='0050954'),\n",
       " File(filename='/home/jovyan/work/preprocess/data/ABIDE-BIDS/NYU/sub-0050954/anat/mask_50954_mask.nii.gz', modality='anat', subject='0050954'),\n",
       " File(filename='/home/jovyan/work/preprocess/data/ABIDE-BIDS/NYU/sub-0050954/anat/sub-0050954_T1w.nii.gz', type='T1w', modality='anat', subject='0050954'),\n",
       " File(filename='/home/jovyan/work/preprocess/data/ABIDE-BIDS/NYU/sub-0050954/func/sub-0050954_task-rest_run-1_bold.nii.gz', type='bold', task='rest', run='1', modality='func', subject='0050954'),\n",
       " File(filename='/home/jovyan/work/preprocess/data/ABIDE-BIDS/NYU/sub-0050955/anat/sub-0050955_T1w.nii.gz', type='T1w', modality='anat', subject='0050955'),\n",
       " File(filename='/home/jovyan/work/preprocess/data/ABIDE-BIDS/NYU/sub-0050955/func/sub-0050955_task-rest_run-1_bold.nii.gz', type='bold', task='rest', run='1', modality='func', subject='0050955'),\n",
       " File(filename='/home/jovyan/work/preprocess/data/ABIDE-BIDS/NYU/sub-0050956/anat/sub-0050956_T1w.nii.gz', type='T1w', modality='anat', subject='0050956'),\n",
       " File(filename='/home/jovyan/work/preprocess/data/ABIDE-BIDS/NYU/sub-0050956/func/sub-0050956_task-rest_run-1_bold.nii.gz', type='bold', task='rest', run='1', modality='func', subject='0050956'),\n",
       " File(filename='/home/jovyan/work/preprocess/data/ABIDE-BIDS/NYU/sub-0050957/anat/sub-0050957_T1w.nii.gz', type='T1w', modality='anat', subject='0050957'),\n",
       " File(filename='/home/jovyan/work/preprocess/data/ABIDE-BIDS/NYU/sub-0050957/func/sub-0050957_task-rest_run-1_bold.nii.gz', type='bold', task='rest', run='1', modality='func', subject='0050957'),\n",
       " File(filename='/home/jovyan/work/preprocess/data/ABIDE-BIDS/NYU/sub-0050958/anat/sub-0050958_T1w.nii.gz', type='T1w', modality='anat', subject='0050958'),\n",
       " File(filename='/home/jovyan/work/preprocess/data/ABIDE-BIDS/NYU/sub-0050958/func/sub-0050958_task-rest_run-1_bold.nii.gz', type='bold', task='rest', run='1', modality='func', subject='0050958'),\n",
       " File(filename='/home/jovyan/work/preprocess/data/ABIDE-BIDS/NYU/sub-0050959/anat/sub-0050959_T1w.nii.gz', type='T1w', modality='anat', subject='0050959'),\n",
       " File(filename='/home/jovyan/work/preprocess/data/ABIDE-BIDS/NYU/sub-0050959/func/sub-0050959_task-rest_run-1_bold.nii.gz', type='bold', task='rest', run='1', modality='func', subject='0050959'),\n",
       " File(filename='/home/jovyan/work/preprocess/data/ABIDE-BIDS/NYU/sub-0050960/anat/sub-0050960_T1w.nii.gz', type='T1w', modality='anat', subject='0050960'),\n",
       " File(filename='/home/jovyan/work/preprocess/data/ABIDE-BIDS/NYU/sub-0050960/func/sub-0050960_task-rest_run-1_bold.nii.gz', type='bold', task='rest', run='1', modality='func', subject='0050960'),\n",
       " File(filename='/home/jovyan/work/preprocess/data/ABIDE-BIDS/NYU/sub-0050961/anat/sub-0050961_T1w.nii.gz', type='T1w', modality='anat', subject='0050961'),\n",
       " File(filename='/home/jovyan/work/preprocess/data/ABIDE-BIDS/NYU/sub-0050961/func/sub-0050961_task-rest_run-1_bold.nii.gz', type='bold', task='rest', run='1', modality='func', subject='0050961'),\n",
       " File(filename='/home/jovyan/work/preprocess/data/ABIDE-BIDS/NYU/sub-0050962/anat/sub-0050962_T1w.nii.gz', type='T1w', modality='anat', subject='0050962'),\n",
       " File(filename='/home/jovyan/work/preprocess/data/ABIDE-BIDS/NYU/sub-0050962/func/sub-0050962_task-rest_run-1_bold.nii.gz', type='bold', task='rest', run='1', modality='func', subject='0050962'),\n",
       " File(filename='/home/jovyan/work/preprocess/data/ABIDE-BIDS/NYU/sub-0050964/anat/sub-0050964_T1w.nii.gz', type='T1w', modality='anat', subject='0050964'),\n",
       " File(filename='/home/jovyan/work/preprocess/data/ABIDE-BIDS/NYU/sub-0050964/func/sub-0050964_task-rest_run-1_bold.nii.gz', type='bold', task='rest', run='1', modality='func', subject='0050964'),\n",
       " File(filename='/home/jovyan/work/preprocess/data/ABIDE-BIDS/NYU/sub-0050965/anat/sub-0050965_T1w.nii.gz', type='T1w', modality='anat', subject='0050965'),\n",
       " File(filename='/home/jovyan/work/preprocess/data/ABIDE-BIDS/NYU/sub-0050965/func/sub-0050965_task-rest_run-1_bold.nii.gz', type='bold', task='rest', run='1', modality='func', subject='0050965'),\n",
       " File(filename='/home/jovyan/work/preprocess/data/ABIDE-BIDS/NYU/sub-0050966/anat/sub-0050966_T1w.nii.gz', type='T1w', modality='anat', subject='0050966'),\n",
       " File(filename='/home/jovyan/work/preprocess/data/ABIDE-BIDS/NYU/sub-0050966/func/sub-0050966_task-rest_run-1_bold.nii.gz', type='bold', task='rest', run='1', modality='func', subject='0050966'),\n",
       " File(filename='/home/jovyan/work/preprocess/data/ABIDE-BIDS/NYU/sub-0050967/anat/sub-0050967_T1w.nii.gz', type='T1w', modality='anat', subject='0050967'),\n",
       " File(filename='/home/jovyan/work/preprocess/data/ABIDE-BIDS/NYU/sub-0050967/func/sub-0050967_task-rest_run-1_bold.nii.gz', type='bold', task='rest', run='1', modality='func', subject='0050967'),\n",
       " File(filename='/home/jovyan/work/preprocess/data/ABIDE-BIDS/NYU/sub-0050968/anat/sub-0050968_T1w.nii.gz', type='T1w', modality='anat', subject='0050968'),\n",
       " File(filename='/home/jovyan/work/preprocess/data/ABIDE-BIDS/NYU/sub-0050968/func/sub-0050968_task-rest_run-1_bold.nii.gz', type='bold', task='rest', run='1', modality='func', subject='0050968'),\n",
       " File(filename='/home/jovyan/work/preprocess/data/ABIDE-BIDS/NYU/sub-0050969/anat/sub-0050969_T1w.nii.gz', type='T1w', modality='anat', subject='0050969'),\n",
       " File(filename='/home/jovyan/work/preprocess/data/ABIDE-BIDS/NYU/sub-0050969/func/sub-0050969_task-rest_run-1_bold.nii.gz', type='bold', task='rest', run='1', modality='func', subject='0050969'),\n",
       " File(filename='/home/jovyan/work/preprocess/data/ABIDE-BIDS/NYU/sub-0050970/anat/sub-0050970_T1w.nii.gz', type='T1w', modality='anat', subject='0050970'),\n",
       " File(filename='/home/jovyan/work/preprocess/data/ABIDE-BIDS/NYU/sub-0050970/func/sub-0050970_task-rest_run-1_bold.nii.gz', type='bold', task='rest', run='1', modality='func', subject='0050970'),\n",
       " File(filename='/home/jovyan/work/preprocess/data/ABIDE-BIDS/NYU/sub-0050971/anat/sub-0050971_T1w.nii.gz', type='T1w', modality='anat', subject='0050971'),\n",
       " File(filename='/home/jovyan/work/preprocess/data/ABIDE-BIDS/NYU/sub-0050971/func/sub-0050971_task-rest_run-1_bold.nii.gz', type='bold', task='rest', run='1', modality='func', subject='0050971'),\n",
       " File(filename='/home/jovyan/work/preprocess/data/ABIDE-BIDS/NYU/sub-0050972/anat/sub-0050972_T1w.nii.gz', type='T1w', modality='anat', subject='0050972'),\n",
       " File(filename='/home/jovyan/work/preprocess/data/ABIDE-BIDS/NYU/sub-0050972/func/sub-0050972_task-rest_run-1_bold.nii.gz', type='bold', task='rest', run='1', modality='func', subject='0050972'),\n",
       " File(filename='/home/jovyan/work/preprocess/data/ABIDE-BIDS/NYU/sub-0050973/anat/sub-0050973_T1w.nii.gz', type='T1w', modality='anat', subject='0050973'),\n",
       " File(filename='/home/jovyan/work/preprocess/data/ABIDE-BIDS/NYU/sub-0050973/func/sub-0050973_task-rest_run-1_bold.nii.gz', type='bold', task='rest', run='1', modality='func', subject='0050973'),\n",
       " File(filename='/home/jovyan/work/preprocess/data/ABIDE-BIDS/NYU/sub-0050974/anat/sub-0050974_T1w.nii.gz', type='T1w', modality='anat', subject='0050974'),\n",
       " File(filename='/home/jovyan/work/preprocess/data/ABIDE-BIDS/NYU/sub-0050974/func/sub-0050974_task-rest_run-1_bold.nii.gz', type='bold', task='rest', run='1', modality='func', subject='0050974'),\n",
       " File(filename='/home/jovyan/work/preprocess/data/ABIDE-BIDS/NYU/sub-0050975/anat/sub-0050975_T1w.nii.gz', type='T1w', modality='anat', subject='0050975'),\n",
       " File(filename='/home/jovyan/work/preprocess/data/ABIDE-BIDS/NYU/sub-0050975/func/sub-0050975_task-rest_run-1_bold.nii.gz', type='bold', task='rest', run='1', modality='func', subject='0050975'),\n",
       " File(filename='/home/jovyan/work/preprocess/data/ABIDE-BIDS/NYU/sub-0050976/anat/sub-0050976_T1w.nii.gz', type='T1w', modality='anat', subject='0050976'),\n",
       " File(filename='/home/jovyan/work/preprocess/data/ABIDE-BIDS/NYU/sub-0050976/func/sub-0050976_task-rest_run-1_bold.nii.gz', type='bold', task='rest', run='1', modality='func', subject='0050976'),\n",
       " File(filename='/home/jovyan/work/preprocess/data/ABIDE-BIDS/NYU/sub-0050977/anat/sub-0050977_T1w.nii.gz', type='T1w', modality='anat', subject='0050977'),\n",
       " File(filename='/home/jovyan/work/preprocess/data/ABIDE-BIDS/NYU/sub-0050977/func/sub-0050977_task-rest_run-1_bold.nii.gz', type='bold', task='rest', run='1', modality='func', subject='0050977'),\n",
       " File(filename='/home/jovyan/work/preprocess/data/ABIDE-BIDS/NYU/sub-0050978/anat/sub-0050978_T1w.nii.gz', type='T1w', modality='anat', subject='0050978'),\n",
       " File(filename='/home/jovyan/work/preprocess/data/ABIDE-BIDS/NYU/sub-0050978/func/sub-0050978_task-rest_run-1_bold.nii.gz', type='bold', task='rest', run='1', modality='func', subject='0050978'),\n",
       " File(filename='/home/jovyan/work/preprocess/data/ABIDE-BIDS/NYU/sub-0050979/anat/sub-0050979_T1w.nii.gz', type='T1w', modality='anat', subject='0050979'),\n",
       " File(filename='/home/jovyan/work/preprocess/data/ABIDE-BIDS/NYU/sub-0050979/func/sub-0050979_task-rest_run-1_bold.nii.gz', type='bold', task='rest', run='1', modality='func', subject='0050979'),\n",
       " File(filename='/home/jovyan/work/preprocess/data/ABIDE-BIDS/NYU/sub-0050980/anat/sub-0050980_T1w.nii.gz', type='T1w', modality='anat', subject='0050980'),\n",
       " File(filename='/home/jovyan/work/preprocess/data/ABIDE-BIDS/NYU/sub-0050980/func/sub-0050980_task-rest_run-1_bold.nii.gz', type='bold', task='rest', run='1', modality='func', subject='0050980'),\n",
       " File(filename='/home/jovyan/work/preprocess/data/ABIDE-BIDS/NYU/sub-0050981/anat/sub-0050981_T1w.nii.gz', type='T1w', modality='anat', subject='0050981'),\n",
       " File(filename='/home/jovyan/work/preprocess/data/ABIDE-BIDS/NYU/sub-0050981/func/sub-0050981_task-rest_run-1_bold.nii.gz', type='bold', task='rest', run='1', modality='func', subject='0050981'),\n",
       " File(filename='/home/jovyan/work/preprocess/data/ABIDE-BIDS/NYU/sub-0050982/anat/sub-0050982_T1w.nii.gz', type='T1w', modality='anat', subject='0050982'),\n",
       " File(filename='/home/jovyan/work/preprocess/data/ABIDE-BIDS/NYU/sub-0050982/func/sub-0050982_task-rest_run-1_bold.nii.gz', type='bold', task='rest', run='1', modality='func', subject='0050982'),\n",
       " File(filename='/home/jovyan/work/preprocess/data/ABIDE-BIDS/NYU/sub-0050983/anat/sub-0050983_T1w.nii.gz', type='T1w', modality='anat', subject='0050983'),\n",
       " File(filename='/home/jovyan/work/preprocess/data/ABIDE-BIDS/NYU/sub-0050983/func/sub-0050983_task-rest_run-1_bold.nii.gz', type='bold', task='rest', run='1', modality='func', subject='0050983'),\n",
       " File(filename='/home/jovyan/work/preprocess/data/ABIDE-BIDS/NYU/sub-0050984/anat/sub-0050984_T1w.nii.gz', type='T1w', modality='anat', subject='0050984'),\n",
       " File(filename='/home/jovyan/work/preprocess/data/ABIDE-BIDS/NYU/sub-0050984/func/sub-0050984_task-rest_run-1_bold.nii.gz', type='bold', task='rest', run='1', modality='func', subject='0050984'),\n",
       " File(filename='/home/jovyan/work/preprocess/data/ABIDE-BIDS/NYU/sub-0050985/anat/sub-0050985_T1w.nii.gz', type='T1w', modality='anat', subject='0050985'),\n",
       " File(filename='/home/jovyan/work/preprocess/data/ABIDE-BIDS/NYU/sub-0050985/func/sub-0050985_task-rest_run-1_bold.nii.gz', type='bold', task='rest', run='1', modality='func', subject='0050985'),\n",
       " File(filename='/home/jovyan/work/preprocess/data/ABIDE-BIDS/NYU/sub-0050986/anat/sub-0050986_T1w.nii.gz', type='T1w', modality='anat', subject='0050986'),\n",
       " File(filename='/home/jovyan/work/preprocess/data/ABIDE-BIDS/NYU/sub-0050986/func/sub-0050986_task-rest_run-1_bold.nii.gz', type='bold', task='rest', run='1', modality='func', subject='0050986'),\n",
       " File(filename='/home/jovyan/work/preprocess/data/ABIDE-BIDS/NYU/sub-0050987/anat/sub-0050987_T1w.nii.gz', type='T1w', modality='anat', subject='0050987'),\n",
       " File(filename='/home/jovyan/work/preprocess/data/ABIDE-BIDS/NYU/sub-0050987/func/sub-0050987_task-rest_run-1_bold.nii.gz', type='bold', task='rest', run='1', modality='func', subject='0050987'),\n",
       " File(filename='/home/jovyan/work/preprocess/data/ABIDE-BIDS/NYU/sub-0050988/anat/sub-0050988_T1w.nii.gz', type='T1w', modality='anat', subject='0050988'),\n",
       " File(filename='/home/jovyan/work/preprocess/data/ABIDE-BIDS/NYU/sub-0050988/func/sub-0050988_task-rest_run-1_bold.nii.gz', type='bold', task='rest', run='1', modality='func', subject='0050988'),\n",
       " File(filename='/home/jovyan/work/preprocess/data/ABIDE-BIDS/NYU/sub-0050989/anat/sub-0050989_T1w.nii.gz', type='T1w', modality='anat', subject='0050989'),\n",
       " File(filename='/home/jovyan/work/preprocess/data/ABIDE-BIDS/NYU/sub-0050989/func/sub-0050989_task-rest_run-1_bold.nii.gz', type='bold', task='rest', run='1', modality='func', subject='0050989'),\n",
       " File(filename='/home/jovyan/work/preprocess/data/ABIDE-BIDS/NYU/task-rest_bold.json', task='rest')]"
      ]
     },
     "execution_count": 478,
     "metadata": {},
     "output_type": "execute_result"
    }
   ],
   "source": [
    "# By typing \n",
    "layout.get()\n",
    "# I get all the filenames with their parameters that I can use to extract the relevent files.\n"
   ]
  },
  {
   "cell_type": "markdown",
   "metadata": {},
   "source": [
    "# Two\n",
    ">## Constructing a workflow  \n",
    "To make a workflow you need the input and output names of the Nodes.  \n",
    "- > **Example workflow**:  \n",
    "```wf.connect([(<Source_Node>, <Destination_Node>, [('<output_from_source_node>','<input_to_destination_node>')])```\n",
    "- To get the name of input for a Node type ```<Node_Name>.inputs```  \n",
    "- To get the name of output of a Node write ```<Node_Name>.outputs```"
   ]
  },
  {
   "cell_type": "code",
   "execution_count": 479,
   "metadata": {},
   "outputs": [
    {
     "data": {
      "text/plain": [
       "\n",
       "args = <undefined>\n",
       "crop_list = <undefined>\n",
       "environ = {u'FSLOUTPUTTYPE': 'NIFTI_GZ'}\n",
       "ignore_exception = False\n",
       "in_file = <undefined>\n",
       "output_type = NIFTI_GZ\n",
       "roi_file = <undefined>\n",
       "t_min = 4\n",
       "t_size = -1\n",
       "terminal_output = stream\n",
       "x_min = <undefined>\n",
       "x_size = <undefined>\n",
       "y_min = <undefined>\n",
       "y_size = <undefined>\n",
       "z_min = <undefined>\n",
       "z_size = <undefined>"
      ]
     },
     "execution_count": 479,
     "metadata": {},
     "output_type": "execute_result"
    }
   ],
   "source": [
    "# for example, to get the the input info of ExtractROI Node type:\n",
    "extract.inputs"
   ]
  },
  {
   "cell_type": "code",
   "execution_count": 480,
   "metadata": {},
   "outputs": [
    {
     "data": {
      "text/plain": [
       "\n",
       "roi_file = <undefined>"
      ]
     },
     "execution_count": 480,
     "metadata": {},
     "output_type": "execute_result"
    }
   ],
   "source": [
    "# to get the the input info of ExtractROI Node type:\n",
    "extract.outputs"
   ]
  },
  {
   "cell_type": "code",
   "execution_count": null,
   "metadata": {
    "collapsed": true
   },
   "outputs": [],
   "source": []
  },
  {
   "cell_type": "code",
   "execution_count": null,
   "metadata": {
    "collapsed": true
   },
   "outputs": [],
   "source": []
  },
  {
   "cell_type": "code",
   "execution_count": null,
   "metadata": {
    "collapsed": true
   },
   "outputs": [],
   "source": []
  },
  {
   "cell_type": "code",
   "execution_count": null,
   "metadata": {
    "collapsed": true
   },
   "outputs": [],
   "source": []
  },
  {
   "cell_type": "code",
   "execution_count": null,
   "metadata": {
    "collapsed": true
   },
   "outputs": [],
   "source": []
  },
  {
   "cell_type": "code",
   "execution_count": null,
   "metadata": {
    "collapsed": true
   },
   "outputs": [],
   "source": []
  },
  {
   "cell_type": "code",
   "execution_count": null,
   "metadata": {
    "collapsed": true
   },
   "outputs": [],
   "source": []
  },
  {
   "cell_type": "code",
   "execution_count": null,
   "metadata": {
    "collapsed": true
   },
   "outputs": [],
   "source": []
  },
  {
   "cell_type": "code",
   "execution_count": null,
   "metadata": {
    "collapsed": true
   },
   "outputs": [],
   "source": []
  },
  {
   "cell_type": "code",
   "execution_count": null,
   "metadata": {
    "collapsed": true
   },
   "outputs": [],
   "source": []
  },
  {
   "cell_type": "markdown",
   "metadata": {},
   "source": [
    "# Dump"
   ]
  },
  {
   "cell_type": "code",
   "execution_count": 481,
   "metadata": {
    "collapsed": true
   },
   "outputs": [],
   "source": [
    "\n",
    "\n",
    "# #Lets move ahead with creating more Nodes for preprocessing.  \n",
    "\n",
    "# #Extract ROI for skipping first 4 scans of the functional data \n",
    "\n",
    "# # ExtractROI - skip dummy scans\n",
    "# extract = Node(ExtractROI(t_min=4, t_size=-1),\n",
    "#                output_type='NIFTI',\n",
    "#                name=\"extract\")\n",
    "\n",
    "# #Do motion correction. So as to ensure that for a subject each brain volume is 'insync' with the other volume.\n",
    "\n",
    "# # MCFLIRT - motion correction\n",
    "# mcflirt = Node(MCFLIRT(mean_vol=True,\n",
    "#                        save_plots=True,\n",
    "#                        output_type='NIFTI'),\n",
    "#                name=\"mcflirt\")\n",
    "\n",
    "# # To test mcflirt\n",
    "# mcflirt.inputs.in_file = '/home/jovyan/work/preprocess/data/ABIDE-BIDS/NYU/sub-0050954/func/sub-0050954_task-rest_run-1_bold.nii.gz'\n",
    "# res_mcflirt = mcflirt.run()\n",
    "# res_mcflirt.outputs\n",
    "\n",
    "# ### To Visulize the output of mcflirt\n",
    "# 1. Displayed in notebook only one volume using nilearn\n",
    "# 2. Plotted histogram of original and corrected files\n",
    "# 3. Saved copies of original and corrected files using nibabel to see in fslview\n",
    "\n",
    "# from nilearn import image\n",
    "\n",
    "# brain = image.load_img('/home/jovyan/work/preprocess/data/ABIDE-BIDS/NYU/sub-0050954/func/sub-0050954_task-rest_run-1_bold.nii.gz')\n",
    "# brain_MC = image.load_img('/tmp/tmpZG2rZL/mcflirt/sub-0050954_task-rest_run-1_bold_mcf.nii')\n",
    "\n",
    "\n",
    "# tenth_brain = image.index_img(brain, 30)\n",
    "# tenth_brain_MC = image.index_img(brain_MC, 30)\n",
    "\n",
    "\n",
    "# %pylab inline\n",
    "# from nilearn.plotting import plot_anat\n",
    "# plot_anat(tenth_brain, title='Original',\n",
    "#           display_mode='ortho', dim=-1, draw_cross=False, annotate=False)\n",
    "\n",
    "\n",
    "# from nilearn.plotting import plot_anat\n",
    "# plot_anat(tenth_brain_MC, title='Motion Corrected',\n",
    "#           display_mode='ortho', dim=-1, draw_cross=False, annotate=False)\n",
    "\n",
    "# #The output as well as input looked washed out. So checked the intensity values of the brain\n",
    "\n",
    "# import numpy as np\n",
    "# import nibabel as nib\n",
    "\n",
    "# brain_original = nib.load('/home/jovyan/work/preprocess/data/ABIDE-BIDS/NYU/sub-0050954/func/sub-0050954_task-rest_run-1_bold.nii.gz')\n",
    "# brain_MC = nib.load('/tmp/tmpZG2rZL/mcflirt/sub-0050954_task-rest_run-1_bold_mcf.nii')\n",
    "\n",
    "# # checked max and min values of original brain\n",
    "# np.max(brain_original.get_data()),np.min(brain_original.get_data())\n",
    "\n",
    "# # checked max and min values of corrected brain\n",
    "# np.max(brain_MC.get_data()),np.min(brain_MC.get_data())\n",
    "\n",
    "# # checked how many unique floor(values) does the brain has\n",
    "# (np.unique(np.floor(brain_MC.get_data())))\n",
    "\n",
    "# # Plotted the histogram\n",
    "\n",
    "# import matplotlib.pyplot as plt\n",
    "# brain_original_flattened = (brain_original.get_data()).flatten()\n",
    "# brain_MC_flattened = (brain_MC.get_data()).flatten()\n",
    "\n",
    "# plt.hist(brain_flattened)\n",
    "\n",
    "\n",
    "\n",
    "# plt.hist(brain_MC_flattened)\n",
    "\n",
    "# # Save the motion corrected brain to analyze if it is correct\n",
    "\n",
    "# print \"Saving the Motion corrected brain \"\n",
    "# # brain_MC_with_header = nib.Nifti1Image(fullbrain_atlas, affine=bn.affine,header = bn.header)\n",
    "# nib.save(brain_MC, 'motion_corrected_50594')\n",
    "\n",
    "\n",
    "# # After seeing it in fslview, I conclude that the overall conrast has been reduced and brain image has become dull as seen in the histogram. I don't know if this is correct or not but this is th output that I got by applying MCFLIRT on the given fmri data for subject 50594\n",
    "\n",
    "# # Do slice time correction  \n",
    "# # > **Arguments**:  \n",
    "# # index_dir=False -> Slices were taken bottom to top i.e. in ascending order  \n",
    "# # interleaved=True means odd slices were acquired first and then even slices [or vice versa(Not sure)] \n",
    "\n",
    "# # slicetimer = Node(SliceTimer(index_dir=False,\n",
    "# #                              interleaved=True,\n",
    "# #                              output_type='NIFTI',\n",
    "# #                              time_repetition=TR),\n",
    "# #                   name=\"slicetimer\")\n",
    "\n",
    "# # slicetimer.inputs.in_file = '/home/jovyan/work/preprocess/data/ABIDE-BIDS/NYU/sub-0050954/func/sub-0050954_task-rest_run-1_bold.nii.gz'\n",
    "# # res = slicetimer.run();"
   ]
  },
  {
   "cell_type": "code",
   "execution_count": 482,
   "metadata": {},
   "outputs": [],
   "source": [
    "# mcflirt.outputs\n",
    "\n",
    "# skullStrip.inputs\n",
    "\n",
    "# skullStrip.outputs"
   ]
  },
  {
   "cell_type": "code",
   "execution_count": 483,
   "metadata": {
    "collapsed": true
   },
   "outputs": [],
   "source": [
    "# # Testing applying mask on functional data \n",
    "\n",
    "# # def applyMask_func(brain_file, mask_file):\n",
    "# import numpy as np\n",
    "# import nibabel as nib\n",
    "# import os\n",
    "\n",
    "# brain_file = '/home/jovyan/work/preprocess/data/ABIDE-BIDS/NYU/sub-0050954/func/sub-0050954_task-rest_run-1_bold.nii.gz'\n",
    "# mean_file = '/tmp/tmpVHzuw1/mcflirt/sub-0050954_task-rest_run-1_bold_mcf.nii_mean_reg.nii'\n",
    "\n",
    "# skullStrip.inputs.in_file = mean_file\n",
    "# res = skullStrip.run()\n",
    "\n",
    "# mask_file = str(res.outputs.mask_file)\n",
    "\n",
    "# brain_data = nib.load(brain_file)\n",
    "# mask_data = nib.load(mask_file)\n",
    "\n",
    "# brain = brain_data.get_data()\n",
    "# mask = mask_data.get_data()\n",
    "\n",
    "# for t in range(brain.shape[-1]):\n",
    "#     brain[:,:,:,t] = np.multiply(brain[:,:,:,t],mask)\n",
    "\n",
    "# # Saving the brain file\n",
    "\n",
    "# func_brain_path = mask_file + '_func_brain.nii.gz'\n",
    "\n",
    "# brain_with_header = nib.Nifti1Image(brain, affine=brain_data.affine,header = brain_data.header)\n",
    "# nib.save(brain_with_header,func_brain_path)\n",
    "\n",
    "# # save at the local PWD to see using fsl\n",
    "# load_and_save(func_brain_path,'skul_stripped_50954')\n"
   ]
  },
  {
   "cell_type": "code",
   "execution_count": 484,
   "metadata": {},
   "outputs": [],
   "source": [
    "# str(res.outputs.slice_time_corrected_file)"
   ]
  },
  {
   "cell_type": "code",
   "execution_count": null,
   "metadata": {
    "collapsed": true
   },
   "outputs": [],
   "source": []
  }
 ],
 "metadata": {
  "kernelspec": {
   "display_name": "Python [conda env:python2]",
   "language": "python",
   "name": "conda-env-python2-py"
  },
  "language_info": {
   "codemirror_mode": {
    "name": "ipython",
    "version": 2
   },
   "file_extension": ".py",
   "mimetype": "text/x-python",
   "name": "python",
   "nbconvert_exporter": "python",
   "pygments_lexer": "ipython2",
   "version": "2.7.13"
  }
 },
 "nbformat": 4,
 "nbformat_minor": 2
}
