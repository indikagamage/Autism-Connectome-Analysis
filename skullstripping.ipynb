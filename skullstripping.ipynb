{
 "cells": [
  {
   "cell_type": "markdown",
   "metadata": {},
   "source": [
    "### Skull Stripping\n",
    "1. Create a BIDSDataGrabber Node\n",
    "2. Create a Skull Stripping Node\n",
    "3. Embed them into a workflow\n",
    "4. Do the Scull Stripping of 3 subjects"
   ]
  },
  {
   "cell_type": "code",
   "execution_count": 140,
   "metadata": {
    "collapsed": true
   },
   "outputs": [],
   "source": [
    "from bids.grabbids import BIDSLayout\n"
   ]
  },
  {
   "cell_type": "code",
   "execution_count": 141,
   "metadata": {
    "collapsed": true
   },
   "outputs": [],
   "source": [
    "number_of_subjects = 3 # Number of subjects you wish to preprocess"
   ]
  },
  {
   "cell_type": "code",
   "execution_count": 142,
   "metadata": {
    "collapsed": true
   },
   "outputs": [],
   "source": [
    "layout = BIDSLayout(\"/home/jovyan/work/preprocess/data/ABIDE-BIDS/NYU/\")"
   ]
  },
  {
   "cell_type": "markdown",
   "metadata": {},
   "source": [
    "Checking the Data directory Structure"
   ]
  },
  {
   "cell_type": "code",
   "execution_count": 143,
   "metadata": {},
   "outputs": [
    {
     "name": "stdout",
     "output_type": "stream",
     "text": [
      "/home/jovyan/work/preprocess/data/ABIDE-BIDS/NYU/\r\n",
      "├── participants.tsv\r\n",
      "├── sub-0050952\r\n",
      "│   ├── anat\r\n",
      "│   │   └── sub-0050952_T1w.nii.gz\r\n",
      "│   └── func\r\n",
      "│       └── sub-0050952_task-rest_run-1_bold.nii.gz\r\n",
      "├── sub-0050953\r\n",
      "│   ├── anat\r\n",
      "│   │   └── sub-0050953_T1w.nii.gz\r\n",
      "│   └── func\r\n",
      "│       └── sub-0050953_task-rest_run-1_bold.nii.gz\r\n",
      "├── sub-0050954\r\n",
      "│   ├── anat\r\n",
      "│   │   └── sub-0050954_T1w.nii.gz\r\n",
      "│   └── func\r\n",
      "│       └── sub-0050954_task-rest_run-1_bold.nii.gz\r\n",
      "├── sub-0050955\r\n",
      "│   ├── anat\r\n",
      "│   │   └── sub-0050955_T1w.nii.gz\r\n",
      "│   └── func\r\n",
      "│       └── sub-0050955_task-rest_run-1_bold.nii.gz\r\n",
      "├── sub-0050956\r\n",
      "│   ├── anat\r\n",
      "│   │   └── sub-0050956_T1w.nii.gz\r\n",
      "│   └── func\r\n",
      "│       └── sub-0050956_task-rest_run-1_bold.nii.gz\r\n",
      "├── sub-0050957\r\n",
      "│   ├── anat\r\n",
      "│   │   └── sub-0050957_T1w.nii.gz\r\n",
      "│   └── func\r\n",
      "│       └── sub-0050957_task-rest_run-1_bold.nii.gz\r\n",
      "├── sub-0050958\r\n",
      "│   ├── anat\r\n",
      "│   │   └── sub-0050958_T1w.nii.gz\r\n",
      "│   └── func\r\n",
      "│       └── sub-0050958_task-rest_run-1_bold.nii.gz\r\n",
      "├── sub-0050959\r\n",
      "│   ├── anat\r\n",
      "│   │   └── sub-0050959_T1w.nii.gz\r\n",
      "│   └── func\r\n",
      "│       └── sub-0050959_task-rest_run-1_bold.nii.gz\r\n",
      "├── sub-0050960\r\n",
      "│   ├── anat\r\n",
      "│   │   └── sub-0050960_T1w.nii.gz\r\n",
      "│   └── func\r\n",
      "│       └── sub-0050960_task-rest_run-1_bold.nii.gz\r\n",
      "├── sub-0050961\r\n",
      "│   ├── anat\r\n",
      "│   │   └── sub-0050961_T1w.nii.gz\r\n",
      "│   └── func\r\n",
      "│       └── sub-0050961_task-rest_run-1_bold.nii.gz\r\n",
      "├── sub-0050962\r\n",
      "│   ├── anat\r\n",
      "│   │   └── sub-0050962_T1w.nii.gz\r\n",
      "│   └── func\r\n",
      "│       └── sub-0050962_task-rest_run-1_bold.nii.gz\r\n",
      "├── sub-0050964\r\n",
      "│   ├── anat\r\n",
      "│   │   └── sub-0050964_T1w.nii.gz\r\n",
      "│   └── func\r\n",
      "│       └── sub-0050964_task-rest_run-1_bold.nii.gz\r\n",
      "├── sub-0050965\r\n",
      "│   ├── anat\r\n",
      "│   │   └── sub-0050965_T1w.nii.gz\r\n",
      "│   └── func\r\n",
      "│       └── sub-0050965_task-rest_run-1_bold.nii.gz\r\n",
      "├── sub-0050966\r\n",
      "│   ├── anat\r\n",
      "│   │   └── sub-0050966_T1w.nii.gz\r\n",
      "│   └── func\r\n",
      "│       └── sub-0050966_task-rest_run-1_bold.nii.gz\r\n",
      "├── sub-0050967\r\n",
      "│   ├── anat\r\n",
      "│   │   └── sub-0050967_T1w.nii.gz\r\n",
      "│   └── func\r\n",
      "│       └── sub-0050967_task-rest_run-1_bold.nii.gz\r\n",
      "├── sub-0050968\r\n",
      "│   ├── anat\r\n",
      "│   │   └── sub-0050968_T1w.nii.gz\r\n",
      "│   └── func\r\n",
      "│       └── sub-0050968_task-rest_run-1_bold.nii.gz\r\n",
      "├── sub-0050969\r\n",
      "│   ├── anat\r\n",
      "│   │   └── sub-0050969_T1w.nii.gz\r\n",
      "│   └── func\r\n",
      "│       └── sub-0050969_task-rest_run-1_bold.nii.gz\r\n",
      "├── sub-0050970\r\n",
      "│   ├── anat\r\n",
      "│   │   └── sub-0050970_T1w.nii.gz\r\n",
      "│   └── func\r\n",
      "│       └── sub-0050970_task-rest_run-1_bold.nii.gz\r\n",
      "├── sub-0050971\r\n",
      "│   ├── anat\r\n",
      "│   │   └── sub-0050971_T1w.nii.gz\r\n",
      "│   └── func\r\n",
      "│       └── sub-0050971_task-rest_run-1_bold.nii.gz\r\n",
      "├── sub-0050972\r\n",
      "│   ├── anat\r\n",
      "│   │   └── sub-0050972_T1w.nii.gz\r\n",
      "│   └── func\r\n",
      "│       └── sub-0050972_task-rest_run-1_bold.nii.gz\r\n",
      "├── sub-0050973\r\n",
      "│   ├── anat\r\n",
      "│   │   └── sub-0050973_T1w.nii.gz\r\n",
      "│   └── func\r\n",
      "│       └── sub-0050973_task-rest_run-1_bold.nii.gz\r\n",
      "├── sub-0050974\r\n",
      "│   ├── anat\r\n",
      "│   │   └── sub-0050974_T1w.nii.gz\r\n",
      "│   └── func\r\n",
      "│       └── sub-0050974_task-rest_run-1_bold.nii.gz\r\n",
      "├── sub-0050975\r\n",
      "│   ├── anat\r\n",
      "│   │   └── sub-0050975_T1w.nii.gz\r\n",
      "│   └── func\r\n",
      "│       └── sub-0050975_task-rest_run-1_bold.nii.gz\r\n",
      "├── sub-0050976\r\n",
      "│   ├── anat\r\n",
      "│   │   └── sub-0050976_T1w.nii.gz\r\n",
      "│   └── func\r\n",
      "│       └── sub-0050976_task-rest_run-1_bold.nii.gz\r\n",
      "├── sub-0050977\r\n",
      "│   ├── anat\r\n",
      "│   │   └── sub-0050977_T1w.nii.gz\r\n",
      "│   └── func\r\n",
      "│       └── sub-0050977_task-rest_run-1_bold.nii.gz\r\n",
      "├── sub-0050978\r\n",
      "│   ├── anat\r\n",
      "│   │   └── sub-0050978_T1w.nii.gz\r\n",
      "│   └── func\r\n",
      "│       └── sub-0050978_task-rest_run-1_bold.nii.gz\r\n",
      "├── sub-0050979\r\n",
      "│   ├── anat\r\n",
      "│   │   └── sub-0050979_T1w.nii.gz\r\n",
      "│   └── func\r\n",
      "│       └── sub-0050979_task-rest_run-1_bold.nii.gz\r\n",
      "├── sub-0050980\r\n",
      "│   ├── anat\r\n",
      "│   │   └── sub-0050980_T1w.nii.gz\r\n",
      "│   └── func\r\n",
      "│       └── sub-0050980_task-rest_run-1_bold.nii.gz\r\n",
      "├── sub-0050981\r\n",
      "│   ├── anat\r\n",
      "│   │   └── sub-0050981_T1w.nii.gz\r\n",
      "│   └── func\r\n",
      "│       └── sub-0050981_task-rest_run-1_bold.nii.gz\r\n",
      "├── sub-0050982\r\n",
      "│   ├── anat\r\n",
      "│   │   └── sub-0050982_T1w.nii.gz\r\n",
      "│   └── func\r\n",
      "│       └── sub-0050982_task-rest_run-1_bold.nii.gz\r\n",
      "├── sub-0050983\r\n",
      "│   ├── anat\r\n",
      "│   │   └── sub-0050983_T1w.nii.gz\r\n",
      "│   └── func\r\n",
      "│       └── sub-0050983_task-rest_run-1_bold.nii.gz\r\n",
      "├── sub-0050984\r\n",
      "│   ├── anat\r\n",
      "│   │   └── sub-0050984_T1w.nii.gz\r\n",
      "│   └── func\r\n",
      "│       └── sub-0050984_task-rest_run-1_bold.nii.gz\r\n",
      "├── sub-0050985\r\n",
      "│   ├── anat\r\n",
      "│   │   └── sub-0050985_T1w.nii.gz\r\n",
      "│   └── func\r\n",
      "│       └── sub-0050985_task-rest_run-1_bold.nii.gz\r\n",
      "├── sub-0050986\r\n",
      "│   ├── anat\r\n",
      "│   │   └── sub-0050986_T1w.nii.gz\r\n",
      "│   └── func\r\n",
      "│       └── sub-0050986_task-rest_run-1_bold.nii.gz\r\n",
      "├── sub-0050987\r\n",
      "│   ├── anat\r\n",
      "│   │   └── sub-0050987_T1w.nii.gz\r\n",
      "│   └── func\r\n",
      "│       └── sub-0050987_task-rest_run-1_bold.nii.gz\r\n",
      "├── sub-0050988\r\n",
      "│   ├── anat\r\n",
      "│   │   └── sub-0050988_T1w.nii.gz\r\n",
      "│   └── func\r\n",
      "│       └── sub-0050988_task-rest_run-1_bold.nii.gz\r\n",
      "├── sub-0050989\r\n",
      "│   ├── anat\r\n",
      "│   │   └── sub-0050989_T1w.nii.gz\r\n",
      "│   └── func\r\n",
      "│       └── sub-0050989_task-rest_run-1_bold.nii.gz\r\n",
      "├── T1w.json\r\n",
      "└── task-rest_bold.json\r\n",
      "\r\n",
      "111 directories, 77 files\r\n"
     ]
    }
   ],
   "source": [
    "!tree /home/jovyan/work/preprocess/data/ABIDE-BIDS/NYU/"
   ]
  },
  {
   "cell_type": "code",
   "execution_count": 144,
   "metadata": {
    "collapsed": true
   },
   "outputs": [],
   "source": [
    "layout.get_subjects(); # working!Gives us list of all the subjects"
   ]
  },
  {
   "cell_type": "markdown",
   "metadata": {},
   "source": [
    "Create our own custom function - BIDSDataGrabber using a Function Interface."
   ]
  },
  {
   "cell_type": "code",
   "execution_count": 145,
   "metadata": {
    "collapsed": true
   },
   "outputs": [],
   "source": [
    "def get_nifti_filenames(subject_id,data_dir):\n",
    "#     Remember that all the necesary imports need to be INSIDE the function for the Function Interface to work!\n",
    "    from bids.grabbids import BIDSLayout\n",
    "    \n",
    "    layout = BIDSLayout(data_dir)\n",
    "    \n",
    "    func_file_path = [f.filename for f in layout.get(subject=subject_id, type='bold', extensions=['nii', 'nii.gz'])]\n",
    "    \n",
    "    return func_file_path[0]"
   ]
  },
  {
   "cell_type": "markdown",
   "metadata": {},
   "source": [
    "Wrap it inside a Node"
   ]
  },
  {
   "cell_type": "code",
   "execution_count": 146,
   "metadata": {
    "collapsed": true
   },
   "outputs": [],
   "source": [
    "from nipype.pipeline import Node, MapNode, Workflow\n",
    "from nipype.interfaces.utility import IdentityInterface, Function"
   ]
  },
  {
   "cell_type": "code",
   "execution_count": 147,
   "metadata": {
    "collapsed": true
   },
   "outputs": [],
   "source": [
    "BIDSDataGrabber = Node(Function(function=get_nifti_filenames, input_names=['subject_id','data_dir'],\n",
    "                                output_names='func_file_path'), name='BIDSDataGrabber')\n"
   ]
  },
  {
   "cell_type": "code",
   "execution_count": 148,
   "metadata": {
    "collapsed": true
   },
   "outputs": [],
   "source": [
    "# To test the function wrapped in the node\n",
    "\n",
    "# BIDSDataGrabber.inputs.data_dir = '/home/jovyan/work/preprocess/data/ABIDE-BIDS/NYU/'\n",
    "# BIDSDataGrabber.inputs.subject_id = '0050954'\n",
    "# res = BIDSDataGrabber.run()\n",
    "\n",
    "# res.outputs"
   ]
  },
  {
   "cell_type": "markdown",
   "metadata": {},
   "source": [
    "Create Skull striping node"
   ]
  },
  {
   "cell_type": "code",
   "execution_count": 149,
   "metadata": {
    "collapsed": true
   },
   "outputs": [],
   "source": [
    "from nipype.interfaces.fsl import BET #,ExtractROI can be imported to ignore some brain volumes"
   ]
  },
  {
   "cell_type": "code",
   "execution_count": 150,
   "metadata": {
    "collapsed": true
   },
   "outputs": [],
   "source": [
    "skullStrip = Node(BET(mask=True),name='Brain_Extraction_Node') "
   ]
  },
  {
   "cell_type": "markdown",
   "metadata": {},
   "source": [
    "*Note*: Do not include special characters in ```name``` field above coz then  wf.writegraph will cause issues"
   ]
  },
  {
   "cell_type": "code",
   "execution_count": 151,
   "metadata": {
    "collapsed": true
   },
   "outputs": [],
   "source": [
    "# BET.help(); # Useful to see what are the parameters taken by BET"
   ]
  },
  {
   "cell_type": "markdown",
   "metadata": {},
   "source": [
    "Create an IdentityInterface node to Distribute the subjects "
   ]
  },
  {
   "cell_type": "markdown",
   "metadata": {},
   "source": [
    "Create a list of subjects"
   ]
  },
  {
   "cell_type": "code",
   "execution_count": 152,
   "metadata": {
    "collapsed": true
   },
   "outputs": [],
   "source": [
    "\n",
    "subject_list = (layout.get_subjects())[0:3]"
   ]
  },
  {
   "cell_type": "markdown",
   "metadata": {},
   "source": [
    "Create an IdentityInterface Node that helps us to iterate over all the subjects. In this type of node the inputs = outputs that's why its called an identity node. It has an aditional feature that it can iterate over the values a single field can take. In our case we tell it to iterate over field '`subject_id`' and take values given by `subject_list`"
   ]
  },
  {
   "cell_type": "code",
   "execution_count": 153,
   "metadata": {
    "collapsed": true
   },
   "outputs": [],
   "source": [
    "from nipype import IdentityInterface\n",
    "infosource = Node(IdentityInterface(fields=['subject_id','data_dir']),\n",
    "                  name=\"infosource\")\n",
    "infosource.inputs.data_dir = '/home/jovyan/work/preprocess/data/ABIDE-BIDS/NYU/'\n",
    "infosource.iterables = [('subject_id', subject_list)]\n",
    "# Note: Field 'data_dir' stays constant while the field'subject_id' takes on various values \n",
    "#       as there are multiple subjects"
   ]
  },
  {
   "cell_type": "code",
   "execution_count": 154,
   "metadata": {},
   "outputs": [
    {
     "data": {
      "text/plain": [
       "\n",
       "data_dir = <undefined>\n",
       "subject_id = <undefined>"
      ]
     },
     "execution_count": 154,
     "metadata": {},
     "output_type": "execute_result"
    }
   ],
   "source": [
    "infosource.outputs # Checking the outputs of the above created node"
   ]
  },
  {
   "cell_type": "code",
   "execution_count": 155,
   "metadata": {},
   "outputs": [
    {
     "name": "stdout",
     "output_type": "stream",
     "text": [
      "170917-21:53:32,619 workflow INFO:\n",
      "\t Workflow BETFlow settings: ['check', 'execution', 'logging']\n",
      "170917-21:53:32,636 workflow INFO:\n",
      "\t Running in parallel.\n",
      "170917-21:53:32,641 workflow INFO:\n",
      "\t Executing: BIDSDataGrabber.a1 ID: 0\n",
      "170917-21:53:32,645 workflow INFO:\n",
      "\t [Job finished] jobname: BIDSDataGrabber.a1 jobid: 0\n",
      "170917-21:53:32,647 workflow INFO:\n",
      "\t Executing: BIDSDataGrabber.a0 ID: 1\n",
      "170917-21:53:32,650 workflow INFO:\n",
      "\t [Job finished] jobname: BIDSDataGrabber.a0 jobid: 1\n",
      "170917-21:53:32,652 workflow INFO:\n",
      "\t Executing: BIDSDataGrabber.a2 ID: 3\n",
      "170917-21:53:32,654 workflow INFO:\n",
      "\t [Job finished] jobname: BIDSDataGrabber.a2 jobid: 3\n",
      "170917-21:53:32,657 workflow INFO:\n",
      "\t Executing: Brain_Extraction_Node.a0 ID: 2\n",
      "170917-21:53:32,662 workflow INFO:\n",
      "\t [Job finished] jobname: Brain_Extraction_Node.a0 jobid: 2\n",
      "170917-21:53:32,664 workflow INFO:\n",
      "\t Executing: Brain_Extraction_Node.a2 ID: 4\n",
      "170917-21:53:32,669 workflow INFO:\n",
      "\t [Job finished] jobname: Brain_Extraction_Node.a2 jobid: 4\n",
      "170917-21:53:32,671 workflow INFO:\n",
      "\t Executing: Brain_Extraction_Node.a1 ID: 5\n",
      "170917-21:53:32,677 workflow INFO:\n",
      "\t [Job finished] jobname: Brain_Extraction_Node.a1 jobid: 5\n"
     ]
    },
    {
     "data": {
      "text/plain": [
       "<networkx.classes.digraph.DiGraph at 0x7f2cc849b8d0>"
      ]
     },
     "execution_count": 155,
     "metadata": {},
     "output_type": "execute_result"
    }
   ],
   "source": [
    "# Create the workflow\n",
    "wf = Workflow(name=\"BETFlow\")\n",
    "wf.base_dir = \"/home/jovyan/work/preprocess/result\" # Dir where all the outputs will be stored(inside BETFlow folder).\n",
    "\n",
    "wf.connect([(infosource, BIDSDataGrabber, [('data_dir','data_dir'), ('subject_id', 'subject_id'),]),\n",
    "                  (BIDSDataGrabber, skullStrip, [('func_file_path', 'in_file')])\n",
    "                  ])\n",
    "# Run it in parallel (one core for each smoothing kernel)\n",
    "wf.run('MultiProc', plugin_args={'n_procs': 8})"
   ]
  },
  {
   "cell_type": "markdown",
   "metadata": {},
   "source": [
    "### Summary:"
   ]
  },
  {
   "cell_type": "code",
   "execution_count": 156,
   "metadata": {},
   "outputs": [
    {
     "name": "stdout",
     "output_type": "stream",
     "text": [
      "170917-21:53:32,712 workflow INFO:\n",
      "\t Creating detailed dot file: /home/jovyan/work/preprocess/result/BETFlow/graph_detailed.dot\n",
      "170917-21:53:32,873 workflow INFO:\n",
      "\t Creating dot file: /home/jovyan/work/preprocess/result/BETFlow/graph.dot\n"
     ]
    },
    {
     "data": {
      "image/png": "[encoded data removed]",
      "text/plain": [
       "<IPython.core.display.Image object>"
      ]
     },
     "execution_count": 156,
     "metadata": {},
     "output_type": "execute_result"
    }
   ],
   "source": [
    "# Visualize the detailed graph\n",
    "from IPython.display import Image\n",
    "wf.write_graph(graph2use='exec', format='png', simple_form=True)\n",
    "\n",
    "Image(filename='/home/jovyan/work/preprocess/result/BETFlow/graph_detailed.dot.png')"
   ]
  },
  {
   "cell_type": "markdown",
   "metadata": {
    "collapsed": true
   },
   "source": [
    "\n",
    "```\n",
    "wf.connect([(infosource, BIDSDataGrabber, [('data_dir','data_dir'), ('subject_id', 'subject_id'),]),\n",
    "                  (BIDSDataGrabber, skullStrip, [('func_file_path', 'in_file')])\n",
    "                  ])\n",
    "```\n",
    "\n",
    "In the above created workflow the `infosource` node iterates over the `subject_id`, it creates a Node and for each Subject ID it sends `data_dir` (path where the data resides) and the subject specific `subject_id` to `BIDSDataGrabber` Node.\n",
    "\n",
    "`BIDSDataGrabber` Node accepts the above 2 parameters, calls the function `get_nifti_filenames(subject_id,data_dir)`which returns the path of the BOLD file of the subject with given subject_id and hence the Node produces output that I call `func_file_path`.\n",
    "\n",
    "This file path denoted by '``func_file_path``' is then fed as input to BET Node I named as `skullStrip` here, to get the extracted brain image in the directory : `/home/jovyan/work/preprocess/result/BETFlow`\n",
    "\n",
    "\n"
   ]
  },
  {
   "cell_type": "code",
   "execution_count": null,
   "metadata": {
    "collapsed": true
   },
   "outputs": [],
   "source": []
  }
 ],
 "metadata": {
  "kernelspec": {
   "display_name": "Python [conda env:python2]",
   "language": "python",
   "name": "conda-env-python2-py"
  },
  "language_info": {
   "codemirror_mode": {
    "name": "ipython",
    "version": 2
   },
   "file_extension": ".py",
   "mimetype": "text/x-python",
   "name": "python",
   "nbconvert_exporter": "python",
   "pygments_lexer": "ipython2",
   "version": "2.7.13"
  }
 },
 "nbformat": 4,
 "nbformat_minor": 2
}
